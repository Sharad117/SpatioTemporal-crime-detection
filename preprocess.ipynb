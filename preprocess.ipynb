{
 "cells": [
  {
   "cell_type": "code",
   "execution_count": 141,
   "metadata": {},
   "outputs": [],
   "source": [
    "import pandas as pd\n",
    "import matplotlib.pyplot as plt\n",
    "import numpy as np"
   ]
  },
  {
   "cell_type": "code",
   "execution_count": 68,
   "metadata": {},
   "outputs": [
    {
     "name": "stderr",
     "output_type": "stream",
     "text": [
      "C:\\Users\\roshni\\AppData\\Local\\Temp\\ipykernel_5776\\2082674159.py:1: DtypeWarning: Columns (17) have mixed types. Specify dtype option on import or set low_memory=False.\n",
      "  data=pd.read_csv(r'dataset\\NYPD_Complaint_Data_Historic.csv')\n"
     ]
    }
   ],
   "source": [
    "data=pd.read_csv(r'dataset\\NYPD_Complaint_Data_Historic.csv')"
   ]
  },
  {
   "cell_type": "code",
   "execution_count": 69,
   "metadata": {},
   "outputs": [
    {
     "data": {
      "text/plain": [
       "CMPLNT_NUM                                101109527\n",
       "CMPLNT_FR_DT                             12/31/2015\n",
       "CMPLNT_FR_TM                               23:45:00\n",
       "CMPLNT_TO_DT                                    NaN\n",
       "CMPLNT_TO_TM                                    NaN\n",
       "RPT_DT                                   12/31/2015\n",
       "KY_CD                                           113\n",
       "OFNS_DESC                                   FORGERY\n",
       "PD_CD                                         729.0\n",
       "PD_DESC              FORGERY,ETC.,UNCLASSIFIED-FELO\n",
       "CRM_ATPT_CPTD_CD                          COMPLETED\n",
       "LAW_CAT_CD                                   FELONY\n",
       "JURIS_DESC                         N.Y. POLICE DEPT\n",
       "BORO_NM                                       BRONX\n",
       "ADDR_PCT_CD                                    44.0\n",
       "LOC_OF_OCCUR_DESC                            INSIDE\n",
       "PREM_TYP_DESC                        BAR/NIGHT CLUB\n",
       "PARKS_NM                                        NaN\n",
       "HADEVELOPT                                      NaN\n",
       "X_COORD_CD                                1007314.0\n",
       "Y_COORD_CD                                 241257.0\n",
       "Latitude                                  40.828848\n",
       "Longitude                                -73.916661\n",
       "Lat_Lon               (40.828848333, -73.916661142)\n",
       "Name: 0, dtype: object"
      ]
     },
     "execution_count": 69,
     "metadata": {},
     "output_type": "execute_result"
    }
   ],
   "source": [
    "data.iloc[0]"
   ]
  },
  {
   "cell_type": "code",
   "execution_count": 70,
   "metadata": {},
   "outputs": [],
   "source": [
    "desc= pd.read_csv(r'dataset\\Crime_Column_Description.csv')"
   ]
  },
  {
   "cell_type": "code",
   "execution_count": 71,
   "metadata": {},
   "outputs": [
    {
     "data": {
      "text/html": [
       "<div>\n",
       "<style scoped>\n",
       "    .dataframe tbody tr th:only-of-type {\n",
       "        vertical-align: middle;\n",
       "    }\n",
       "\n",
       "    .dataframe tbody tr th {\n",
       "        vertical-align: top;\n",
       "    }\n",
       "\n",
       "    .dataframe thead th {\n",
       "        text-align: right;\n",
       "    }\n",
       "</style>\n",
       "<table border=\"1\" class=\"dataframe\">\n",
       "  <thead>\n",
       "    <tr style=\"text-align: right;\">\n",
       "      <th></th>\n",
       "      <th>Column</th>\n",
       "      <th>Description</th>\n",
       "    </tr>\n",
       "  </thead>\n",
       "  <tbody>\n",
       "    <tr>\n",
       "      <th>0</th>\n",
       "      <td>CMPLNT_NUM</td>\n",
       "      <td>Randomly generated persistent ID for each comp...</td>\n",
       "    </tr>\n",
       "    <tr>\n",
       "      <th>1</th>\n",
       "      <td>CMPLNT_FR_DT</td>\n",
       "      <td>Exact date of occurrence for the reported even...</td>\n",
       "    </tr>\n",
       "    <tr>\n",
       "      <th>2</th>\n",
       "      <td>CMPLNT_FR_TM</td>\n",
       "      <td>Exact time of occurrence for the reported even...</td>\n",
       "    </tr>\n",
       "    <tr>\n",
       "      <th>3</th>\n",
       "      <td>CMPLNT_TO_DT</td>\n",
       "      <td>Ending date of occurrence for the reported eve...</td>\n",
       "    </tr>\n",
       "    <tr>\n",
       "      <th>4</th>\n",
       "      <td>CMPLNT_TO_TM</td>\n",
       "      <td>Ending time of occurrence for the reported eve...</td>\n",
       "    </tr>\n",
       "    <tr>\n",
       "      <th>5</th>\n",
       "      <td>RPT_DT</td>\n",
       "      <td>Date event was reported to police</td>\n",
       "    </tr>\n",
       "    <tr>\n",
       "      <th>6</th>\n",
       "      <td>KY_CD</td>\n",
       "      <td>Three digit offense classification code</td>\n",
       "    </tr>\n",
       "    <tr>\n",
       "      <th>7</th>\n",
       "      <td>OFNS_DESC</td>\n",
       "      <td>Description of offense corresponding with key ...</td>\n",
       "    </tr>\n",
       "    <tr>\n",
       "      <th>8</th>\n",
       "      <td>PD_CD</td>\n",
       "      <td>Three digit internal classification code (more...</td>\n",
       "    </tr>\n",
       "    <tr>\n",
       "      <th>9</th>\n",
       "      <td>PD_DESC</td>\n",
       "      <td>Description of internal classification corresp...</td>\n",
       "    </tr>\n",
       "    <tr>\n",
       "      <th>10</th>\n",
       "      <td>CRM_ATPT_CPTD_CD</td>\n",
       "      <td>Indicator of whether crime was successfully co...</td>\n",
       "    </tr>\n",
       "    <tr>\n",
       "      <th>11</th>\n",
       "      <td>LAW_CAT_CD</td>\n",
       "      <td>Level of offense: felony, misdemeanor, violation</td>\n",
       "    </tr>\n",
       "    <tr>\n",
       "      <th>12</th>\n",
       "      <td>JURIS_DESC</td>\n",
       "      <td>Jurisdiction responsible for incident. Either ...</td>\n",
       "    </tr>\n",
       "    <tr>\n",
       "      <th>13</th>\n",
       "      <td>BORO_NM</td>\n",
       "      <td>The name of the borough in which the incident ...</td>\n",
       "    </tr>\n",
       "    <tr>\n",
       "      <th>14</th>\n",
       "      <td>ADDR_PCT_CD</td>\n",
       "      <td>The precinct in which the incident occurred</td>\n",
       "    </tr>\n",
       "    <tr>\n",
       "      <th>15</th>\n",
       "      <td>LOC_OF_OCCUR_DESC</td>\n",
       "      <td>Specific location of occurrence in or around t...</td>\n",
       "    </tr>\n",
       "    <tr>\n",
       "      <th>16</th>\n",
       "      <td>PREM_TYP_DESC</td>\n",
       "      <td>Specific description of premises; grocery stor...</td>\n",
       "    </tr>\n",
       "    <tr>\n",
       "      <th>17</th>\n",
       "      <td>PARKS_NM</td>\n",
       "      <td>Name of NYC park, playground or greenspace of ...</td>\n",
       "    </tr>\n",
       "    <tr>\n",
       "      <th>18</th>\n",
       "      <td>HADEVELOPT</td>\n",
       "      <td>Name of NYCHA housing development of occurrenc...</td>\n",
       "    </tr>\n",
       "    <tr>\n",
       "      <th>19</th>\n",
       "      <td>X_COORD_CD</td>\n",
       "      <td>X-coordinate for New York State Plane Coordina...</td>\n",
       "    </tr>\n",
       "    <tr>\n",
       "      <th>20</th>\n",
       "      <td>Y_COORD_CD</td>\n",
       "      <td>Y-coordinate for New York State Plane Coordina...</td>\n",
       "    </tr>\n",
       "    <tr>\n",
       "      <th>21</th>\n",
       "      <td>Latitude</td>\n",
       "      <td>Latitude coordinate for Global Coordinate Syst...</td>\n",
       "    </tr>\n",
       "    <tr>\n",
       "      <th>22</th>\n",
       "      <td>Longitude</td>\n",
       "      <td>Longitude coordinate for Global Coordinate Sys...</td>\n",
       "    </tr>\n",
       "  </tbody>\n",
       "</table>\n",
       "</div>"
      ],
      "text/plain": [
       "               Column                                        Description\n",
       "0          CMPLNT_NUM  Randomly generated persistent ID for each comp...\n",
       "1        CMPLNT_FR_DT  Exact date of occurrence for the reported even...\n",
       "2        CMPLNT_FR_TM  Exact time of occurrence for the reported even...\n",
       "3        CMPLNT_TO_DT  Ending date of occurrence for the reported eve...\n",
       "4        CMPLNT_TO_TM  Ending time of occurrence for the reported eve...\n",
       "5              RPT_DT                 Date event was reported to police \n",
       "6               KY_CD            Three digit offense classification code\n",
       "7           OFNS_DESC  Description of offense corresponding with key ...\n",
       "8               PD_CD  Three digit internal classification code (more...\n",
       "9             PD_DESC  Description of internal classification corresp...\n",
       "10   CRM_ATPT_CPTD_CD  Indicator of whether crime was successfully co...\n",
       "11         LAW_CAT_CD  Level of offense: felony, misdemeanor, violation \n",
       "12         JURIS_DESC  Jurisdiction responsible for incident. Either ...\n",
       "13            BORO_NM  The name of the borough in which the incident ...\n",
       "14        ADDR_PCT_CD        The precinct in which the incident occurred\n",
       "15  LOC_OF_OCCUR_DESC  Specific location of occurrence in or around t...\n",
       "16      PREM_TYP_DESC  Specific description of premises; grocery stor...\n",
       "17           PARKS_NM  Name of NYC park, playground or greenspace of ...\n",
       "18         HADEVELOPT  Name of NYCHA housing development of occurrenc...\n",
       "19         X_COORD_CD  X-coordinate for New York State Plane Coordina...\n",
       "20         Y_COORD_CD  Y-coordinate for New York State Plane Coordina...\n",
       "21           Latitude  Latitude coordinate for Global Coordinate Syst...\n",
       "22          Longitude  Longitude coordinate for Global Coordinate Sys..."
      ]
     },
     "execution_count": 71,
     "metadata": {},
     "output_type": "execute_result"
    }
   ],
   "source": [
    "desc"
   ]
  },
  {
   "cell_type": "code",
   "execution_count": 72,
   "metadata": {},
   "outputs": [],
   "source": [
    "data=data.drop(['CMPLNT_NUM','CMPLNT_TO_DT','CMPLNT_TO_TM','PD_CD','PD_DESC','LOC_OF_OCCUR_DESC','PREM_TYP_DESC','PARKS_NM','HADEVELOPT','X_COORD_CD','Y_COORD_CD','Lat_Lon'],axis=1)"
   ]
  },
  {
   "cell_type": "code",
   "execution_count": 73,
   "metadata": {},
   "outputs": [
    {
     "data": {
      "text/html": [
       "<div>\n",
       "<style scoped>\n",
       "    .dataframe tbody tr th:only-of-type {\n",
       "        vertical-align: middle;\n",
       "    }\n",
       "\n",
       "    .dataframe tbody tr th {\n",
       "        vertical-align: top;\n",
       "    }\n",
       "\n",
       "    .dataframe thead th {\n",
       "        text-align: right;\n",
       "    }\n",
       "</style>\n",
       "<table border=\"1\" class=\"dataframe\">\n",
       "  <thead>\n",
       "    <tr style=\"text-align: right;\">\n",
       "      <th></th>\n",
       "      <th>CMPLNT_FR_DT</th>\n",
       "      <th>CMPLNT_FR_TM</th>\n",
       "      <th>RPT_DT</th>\n",
       "      <th>KY_CD</th>\n",
       "      <th>OFNS_DESC</th>\n",
       "      <th>CRM_ATPT_CPTD_CD</th>\n",
       "      <th>LAW_CAT_CD</th>\n",
       "      <th>JURIS_DESC</th>\n",
       "      <th>BORO_NM</th>\n",
       "      <th>ADDR_PCT_CD</th>\n",
       "      <th>Latitude</th>\n",
       "      <th>Longitude</th>\n",
       "    </tr>\n",
       "  </thead>\n",
       "  <tbody>\n",
       "    <tr>\n",
       "      <th>0</th>\n",
       "      <td>12/31/2015</td>\n",
       "      <td>23:45:00</td>\n",
       "      <td>12/31/2015</td>\n",
       "      <td>113</td>\n",
       "      <td>FORGERY</td>\n",
       "      <td>COMPLETED</td>\n",
       "      <td>FELONY</td>\n",
       "      <td>N.Y. POLICE DEPT</td>\n",
       "      <td>BRONX</td>\n",
       "      <td>44.0</td>\n",
       "      <td>40.828848</td>\n",
       "      <td>-73.916661</td>\n",
       "    </tr>\n",
       "    <tr>\n",
       "      <th>1</th>\n",
       "      <td>12/31/2015</td>\n",
       "      <td>23:36:00</td>\n",
       "      <td>12/31/2015</td>\n",
       "      <td>101</td>\n",
       "      <td>MURDER &amp; NON-NEGL. MANSLAUGHTER</td>\n",
       "      <td>COMPLETED</td>\n",
       "      <td>FELONY</td>\n",
       "      <td>N.Y. POLICE DEPT</td>\n",
       "      <td>QUEENS</td>\n",
       "      <td>103.0</td>\n",
       "      <td>40.697338</td>\n",
       "      <td>-73.784557</td>\n",
       "    </tr>\n",
       "    <tr>\n",
       "      <th>2</th>\n",
       "      <td>12/31/2015</td>\n",
       "      <td>23:30:00</td>\n",
       "      <td>12/31/2015</td>\n",
       "      <td>117</td>\n",
       "      <td>DANGEROUS DRUGS</td>\n",
       "      <td>COMPLETED</td>\n",
       "      <td>FELONY</td>\n",
       "      <td>N.Y. POLICE DEPT</td>\n",
       "      <td>MANHATTAN</td>\n",
       "      <td>28.0</td>\n",
       "      <td>40.802607</td>\n",
       "      <td>-73.945052</td>\n",
       "    </tr>\n",
       "    <tr>\n",
       "      <th>3</th>\n",
       "      <td>12/31/2015</td>\n",
       "      <td>23:30:00</td>\n",
       "      <td>12/31/2015</td>\n",
       "      <td>344</td>\n",
       "      <td>ASSAULT 3 &amp; RELATED OFFENSES</td>\n",
       "      <td>COMPLETED</td>\n",
       "      <td>MISDEMEANOR</td>\n",
       "      <td>N.Y. POLICE DEPT</td>\n",
       "      <td>QUEENS</td>\n",
       "      <td>105.0</td>\n",
       "      <td>40.654549</td>\n",
       "      <td>-73.726339</td>\n",
       "    </tr>\n",
       "    <tr>\n",
       "      <th>4</th>\n",
       "      <td>12/31/2015</td>\n",
       "      <td>23:25:00</td>\n",
       "      <td>12/31/2015</td>\n",
       "      <td>344</td>\n",
       "      <td>ASSAULT 3 &amp; RELATED OFFENSES</td>\n",
       "      <td>COMPLETED</td>\n",
       "      <td>MISDEMEANOR</td>\n",
       "      <td>N.Y. POLICE DEPT</td>\n",
       "      <td>MANHATTAN</td>\n",
       "      <td>13.0</td>\n",
       "      <td>40.738002</td>\n",
       "      <td>-73.987891</td>\n",
       "    </tr>\n",
       "  </tbody>\n",
       "</table>\n",
       "</div>"
      ],
      "text/plain": [
       "  CMPLNT_FR_DT CMPLNT_FR_TM      RPT_DT  KY_CD  \\\n",
       "0   12/31/2015     23:45:00  12/31/2015    113   \n",
       "1   12/31/2015     23:36:00  12/31/2015    101   \n",
       "2   12/31/2015     23:30:00  12/31/2015    117   \n",
       "3   12/31/2015     23:30:00  12/31/2015    344   \n",
       "4   12/31/2015     23:25:00  12/31/2015    344   \n",
       "\n",
       "                         OFNS_DESC CRM_ATPT_CPTD_CD   LAW_CAT_CD  \\\n",
       "0                          FORGERY        COMPLETED       FELONY   \n",
       "1  MURDER & NON-NEGL. MANSLAUGHTER        COMPLETED       FELONY   \n",
       "2                  DANGEROUS DRUGS        COMPLETED       FELONY   \n",
       "3     ASSAULT 3 & RELATED OFFENSES        COMPLETED  MISDEMEANOR   \n",
       "4     ASSAULT 3 & RELATED OFFENSES        COMPLETED  MISDEMEANOR   \n",
       "\n",
       "         JURIS_DESC    BORO_NM  ADDR_PCT_CD   Latitude  Longitude  \n",
       "0  N.Y. POLICE DEPT      BRONX         44.0  40.828848 -73.916661  \n",
       "1  N.Y. POLICE DEPT     QUEENS        103.0  40.697338 -73.784557  \n",
       "2  N.Y. POLICE DEPT  MANHATTAN         28.0  40.802607 -73.945052  \n",
       "3  N.Y. POLICE DEPT     QUEENS        105.0  40.654549 -73.726339  \n",
       "4  N.Y. POLICE DEPT  MANHATTAN         13.0  40.738002 -73.987891  "
      ]
     },
     "execution_count": 73,
     "metadata": {},
     "output_type": "execute_result"
    }
   ],
   "source": [
    "data.head()"
   ]
  },
  {
   "cell_type": "markdown",
   "metadata": {},
   "source": [
    "# Checking for NaN (missing) values"
   ]
  },
  {
   "cell_type": "code",
   "execution_count": 74,
   "metadata": {},
   "outputs": [
    {
     "data": {
      "text/plain": [
       "np.int64(32417)"
      ]
     },
     "execution_count": 74,
     "metadata": {},
     "output_type": "execute_result"
    }
   ],
   "source": [
    "data['Longitude'].isna().sum()"
   ]
  },
  {
   "cell_type": "code",
   "execution_count": 75,
   "metadata": {},
   "outputs": [
    {
     "data": {
      "text/plain": [
       "np.int64(32417)"
      ]
     },
     "execution_count": 75,
     "metadata": {},
     "output_type": "execute_result"
    }
   ],
   "source": [
    "data['Latitude'].isna().sum()"
   ]
  },
  {
   "cell_type": "code",
   "execution_count": 76,
   "metadata": {},
   "outputs": [
    {
     "data": {
      "text/plain": [
       "np.int64(1)"
      ]
     },
     "execution_count": 76,
     "metadata": {},
     "output_type": "execute_result"
    }
   ],
   "source": [
    "data['ADDR_PCT_CD'].isna().sum()"
   ]
  },
  {
   "cell_type": "code",
   "execution_count": 77,
   "metadata": {},
   "outputs": [
    {
     "data": {
      "text/plain": [
       "np.int64(0)"
      ]
     },
     "execution_count": 77,
     "metadata": {},
     "output_type": "execute_result"
    }
   ],
   "source": [
    "data['BORO_NM'].isna().sum()    "
   ]
  },
  {
   "cell_type": "code",
   "execution_count": 78,
   "metadata": {},
   "outputs": [
    {
     "data": {
      "text/plain": [
       "np.int64(0)"
      ]
     },
     "execution_count": 78,
     "metadata": {},
     "output_type": "execute_result"
    }
   ],
   "source": [
    "data['JURIS_DESC'].isna().sum()"
   ]
  },
  {
   "cell_type": "code",
   "execution_count": 79,
   "metadata": {},
   "outputs": [
    {
     "data": {
      "text/plain": [
       "np.int64(1)"
      ]
     },
     "execution_count": 79,
     "metadata": {},
     "output_type": "execute_result"
    }
   ],
   "source": [
    "data['CRM_ATPT_CPTD_CD'].isna().sum()"
   ]
  },
  {
   "cell_type": "code",
   "execution_count": 80,
   "metadata": {},
   "outputs": [
    {
     "data": {
      "text/plain": [
       "np.int64(2880)"
      ]
     },
     "execution_count": 80,
     "metadata": {},
     "output_type": "execute_result"
    }
   ],
   "source": [
    "data['OFNS_DESC'].isna().sum()  "
   ]
  },
  {
   "cell_type": "code",
   "execution_count": 81,
   "metadata": {},
   "outputs": [
    {
     "data": {
      "text/plain": [
       "np.int64(0)"
      ]
     },
     "execution_count": 81,
     "metadata": {},
     "output_type": "execute_result"
    }
   ],
   "source": [
    "data['KY_CD'].isna().sum()"
   ]
  },
  {
   "cell_type": "code",
   "execution_count": 82,
   "metadata": {},
   "outputs": [
    {
     "data": {
      "text/plain": [
       "np.int64(0)"
      ]
     },
     "execution_count": 82,
     "metadata": {},
     "output_type": "execute_result"
    }
   ],
   "source": [
    "data['RPT_DT'].isna().sum() "
   ]
  },
  {
   "cell_type": "code",
   "execution_count": 83,
   "metadata": {},
   "outputs": [
    {
     "data": {
      "text/plain": [
       "np.int64(65)"
      ]
     },
     "execution_count": 83,
     "metadata": {},
     "output_type": "execute_result"
    }
   ],
   "source": [
    "data['CMPLNT_FR_DT'].isna().sum()"
   ]
  },
  {
   "cell_type": "code",
   "execution_count": 84,
   "metadata": {},
   "outputs": [
    {
     "data": {
      "text/plain": [
       "np.int64(0)"
      ]
     },
     "execution_count": 84,
     "metadata": {},
     "output_type": "execute_result"
    }
   ],
   "source": [
    "data['CMPLNT_FR_TM'].isna().sum()\n"
   ]
  },
  {
   "cell_type": "code",
   "execution_count": 85,
   "metadata": {},
   "outputs": [
    {
     "data": {
      "text/html": [
       "<div>\n",
       "<style scoped>\n",
       "    .dataframe tbody tr th:only-of-type {\n",
       "        vertical-align: middle;\n",
       "    }\n",
       "\n",
       "    .dataframe tbody tr th {\n",
       "        vertical-align: top;\n",
       "    }\n",
       "\n",
       "    .dataframe thead th {\n",
       "        text-align: right;\n",
       "    }\n",
       "</style>\n",
       "<table border=\"1\" class=\"dataframe\">\n",
       "  <thead>\n",
       "    <tr style=\"text-align: right;\">\n",
       "      <th></th>\n",
       "      <th>CMPLNT_FR_DT</th>\n",
       "      <th>CMPLNT_FR_TM</th>\n",
       "      <th>RPT_DT</th>\n",
       "      <th>KY_CD</th>\n",
       "      <th>OFNS_DESC</th>\n",
       "      <th>CRM_ATPT_CPTD_CD</th>\n",
       "      <th>LAW_CAT_CD</th>\n",
       "      <th>JURIS_DESC</th>\n",
       "      <th>BORO_NM</th>\n",
       "      <th>ADDR_PCT_CD</th>\n",
       "      <th>Latitude</th>\n",
       "      <th>Longitude</th>\n",
       "    </tr>\n",
       "  </thead>\n",
       "  <tbody>\n",
       "    <tr>\n",
       "      <th>0</th>\n",
       "      <td>12/31/2015</td>\n",
       "      <td>23:45:00</td>\n",
       "      <td>12/31/2015</td>\n",
       "      <td>113</td>\n",
       "      <td>FORGERY</td>\n",
       "      <td>COMPLETED</td>\n",
       "      <td>FELONY</td>\n",
       "      <td>N.Y. POLICE DEPT</td>\n",
       "      <td>BRONX</td>\n",
       "      <td>44.0</td>\n",
       "      <td>40.828848</td>\n",
       "      <td>-73.916661</td>\n",
       "    </tr>\n",
       "    <tr>\n",
       "      <th>1</th>\n",
       "      <td>12/31/2015</td>\n",
       "      <td>23:36:00</td>\n",
       "      <td>12/31/2015</td>\n",
       "      <td>101</td>\n",
       "      <td>MURDER &amp; NON-NEGL. MANSLAUGHTER</td>\n",
       "      <td>COMPLETED</td>\n",
       "      <td>FELONY</td>\n",
       "      <td>N.Y. POLICE DEPT</td>\n",
       "      <td>QUEENS</td>\n",
       "      <td>103.0</td>\n",
       "      <td>40.697338</td>\n",
       "      <td>-73.784557</td>\n",
       "    </tr>\n",
       "    <tr>\n",
       "      <th>2</th>\n",
       "      <td>12/31/2015</td>\n",
       "      <td>23:30:00</td>\n",
       "      <td>12/31/2015</td>\n",
       "      <td>117</td>\n",
       "      <td>DANGEROUS DRUGS</td>\n",
       "      <td>COMPLETED</td>\n",
       "      <td>FELONY</td>\n",
       "      <td>N.Y. POLICE DEPT</td>\n",
       "      <td>MANHATTAN</td>\n",
       "      <td>28.0</td>\n",
       "      <td>40.802607</td>\n",
       "      <td>-73.945052</td>\n",
       "    </tr>\n",
       "    <tr>\n",
       "      <th>3</th>\n",
       "      <td>12/31/2015</td>\n",
       "      <td>23:30:00</td>\n",
       "      <td>12/31/2015</td>\n",
       "      <td>344</td>\n",
       "      <td>ASSAULT 3 &amp; RELATED OFFENSES</td>\n",
       "      <td>COMPLETED</td>\n",
       "      <td>MISDEMEANOR</td>\n",
       "      <td>N.Y. POLICE DEPT</td>\n",
       "      <td>QUEENS</td>\n",
       "      <td>105.0</td>\n",
       "      <td>40.654549</td>\n",
       "      <td>-73.726339</td>\n",
       "    </tr>\n",
       "    <tr>\n",
       "      <th>4</th>\n",
       "      <td>12/31/2015</td>\n",
       "      <td>23:25:00</td>\n",
       "      <td>12/31/2015</td>\n",
       "      <td>344</td>\n",
       "      <td>ASSAULT 3 &amp; RELATED OFFENSES</td>\n",
       "      <td>COMPLETED</td>\n",
       "      <td>MISDEMEANOR</td>\n",
       "      <td>N.Y. POLICE DEPT</td>\n",
       "      <td>MANHATTAN</td>\n",
       "      <td>13.0</td>\n",
       "      <td>40.738002</td>\n",
       "      <td>-73.987891</td>\n",
       "    </tr>\n",
       "  </tbody>\n",
       "</table>\n",
       "</div>"
      ],
      "text/plain": [
       "  CMPLNT_FR_DT CMPLNT_FR_TM      RPT_DT  KY_CD  \\\n",
       "0   12/31/2015     23:45:00  12/31/2015    113   \n",
       "1   12/31/2015     23:36:00  12/31/2015    101   \n",
       "2   12/31/2015     23:30:00  12/31/2015    117   \n",
       "3   12/31/2015     23:30:00  12/31/2015    344   \n",
       "4   12/31/2015     23:25:00  12/31/2015    344   \n",
       "\n",
       "                         OFNS_DESC CRM_ATPT_CPTD_CD   LAW_CAT_CD  \\\n",
       "0                          FORGERY        COMPLETED       FELONY   \n",
       "1  MURDER & NON-NEGL. MANSLAUGHTER        COMPLETED       FELONY   \n",
       "2                  DANGEROUS DRUGS        COMPLETED       FELONY   \n",
       "3     ASSAULT 3 & RELATED OFFENSES        COMPLETED  MISDEMEANOR   \n",
       "4     ASSAULT 3 & RELATED OFFENSES        COMPLETED  MISDEMEANOR   \n",
       "\n",
       "         JURIS_DESC    BORO_NM  ADDR_PCT_CD   Latitude  Longitude  \n",
       "0  N.Y. POLICE DEPT      BRONX         44.0  40.828848 -73.916661  \n",
       "1  N.Y. POLICE DEPT     QUEENS        103.0  40.697338 -73.784557  \n",
       "2  N.Y. POLICE DEPT  MANHATTAN         28.0  40.802607 -73.945052  \n",
       "3  N.Y. POLICE DEPT     QUEENS        105.0  40.654549 -73.726339  \n",
       "4  N.Y. POLICE DEPT  MANHATTAN         13.0  40.738002 -73.987891  "
      ]
     },
     "execution_count": 85,
     "metadata": {},
     "output_type": "execute_result"
    }
   ],
   "source": [
    "data.head()"
   ]
  },
  {
   "cell_type": "code",
   "execution_count": 86,
   "metadata": {},
   "outputs": [],
   "source": [
    "data.dropna(axis=0,inplace=True)"
   ]
  },
  {
   "cell_type": "code",
   "execution_count": 87,
   "metadata": {},
   "outputs": [
    {
     "data": {
      "text/plain": [
       "(1013303, 12)"
      ]
     },
     "execution_count": 87,
     "metadata": {},
     "output_type": "execute_result"
    }
   ],
   "source": [
    "data.shape"
   ]
  },
  {
   "cell_type": "code",
   "execution_count": 88,
   "metadata": {},
   "outputs": [],
   "source": [
    "data['CMPLNT_FR_DT'] = pd.to_datetime(data['CMPLNT_FR_DT'], errors='coerce', format='%m/%d/%Y')\n",
    "# data['CMPLNT_FR_TM']=pd.to_datetime(data['CMPLNT_FR_TM'],errors='coerce',format='%H:%M:%S')\n",
    "data['RPT_DT'] = pd.to_datetime(data['RPT_DT'], errors='coerce', format='%m/%d/%Y')\n"
   ]
  },
  {
   "cell_type": "code",
   "execution_count": 89,
   "metadata": {},
   "outputs": [
    {
     "data": {
      "text/html": [
       "<div>\n",
       "<style scoped>\n",
       "    .dataframe tbody tr th:only-of-type {\n",
       "        vertical-align: middle;\n",
       "    }\n",
       "\n",
       "    .dataframe tbody tr th {\n",
       "        vertical-align: top;\n",
       "    }\n",
       "\n",
       "    .dataframe thead th {\n",
       "        text-align: right;\n",
       "    }\n",
       "</style>\n",
       "<table border=\"1\" class=\"dataframe\">\n",
       "  <thead>\n",
       "    <tr style=\"text-align: right;\">\n",
       "      <th></th>\n",
       "      <th>CMPLNT_FR_DT</th>\n",
       "      <th>CMPLNT_FR_TM</th>\n",
       "      <th>RPT_DT</th>\n",
       "      <th>KY_CD</th>\n",
       "      <th>OFNS_DESC</th>\n",
       "      <th>CRM_ATPT_CPTD_CD</th>\n",
       "      <th>LAW_CAT_CD</th>\n",
       "      <th>JURIS_DESC</th>\n",
       "      <th>BORO_NM</th>\n",
       "      <th>ADDR_PCT_CD</th>\n",
       "      <th>Latitude</th>\n",
       "      <th>Longitude</th>\n",
       "    </tr>\n",
       "  </thead>\n",
       "  <tbody>\n",
       "    <tr>\n",
       "      <th>0</th>\n",
       "      <td>2015-12-31</td>\n",
       "      <td>23:45:00</td>\n",
       "      <td>2015-12-31</td>\n",
       "      <td>113</td>\n",
       "      <td>FORGERY</td>\n",
       "      <td>COMPLETED</td>\n",
       "      <td>FELONY</td>\n",
       "      <td>N.Y. POLICE DEPT</td>\n",
       "      <td>BRONX</td>\n",
       "      <td>44.0</td>\n",
       "      <td>40.828848</td>\n",
       "      <td>-73.916661</td>\n",
       "    </tr>\n",
       "    <tr>\n",
       "      <th>1</th>\n",
       "      <td>2015-12-31</td>\n",
       "      <td>23:36:00</td>\n",
       "      <td>2015-12-31</td>\n",
       "      <td>101</td>\n",
       "      <td>MURDER &amp; NON-NEGL. MANSLAUGHTER</td>\n",
       "      <td>COMPLETED</td>\n",
       "      <td>FELONY</td>\n",
       "      <td>N.Y. POLICE DEPT</td>\n",
       "      <td>QUEENS</td>\n",
       "      <td>103.0</td>\n",
       "      <td>40.697338</td>\n",
       "      <td>-73.784557</td>\n",
       "    </tr>\n",
       "    <tr>\n",
       "      <th>2</th>\n",
       "      <td>2015-12-31</td>\n",
       "      <td>23:30:00</td>\n",
       "      <td>2015-12-31</td>\n",
       "      <td>117</td>\n",
       "      <td>DANGEROUS DRUGS</td>\n",
       "      <td>COMPLETED</td>\n",
       "      <td>FELONY</td>\n",
       "      <td>N.Y. POLICE DEPT</td>\n",
       "      <td>MANHATTAN</td>\n",
       "      <td>28.0</td>\n",
       "      <td>40.802607</td>\n",
       "      <td>-73.945052</td>\n",
       "    </tr>\n",
       "    <tr>\n",
       "      <th>3</th>\n",
       "      <td>2015-12-31</td>\n",
       "      <td>23:30:00</td>\n",
       "      <td>2015-12-31</td>\n",
       "      <td>344</td>\n",
       "      <td>ASSAULT 3 &amp; RELATED OFFENSES</td>\n",
       "      <td>COMPLETED</td>\n",
       "      <td>MISDEMEANOR</td>\n",
       "      <td>N.Y. POLICE DEPT</td>\n",
       "      <td>QUEENS</td>\n",
       "      <td>105.0</td>\n",
       "      <td>40.654549</td>\n",
       "      <td>-73.726339</td>\n",
       "    </tr>\n",
       "    <tr>\n",
       "      <th>4</th>\n",
       "      <td>2015-12-31</td>\n",
       "      <td>23:25:00</td>\n",
       "      <td>2015-12-31</td>\n",
       "      <td>344</td>\n",
       "      <td>ASSAULT 3 &amp; RELATED OFFENSES</td>\n",
       "      <td>COMPLETED</td>\n",
       "      <td>MISDEMEANOR</td>\n",
       "      <td>N.Y. POLICE DEPT</td>\n",
       "      <td>MANHATTAN</td>\n",
       "      <td>13.0</td>\n",
       "      <td>40.738002</td>\n",
       "      <td>-73.987891</td>\n",
       "    </tr>\n",
       "  </tbody>\n",
       "</table>\n",
       "</div>"
      ],
      "text/plain": [
       "  CMPLNT_FR_DT CMPLNT_FR_TM     RPT_DT  KY_CD  \\\n",
       "0   2015-12-31     23:45:00 2015-12-31    113   \n",
       "1   2015-12-31     23:36:00 2015-12-31    101   \n",
       "2   2015-12-31     23:30:00 2015-12-31    117   \n",
       "3   2015-12-31     23:30:00 2015-12-31    344   \n",
       "4   2015-12-31     23:25:00 2015-12-31    344   \n",
       "\n",
       "                         OFNS_DESC CRM_ATPT_CPTD_CD   LAW_CAT_CD  \\\n",
       "0                          FORGERY        COMPLETED       FELONY   \n",
       "1  MURDER & NON-NEGL. MANSLAUGHTER        COMPLETED       FELONY   \n",
       "2                  DANGEROUS DRUGS        COMPLETED       FELONY   \n",
       "3     ASSAULT 3 & RELATED OFFENSES        COMPLETED  MISDEMEANOR   \n",
       "4     ASSAULT 3 & RELATED OFFENSES        COMPLETED  MISDEMEANOR   \n",
       "\n",
       "         JURIS_DESC    BORO_NM  ADDR_PCT_CD   Latitude  Longitude  \n",
       "0  N.Y. POLICE DEPT      BRONX         44.0  40.828848 -73.916661  \n",
       "1  N.Y. POLICE DEPT     QUEENS        103.0  40.697338 -73.784557  \n",
       "2  N.Y. POLICE DEPT  MANHATTAN         28.0  40.802607 -73.945052  \n",
       "3  N.Y. POLICE DEPT     QUEENS        105.0  40.654549 -73.726339  \n",
       "4  N.Y. POLICE DEPT  MANHATTAN         13.0  40.738002 -73.987891  "
      ]
     },
     "execution_count": 89,
     "metadata": {},
     "output_type": "execute_result"
    }
   ],
   "source": [
    "data.head()"
   ]
  },
  {
   "cell_type": "code",
   "execution_count": 90,
   "metadata": {},
   "outputs": [
    {
     "data": {
      "text/plain": [
       "pandas._libs.tslibs.timestamps.Timestamp"
      ]
     },
     "execution_count": 90,
     "metadata": {},
     "output_type": "execute_result"
    }
   ],
   "source": [
    "type(data['CMPLNT_FR_DT'][0])"
   ]
  },
  {
   "cell_type": "code",
   "execution_count": 91,
   "metadata": {},
   "outputs": [],
   "source": [
    "data['CMPLNT_FR_TM'] = pd.to_datetime(data['CMPLNT_FR_TM'], format='%H:%M:%S').dt.time"
   ]
  },
  {
   "cell_type": "code",
   "execution_count": 92,
   "metadata": {},
   "outputs": [
    {
     "data": {
      "text/html": [
       "<div>\n",
       "<style scoped>\n",
       "    .dataframe tbody tr th:only-of-type {\n",
       "        vertical-align: middle;\n",
       "    }\n",
       "\n",
       "    .dataframe tbody tr th {\n",
       "        vertical-align: top;\n",
       "    }\n",
       "\n",
       "    .dataframe thead th {\n",
       "        text-align: right;\n",
       "    }\n",
       "</style>\n",
       "<table border=\"1\" class=\"dataframe\">\n",
       "  <thead>\n",
       "    <tr style=\"text-align: right;\">\n",
       "      <th></th>\n",
       "      <th>CMPLNT_FR_DT</th>\n",
       "      <th>CMPLNT_FR_TM</th>\n",
       "      <th>RPT_DT</th>\n",
       "      <th>KY_CD</th>\n",
       "      <th>OFNS_DESC</th>\n",
       "      <th>CRM_ATPT_CPTD_CD</th>\n",
       "      <th>LAW_CAT_CD</th>\n",
       "      <th>JURIS_DESC</th>\n",
       "      <th>BORO_NM</th>\n",
       "      <th>ADDR_PCT_CD</th>\n",
       "      <th>Latitude</th>\n",
       "      <th>Longitude</th>\n",
       "    </tr>\n",
       "  </thead>\n",
       "  <tbody>\n",
       "    <tr>\n",
       "      <th>0</th>\n",
       "      <td>2015-12-31</td>\n",
       "      <td>23:45:00</td>\n",
       "      <td>2015-12-31</td>\n",
       "      <td>113</td>\n",
       "      <td>FORGERY</td>\n",
       "      <td>COMPLETED</td>\n",
       "      <td>FELONY</td>\n",
       "      <td>N.Y. POLICE DEPT</td>\n",
       "      <td>BRONX</td>\n",
       "      <td>44.0</td>\n",
       "      <td>40.828848</td>\n",
       "      <td>-73.916661</td>\n",
       "    </tr>\n",
       "    <tr>\n",
       "      <th>1</th>\n",
       "      <td>2015-12-31</td>\n",
       "      <td>23:36:00</td>\n",
       "      <td>2015-12-31</td>\n",
       "      <td>101</td>\n",
       "      <td>MURDER &amp; NON-NEGL. MANSLAUGHTER</td>\n",
       "      <td>COMPLETED</td>\n",
       "      <td>FELONY</td>\n",
       "      <td>N.Y. POLICE DEPT</td>\n",
       "      <td>QUEENS</td>\n",
       "      <td>103.0</td>\n",
       "      <td>40.697338</td>\n",
       "      <td>-73.784557</td>\n",
       "    </tr>\n",
       "    <tr>\n",
       "      <th>2</th>\n",
       "      <td>2015-12-31</td>\n",
       "      <td>23:30:00</td>\n",
       "      <td>2015-12-31</td>\n",
       "      <td>117</td>\n",
       "      <td>DANGEROUS DRUGS</td>\n",
       "      <td>COMPLETED</td>\n",
       "      <td>FELONY</td>\n",
       "      <td>N.Y. POLICE DEPT</td>\n",
       "      <td>MANHATTAN</td>\n",
       "      <td>28.0</td>\n",
       "      <td>40.802607</td>\n",
       "      <td>-73.945052</td>\n",
       "    </tr>\n",
       "    <tr>\n",
       "      <th>3</th>\n",
       "      <td>2015-12-31</td>\n",
       "      <td>23:30:00</td>\n",
       "      <td>2015-12-31</td>\n",
       "      <td>344</td>\n",
       "      <td>ASSAULT 3 &amp; RELATED OFFENSES</td>\n",
       "      <td>COMPLETED</td>\n",
       "      <td>MISDEMEANOR</td>\n",
       "      <td>N.Y. POLICE DEPT</td>\n",
       "      <td>QUEENS</td>\n",
       "      <td>105.0</td>\n",
       "      <td>40.654549</td>\n",
       "      <td>-73.726339</td>\n",
       "    </tr>\n",
       "    <tr>\n",
       "      <th>4</th>\n",
       "      <td>2015-12-31</td>\n",
       "      <td>23:25:00</td>\n",
       "      <td>2015-12-31</td>\n",
       "      <td>344</td>\n",
       "      <td>ASSAULT 3 &amp; RELATED OFFENSES</td>\n",
       "      <td>COMPLETED</td>\n",
       "      <td>MISDEMEANOR</td>\n",
       "      <td>N.Y. POLICE DEPT</td>\n",
       "      <td>MANHATTAN</td>\n",
       "      <td>13.0</td>\n",
       "      <td>40.738002</td>\n",
       "      <td>-73.987891</td>\n",
       "    </tr>\n",
       "  </tbody>\n",
       "</table>\n",
       "</div>"
      ],
      "text/plain": [
       "  CMPLNT_FR_DT CMPLNT_FR_TM     RPT_DT  KY_CD  \\\n",
       "0   2015-12-31     23:45:00 2015-12-31    113   \n",
       "1   2015-12-31     23:36:00 2015-12-31    101   \n",
       "2   2015-12-31     23:30:00 2015-12-31    117   \n",
       "3   2015-12-31     23:30:00 2015-12-31    344   \n",
       "4   2015-12-31     23:25:00 2015-12-31    344   \n",
       "\n",
       "                         OFNS_DESC CRM_ATPT_CPTD_CD   LAW_CAT_CD  \\\n",
       "0                          FORGERY        COMPLETED       FELONY   \n",
       "1  MURDER & NON-NEGL. MANSLAUGHTER        COMPLETED       FELONY   \n",
       "2                  DANGEROUS DRUGS        COMPLETED       FELONY   \n",
       "3     ASSAULT 3 & RELATED OFFENSES        COMPLETED  MISDEMEANOR   \n",
       "4     ASSAULT 3 & RELATED OFFENSES        COMPLETED  MISDEMEANOR   \n",
       "\n",
       "         JURIS_DESC    BORO_NM  ADDR_PCT_CD   Latitude  Longitude  \n",
       "0  N.Y. POLICE DEPT      BRONX         44.0  40.828848 -73.916661  \n",
       "1  N.Y. POLICE DEPT     QUEENS        103.0  40.697338 -73.784557  \n",
       "2  N.Y. POLICE DEPT  MANHATTAN         28.0  40.802607 -73.945052  \n",
       "3  N.Y. POLICE DEPT     QUEENS        105.0  40.654549 -73.726339  \n",
       "4  N.Y. POLICE DEPT  MANHATTAN         13.0  40.738002 -73.987891  "
      ]
     },
     "execution_count": 92,
     "metadata": {},
     "output_type": "execute_result"
    }
   ],
   "source": [
    "data.head()"
   ]
  },
  {
   "cell_type": "code",
   "execution_count": 93,
   "metadata": {},
   "outputs": [],
   "source": [
    "data['CRM_ATPT_CPTD_CD']=data['CRM_ATPT_CPTD_CD'].map({'COMPLETED':1,'ATTEMPTED':0})"
   ]
  },
  {
   "cell_type": "code",
   "execution_count": 94,
   "metadata": {},
   "outputs": [
    {
     "data": {
      "text/plain": [
       "<Axes: xlabel='CRM_ATPT_CPTD_CD'>"
      ]
     },
     "execution_count": 94,
     "metadata": {},
     "output_type": "execute_result"
    },
    {
     "data": {
      "image/png": "[encoded data removed]",
      "text/plain": [
       "<Figure size 640x480 with 1 Axes>"
      ]
     },
     "metadata": {},
     "output_type": "display_data"
    }
   ],
   "source": [
    "data['CRM_ATPT_CPTD_CD'].value_counts().plot(kind='bar')\n",
    "\n",
    "#this data does not provide any additional information about the time,type, or location of the crime"
   ]
  },
  {
   "cell_type": "code",
   "execution_count": 95,
   "metadata": {},
   "outputs": [
    {
     "data": {
      "text/plain": [
       "<Axes: xlabel='LAW_CAT_CD'>"
      ]
     },
     "execution_count": 95,
     "metadata": {},
     "output_type": "execute_result"
    },
    {
     "data": {
      "image/png": "[encoded data removed]",
      "text/plain": [
       "<Figure size 640x480 with 1 Axes>"
      ]
     },
     "metadata": {},
     "output_type": "display_data"
    }
   ],
   "source": [
    "data['LAW_CAT_CD'].value_counts().plot(kind='bar')\n",
    "# should be mapped or not??"
   ]
  },
  {
   "cell_type": "code",
   "execution_count": 96,
   "metadata": {},
   "outputs": [
    {
     "data": {
      "text/plain": [
       "OFNS_DESC\n",
       "PETIT LARCENY                       176487\n",
       "HARRASSMENT 2                       131915\n",
       "ASSAULT 3 & RELATED OFFENSES        113206\n",
       "CRIMINAL MISCHIEF & RELATED OF      100756\n",
       "GRAND LARCENY                        94367\n",
       "                                     ...  \n",
       "KIDNAPPING                               2\n",
       "UNDER THE INFLUENCE OF DRUGS             2\n",
       "OTHER STATE LAWS (NON PENAL LAW)         1\n",
       "FORTUNE TELLING                          1\n",
       "LOITERING FOR DRUG PURPOSES              1\n",
       "Name: count, Length: 67, dtype: int64"
      ]
     },
     "execution_count": 96,
     "metadata": {},
     "output_type": "execute_result"
    }
   ],
   "source": [
    "data['OFNS_DESC'].value_counts()\n",
    "#Highly imbalanced data, should be used or not?\n"
   ]
  },
  {
   "cell_type": "code",
   "execution_count": 97,
   "metadata": {},
   "outputs": [
    {
     "data": {
      "text/plain": [
       "<Axes: xlabel='OFNS_DESC'>"
      ]
     },
     "execution_count": 97,
     "metadata": {},
     "output_type": "execute_result"
    },
    {
     "data": {
      "image/png": "[encoded data removed]",
      "text/plain": [
       "<Figure size 2000x1000 with 1 Axes>"
      ]
     },
     "metadata": {},
     "output_type": "display_data"
    }
   ],
   "source": [
    "data['OFNS_DESC'].value_counts().plot(kind='bar',figsize=(20,10))"
   ]
  },
  {
   "cell_type": "code",
   "execution_count": 98,
   "metadata": {},
   "outputs": [
    {
     "data": {
      "text/plain": [
       "BORO_NM\n",
       "BROOKLYN         308152\n",
       "MANHATTAN        236881\n",
       "BRONX            219512\n",
       "QUEENS           201448\n",
       "STATEN ISLAND     47310\n",
       "Name: count, dtype: int64"
      ]
     },
     "execution_count": 98,
     "metadata": {},
     "output_type": "execute_result"
    }
   ],
   "source": [
    "data['BORO_NM'].value_counts()"
   ]
  },
  {
   "cell_type": "code",
   "execution_count": 99,
   "metadata": {},
   "outputs": [],
   "source": [
    "map={'BRONX':1,'BROOKLYN':2,'MANHATTAN':3,'QUEENS':4,'STATEN ISLAND':5}"
   ]
  },
  {
   "cell_type": "code",
   "execution_count": 100,
   "metadata": {},
   "outputs": [],
   "source": [
    "data['BORO_NM']=data['BORO_NM'].map(map)"
   ]
  },
  {
   "cell_type": "code",
   "execution_count": 101,
   "metadata": {},
   "outputs": [
    {
     "data": {
      "text/html": [
       "<div>\n",
       "<style scoped>\n",
       "    .dataframe tbody tr th:only-of-type {\n",
       "        vertical-align: middle;\n",
       "    }\n",
       "\n",
       "    .dataframe tbody tr th {\n",
       "        vertical-align: top;\n",
       "    }\n",
       "\n",
       "    .dataframe thead th {\n",
       "        text-align: right;\n",
       "    }\n",
       "</style>\n",
       "<table border=\"1\" class=\"dataframe\">\n",
       "  <thead>\n",
       "    <tr style=\"text-align: right;\">\n",
       "      <th></th>\n",
       "      <th>CMPLNT_FR_DT</th>\n",
       "      <th>CMPLNT_FR_TM</th>\n",
       "      <th>RPT_DT</th>\n",
       "      <th>KY_CD</th>\n",
       "      <th>OFNS_DESC</th>\n",
       "      <th>CRM_ATPT_CPTD_CD</th>\n",
       "      <th>LAW_CAT_CD</th>\n",
       "      <th>JURIS_DESC</th>\n",
       "      <th>BORO_NM</th>\n",
       "      <th>ADDR_PCT_CD</th>\n",
       "      <th>Latitude</th>\n",
       "      <th>Longitude</th>\n",
       "    </tr>\n",
       "  </thead>\n",
       "  <tbody>\n",
       "    <tr>\n",
       "      <th>0</th>\n",
       "      <td>2015-12-31</td>\n",
       "      <td>23:45:00</td>\n",
       "      <td>2015-12-31</td>\n",
       "      <td>113</td>\n",
       "      <td>FORGERY</td>\n",
       "      <td>1</td>\n",
       "      <td>FELONY</td>\n",
       "      <td>N.Y. POLICE DEPT</td>\n",
       "      <td>1</td>\n",
       "      <td>44.0</td>\n",
       "      <td>40.828848</td>\n",
       "      <td>-73.916661</td>\n",
       "    </tr>\n",
       "    <tr>\n",
       "      <th>1</th>\n",
       "      <td>2015-12-31</td>\n",
       "      <td>23:36:00</td>\n",
       "      <td>2015-12-31</td>\n",
       "      <td>101</td>\n",
       "      <td>MURDER &amp; NON-NEGL. MANSLAUGHTER</td>\n",
       "      <td>1</td>\n",
       "      <td>FELONY</td>\n",
       "      <td>N.Y. POLICE DEPT</td>\n",
       "      <td>4</td>\n",
       "      <td>103.0</td>\n",
       "      <td>40.697338</td>\n",
       "      <td>-73.784557</td>\n",
       "    </tr>\n",
       "    <tr>\n",
       "      <th>2</th>\n",
       "      <td>2015-12-31</td>\n",
       "      <td>23:30:00</td>\n",
       "      <td>2015-12-31</td>\n",
       "      <td>117</td>\n",
       "      <td>DANGEROUS DRUGS</td>\n",
       "      <td>1</td>\n",
       "      <td>FELONY</td>\n",
       "      <td>N.Y. POLICE DEPT</td>\n",
       "      <td>3</td>\n",
       "      <td>28.0</td>\n",
       "      <td>40.802607</td>\n",
       "      <td>-73.945052</td>\n",
       "    </tr>\n",
       "    <tr>\n",
       "      <th>3</th>\n",
       "      <td>2015-12-31</td>\n",
       "      <td>23:30:00</td>\n",
       "      <td>2015-12-31</td>\n",
       "      <td>344</td>\n",
       "      <td>ASSAULT 3 &amp; RELATED OFFENSES</td>\n",
       "      <td>1</td>\n",
       "      <td>MISDEMEANOR</td>\n",
       "      <td>N.Y. POLICE DEPT</td>\n",
       "      <td>4</td>\n",
       "      <td>105.0</td>\n",
       "      <td>40.654549</td>\n",
       "      <td>-73.726339</td>\n",
       "    </tr>\n",
       "    <tr>\n",
       "      <th>4</th>\n",
       "      <td>2015-12-31</td>\n",
       "      <td>23:25:00</td>\n",
       "      <td>2015-12-31</td>\n",
       "      <td>344</td>\n",
       "      <td>ASSAULT 3 &amp; RELATED OFFENSES</td>\n",
       "      <td>1</td>\n",
       "      <td>MISDEMEANOR</td>\n",
       "      <td>N.Y. POLICE DEPT</td>\n",
       "      <td>3</td>\n",
       "      <td>13.0</td>\n",
       "      <td>40.738002</td>\n",
       "      <td>-73.987891</td>\n",
       "    </tr>\n",
       "  </tbody>\n",
       "</table>\n",
       "</div>"
      ],
      "text/plain": [
       "  CMPLNT_FR_DT CMPLNT_FR_TM     RPT_DT  KY_CD  \\\n",
       "0   2015-12-31     23:45:00 2015-12-31    113   \n",
       "1   2015-12-31     23:36:00 2015-12-31    101   \n",
       "2   2015-12-31     23:30:00 2015-12-31    117   \n",
       "3   2015-12-31     23:30:00 2015-12-31    344   \n",
       "4   2015-12-31     23:25:00 2015-12-31    344   \n",
       "\n",
       "                         OFNS_DESC  CRM_ATPT_CPTD_CD   LAW_CAT_CD  \\\n",
       "0                          FORGERY                 1       FELONY   \n",
       "1  MURDER & NON-NEGL. MANSLAUGHTER                 1       FELONY   \n",
       "2                  DANGEROUS DRUGS                 1       FELONY   \n",
       "3     ASSAULT 3 & RELATED OFFENSES                 1  MISDEMEANOR   \n",
       "4     ASSAULT 3 & RELATED OFFENSES                 1  MISDEMEANOR   \n",
       "\n",
       "         JURIS_DESC  BORO_NM  ADDR_PCT_CD   Latitude  Longitude  \n",
       "0  N.Y. POLICE DEPT        1         44.0  40.828848 -73.916661  \n",
       "1  N.Y. POLICE DEPT        4        103.0  40.697338 -73.784557  \n",
       "2  N.Y. POLICE DEPT        3         28.0  40.802607 -73.945052  \n",
       "3  N.Y. POLICE DEPT        4        105.0  40.654549 -73.726339  \n",
       "4  N.Y. POLICE DEPT        3         13.0  40.738002 -73.987891  "
      ]
     },
     "execution_count": 101,
     "metadata": {},
     "output_type": "execute_result"
    }
   ],
   "source": [
    "data.head()"
   ]
  },
  {
   "cell_type": "code",
   "execution_count": 102,
   "metadata": {},
   "outputs": [
    {
     "name": "stdout",
     "output_type": "stream",
     "text": [
      "          h3_index  crime_count\n",
      "0  872a100d2ffffff        35939\n",
      "1  872a1008dffffff        32421\n",
      "2  872a100acffffff        30349\n",
      "3  872a100a8ffffff        26948\n",
      "4  872a100abffffff        26317\n"
     ]
    }
   ],
   "source": [
    "import h3.api.basic_str as h3\n",
    "import pandas as pd\n",
    "\n",
    "resolution = 7  \n",
    "\n",
    "\n",
    "def latlon_to_h3(lat, lon, res=resolution):\n",
    "    return h3.latlng_to_cell(lat, lon, res)\n",
    "\n",
    "data[\"h3_index\"] = data.apply(lambda row: latlon_to_h3(row[\"Latitude\"], row[\"Longitude\"]), axis=1)\n",
    "\n",
    "crime_density = data[\"h3_index\"].value_counts().reset_index()\n",
    "crime_density.columns = [\"h3_index\", \"crime_count\"]\n",
    "\n",
    "print(crime_density.head())\n"
   ]
  },
  {
   "cell_type": "code",
   "execution_count": 103,
   "metadata": {},
   "outputs": [
    {
     "data": {
      "text/html": [
       "<div style=\"width:100%;\"><div style=\"position:relative;width:100%;height:0;padding-bottom:60%;\"><span style=\"color:#565656\">Make this Notebook Trusted to load map: File -> Trust Notebook</span><iframe srcdoc=\"&lt;!DOCTYPE html&gt;\n",
       "&lt;html&gt;\n",
       "&lt;head&gt;\n",
       "    \n",
       "    &lt;meta http-equiv=&quot;content-type&quot; content=&quot;text/html; charset=UTF-8&quot; /&gt;\n",
       "    \n",
       "        &lt;script&gt;\n",
       "            L_NO_TOUCH = false;\n",
       "            L_DISABLE_3D = false;\n",
       "        &lt;/script&gt;\n",
       "    \n",
       "    &lt;style&gt;html, body {width: 100%;height: 100%;margin: 0;padding: 0;}&lt;/style&gt;\n",
       "    &lt;style&gt;#map {position:absolute;top:0;bottom:0;right:0;left:0;}&lt;/style&gt;\n",
       "    &lt;script src=&quot;https://cdn.jsdelivr.net/npm/leaflet@1.9.3/dist/leaflet.js&quot;&gt;&lt;/script&gt;\n",
       "    &lt;script src=&quot;https://code.jquery.com/jquery-3.7.1.min.js&quot;&gt;&lt;/script&gt;\n",
       "    &lt;script src=&quot;https://cdn.jsdelivr.net/npm/bootstrap@5.2.2/dist/js/bootstrap.bundle.min.js&quot;&gt;&lt;/script&gt;\n",
       "    &lt;script src=&quot;https://cdnjs.cloudflare.com/ajax/libs/Leaflet.awesome-markers/2.0.2/leaflet.awesome-markers.js&quot;&gt;&lt;/script&gt;\n",
       "    &lt;link rel=&quot;stylesheet&quot; href=&quot;https://cdn.jsdelivr.net/npm/leaflet@1.9.3/dist/leaflet.css&quot;/&gt;\n",
       "    &lt;link rel=&quot;stylesheet&quot; href=&quot;https://cdn.jsdelivr.net/npm/bootstrap@5.2.2/dist/css/bootstrap.min.css&quot;/&gt;\n",
       "    &lt;link rel=&quot;stylesheet&quot; href=&quot;https://netdna.bootstrapcdn.com/bootstrap/3.0.0/css/bootstrap-glyphicons.css&quot;/&gt;\n",
       "    &lt;link rel=&quot;stylesheet&quot; href=&quot;https://cdn.jsdelivr.net/npm/@fortawesome/fontawesome-free@6.2.0/css/all.min.css&quot;/&gt;\n",
       "    &lt;link rel=&quot;stylesheet&quot; href=&quot;https://cdnjs.cloudflare.com/ajax/libs/Leaflet.awesome-markers/2.0.2/leaflet.awesome-markers.css&quot;/&gt;\n",
       "    &lt;link rel=&quot;stylesheet&quot; href=&quot;https://cdn.jsdelivr.net/gh/python-visualization/folium/folium/templates/leaflet.awesome.rotate.min.css&quot;/&gt;\n",
       "    \n",
       "            &lt;meta name=&quot;viewport&quot; content=&quot;width=device-width,\n",
       "                initial-scale=1.0, maximum-scale=1.0, user-scalable=no&quot; /&gt;\n",
       "            &lt;style&gt;\n",
       "                #map_a41c7d5569ca6e2c29c1c4de022318cd {\n",
       "                    position: relative;\n",
       "                    width: 100.0%;\n",
       "                    height: 100.0%;\n",
       "                    left: 0.0%;\n",
       "                    top: 0.0%;\n",
       "                }\n",
       "                .leaflet-container { font-size: 1rem; }\n",
       "            &lt;/style&gt;\n",
       "        \n",
       "    &lt;script src=&quot;https://cdn.jsdelivr.net/gh/python-visualization/folium@main/folium/templates/leaflet_heat.min.js&quot;&gt;&lt;/script&gt;\n",
       "&lt;/head&gt;\n",
       "&lt;body&gt;\n",
       "    \n",
       "    \n",
       "            &lt;div class=&quot;folium-map&quot; id=&quot;map_a41c7d5569ca6e2c29c1c4de022318cd&quot; &gt;&lt;/div&gt;\n",
       "        \n",
       "&lt;/body&gt;\n",
       "&lt;script&gt;\n",
       "    \n",
       "    \n",
       "            var map_a41c7d5569ca6e2c29c1c4de022318cd = L.map(\n",
       "                &quot;map_a41c7d5569ca6e2c29c1c4de022318cd&quot;,\n",
       "                {\n",
       "                    center: [40.7128, -74.006],\n",
       "                    crs: L.CRS.EPSG3857,\n",
       "                    ...{\n",
       "  &quot;zoom&quot;: 11,\n",
       "  &quot;zoomControl&quot;: true,\n",
       "  &quot;preferCanvas&quot;: false,\n",
       "}\n",
       "\n",
       "                }\n",
       "            );\n",
       "\n",
       "            \n",
       "\n",
       "        \n",
       "    \n",
       "            var tile_layer_830a7e7edda1fff3079b176fa4526f45 = L.tileLayer(\n",
       "                &quot;https://tile.openstreetmap.org/{z}/{x}/{y}.png&quot;,\n",
       "                {\n",
       "  &quot;minZoom&quot;: 0,\n",
       "  &quot;maxZoom&quot;: 19,\n",
       "  &quot;maxNativeZoom&quot;: 19,\n",
       "  &quot;noWrap&quot;: false,\n",
       "  &quot;attribution&quot;: &quot;\\u0026copy; \\u003ca href=\\&quot;https://www.openstreetmap.org/copyright\\&quot;\\u003eOpenStreetMap\\u003c/a\\u003e contributors&quot;,\n",
       "  &quot;subdomains&quot;: &quot;abc&quot;,\n",
       "  &quot;detectRetina&quot;: false,\n",
       "  &quot;tms&quot;: false,\n",
       "  &quot;opacity&quot;: 1,\n",
       "}\n",
       "\n",
       "            );\n",
       "        \n",
       "    \n",
       "            tile_layer_830a7e7edda1fff3079b176fa4526f45.addTo(map_a41c7d5569ca6e2c29c1c4de022318cd);\n",
       "        \n",
       "    \n",
       "            var heat_map_a52c3e562bcacb5dc06754df2e6a13e1 = L.heatLayer(\n",
       "                [[40.74194333566657, -73.98755496140967, 35939], [40.798625269179254, -73.94478993105159, 32421], [40.85532957686145, -73.90192291635687, 30349], [40.836425667265026, -73.91622327239956, 26948], [40.81752422890386, -73.93051227338316, 26317], [40.7608348151879, -73.97331126335345, 24959], [40.818315041812575, -73.90053788794832, 24652], [40.72305436427269, -74.00178736299634, 24258], [40.66963839969568, -73.92489966329703, 22769], [40.67042807403864, -73.89501956432314, 20952], [40.68771132304884, -73.94054512206205, 20407], [40.83721273542622, -73.88623691315277, 17481], [40.68690992665365, -73.97043651873959, 16480], [40.87423595028035, -73.8876111934982, 15057], [40.668841012001906, -73.95477946316518, 14635], [40.68850499943893, -73.910653417529, 13951], [40.835630824012604, -73.94620933516283, 13523], [40.74511978717058, -73.867846925167, 13470], [40.81672564793099, -73.96048635474924, 13013], [40.705786458573066, -73.95620281665518, 12704], [40.8545384781595, -73.93192096636656, 11922], [40.6507743102702, -73.93913463595439, 11880], [40.760025061971376, -74.00324943564168, 11878], [40.83799202817855, -73.85625027384529, 11848], [40.723863798654364, -73.97187275909454, 11609], [40.67121003470865, -73.86513918249219, 10920], [40.64997321805547, -73.96900253695026, 10914], [40.70969761191556, -73.8066834028901, 10913], [40.631912738485845, -73.95335834712127, 10849], [40.651567696115364, -73.9092664283535, 10707], [40.81909808633295, -73.8705632148476, 10511], [40.79782295730972, -73.97475203687152, 10402], [40.70658414386775, -73.92629950200592, 10375], [40.87501550844368, -73.85760086913739, 10140], [40.779728795481134, -73.95905625713571, 9978], [40.762431080288984, -73.91343395497816, 9200], [40.68610081059607, -74.00032759129532, 8639], [40.85611289344292, -73.87192457746747, 8612], [40.744337285450136, -73.8977743784313, 8573], [40.77892275953245, -73.98900639326243, 8413], [40.8734486029651, -73.91762123660166, 8244], [40.70498104661735, -73.98610581467901, 8056], [40.691602498568535, -73.79108384620254, 7839], [40.764767369657015, -73.82361582808248, 7677], [40.690839705354804, -73.82097661947496, 7650], [40.63029545952553, -74.01307003266257, 7587], [40.65235337526236, -73.87939793037661, 7016], [40.649164419813275, -73.99887011511309, 7008], [40.612245210721206, -73.99741492904111, 6779], [40.63270982905452, -73.92350202511717, 6749], [40.690069190900715, -73.8508691499667, 6694], [40.763217591499426, -73.88349485157869, 6681], [40.707374102165176, -73.89639588701735, 6545], [40.595001656781236, -73.95193946325354, 6148], [40.668035911292954, -73.98465894768002, 6025], [40.673509631663194, -73.77549650235696, 6021], [40.704167908350385, -74.01600847979246, 5987], [40.89392057299802, -73.84326577639459, 5979], [40.613053691654564, -73.96757080840493, 5974], [40.761636821408395, -73.94337276435115, 5918], [40.57534320204193, -73.99596202768794, 5901], [40.72702419963022, -73.85221125238502, 5771], [40.79941982000956, -73.91482751359605, 5710], [40.59419717707687, -73.98177203139994, 5691], [40.71045665913346, -73.7767787494232, 5464], [40.57615136617092, -73.96614132779878, 5460], [40.68929095549475, -73.88076142140778, 5058], [40.74354704274161, -73.92770154644333, 5007], [40.72466549971743, -73.94195782977722, 4943], [40.875787277150664, -73.82759027998175, 4912], [40.631107948526655, -73.9832143550392, 4845], [40.633499219897566, -73.89364540523636, 4751], [40.74112987198723, -74.01748117571599, 4445], [40.726245700528274, -73.88212706011623, 4443], [40.67275081380919, -73.80537763525825, 4376], [40.600417794882546, -73.74310363282059, 4331], [40.78052707741328, -73.92910580182497, 4297], [40.67198428139719, -73.83525853405375, 4209], [40.626968520546185, -74.13248911608126, 4107], [40.64669179254622, -74.08847075033913, 4067], [40.71120797787675, -73.74687387706079, 4040], [40.626117542036916, -74.16234289914539, 3889], [40.62864738585936, -74.07278033219747, 3718], [40.856888427592864, -73.84192596614103, 3625], [40.61385448017422, -73.93772636621962, 3580], [40.81987336215442, -73.84058827048477, 3564], [40.5996671222415, -73.77293805110413, 3541], [40.69235757026702, -73.76119084642028, 3522], [40.80020660946983, -73.88486480088794, 3503], [40.83876354521809, -73.82626337090076, 3498], [40.60977361705682, -74.08694519977237, 3452], [40.89314478009749, -73.87328809205368, 3332], [40.674260734691266, -73.74561515160185, 3240], [40.70893083649136, -73.83658782117104, 3202], [40.61142903772921, -74.02725871193934, 3151], [40.89236119101144, -73.90331013409623, 3007], [40.614647575938626, -73.90788161867498, 2850], [40.727794964122005, -73.82229518446317, 2804], [40.74274905936816, -73.95762841287763, 2679], [40.64834791589929, -74.02873735421589, 2444], [40.589208917752686, -74.16075996552199, 2401], [40.572033764605045, -74.11524130154568, 2335], [40.76399635472308, -73.85355547049808, 2331], [40.70815633314274, -73.8664919879764, 2255], [40.5800769978812, -73.81703334735128, 2250], [40.820640868980156, -73.81061307126453, 2223], [40.74589454759339, -73.8379192029769, 2193], [40.74666156642264, -73.80799122818836, 2171], [40.730060847115276, -73.7325455826426, 2091], [40.78287539580534, -73.83925268442506, 1901], [40.76553063601187, -73.79367594067897, 1855], [40.72545946711864, -73.9120425913492, 1824], [40.59173762678867, -74.07126769719932, 1750], [40.645852173886006, -74.1183368749114, 1746], [40.62781180195905, -74.1026349216978, 1734], [40.69310492018891, -73.73129763639972, 1708], [40.65616615996989, -73.73005165293118, 1690], [40.59890876200823, -73.80277225360516, 1676], [40.65541901876961, -73.75992135932147, 1670], [40.78131760499155, -73.89915504369341, 1656], [40.552317500067225, -74.15917951588665, 1588], [40.62947527184456, -74.04292536378405, 1584], [40.7285579937147, -73.7923788726592, 1479], [40.76628615351195, -73.76373582463535, 1479], [40.59338501193345, -74.01160427055234, 1453], [40.66722309791802, -74.01453810059482, 1440], [40.74742084337603, -73.77806301712948, 1440], [40.595798450698524, -73.92210658228333, 1353], [40.59090240755066, -74.10109885235892, 1345], [40.78364265843445, -73.80930111601928, 1340], [40.72931328813302, -73.76246233328233, 1305], [40.60893437015393, -74.11678787233525, 1230], [40.60808743274739, -74.14663014241658, 1197], [40.74817237818487, -73.74813458612917, 1099], [40.57930723113312, -73.84685548706362, 1094], [40.55145963517071, -74.18898604839711, 1093], [40.65313134739606, -73.84952915825366, 1041], [40.748916170594065, -73.7182059515171, 1018], [40.576951851478796, -73.93632030763946, 958], [40.57033298281371, -74.17487859698923, 895], [40.572872640339774, -74.08542204423304, 840], [40.55059410122464, -74.21879214031595, 837], [40.53258888205251, -74.20308233131152, 836], [40.55316769547279, -74.1293725589083, 833], [40.51284795942633, -74.2469497390903, 829], [40.91205605887714, -73.85895360024028, 827], [40.61849765242162, -73.75865386727315, 820], [40.64500485111186, -74.14820259552735, 792], [40.64414982464701, -74.17806789596608, 775], [40.58083908423779, -73.7872109681371, 727], [40.61060517304706, -74.05710214091195, 684], [40.78440216549685, -73.77934931025457, 681], [40.60723280525965, -74.17647199383353, 664], [40.53345037596955, -74.17328769954094, 660], [40.767033921895184, -73.73379549630022, 631], [40.800985637242945, -73.85490180931117, 510], [40.730800670413345, -73.70262863705075, 504], [40.53430420739523, -74.14349263600955, 494], [40.857656179013986, -73.81192709882109, 492], [40.91127623486903, -73.8889876470654, 491], [40.53171972609175, -74.23287651521724, 457], [40.57118721195581, -74.14506015784598, 424], [40.513720730676546, -74.2171674572855, 377], [40.59005950440022, -74.13092961385462, 337], [40.58835064803684, -74.19058989119797, 265], [40.653901612214945, -73.81966012821559, 257], [40.7119515678907, -73.71696880209394, 242], [40.55401022095942, -74.09956519358718, 242], [40.83952728625463, -73.79627622074372, 209], [40.91048860794453, -73.91902141143184, 189], [40.80175690302547, -73.82493855525061, 183], [40.67500412263901, -73.71573359924571, 182], [40.55890428330714, -73.92071332962873, 162], [40.51458584688654, -74.18738472036036, 159], [40.85841614742273, -73.7819279919521, 144], [40.616980703487116, -73.8183457057982, 122], [40.802520406527634, -73.79497505509201, 114], [40.49485518824885, -74.23124143785914, 105], [40.782100377892256, -73.86920399910507, 101], [40.60637048812663, -74.2063134104047, 85], [40.598142714449914, -73.83260622414802, 82], [40.89468856941527, -73.81324320360149, 76], [40.785153916723445, -73.74939728349844, 59], [40.74965222036219, -73.6882771296236, 39], [40.637330667445696, -73.74435840507579, 39], [40.625258866860825, -74.19219625468902, 38], [40.56047426084546, -73.8610935061046, 37], [40.55969310850597, -73.89090355751595, 33], [40.654664169430966, -73.789790856494, 30], [40.57852978428068, -73.87667737111867, 23], [40.57452735944625, -74.02578239115631, 21], [40.59658755849419, -73.89227340466071, 19], [40.56947107761385, -74.20469660283203, 16], [40.5497208986838, -74.24859777552093, 8], [40.89156980605139, -73.93333188604058, 7], [40.76777394091319, -73.70385497202287, 7], [40.876551256110666, -73.79757944249478, 5], [40.581593489929126, -73.75738836557726, 5], [40.57774465762454, -73.90649898336184, 4], [40.49397880842814, -74.26101182347672, 4], [40.68528397523235, -74.03021832346398, 2], [40.8032761474733, -73.7650113252219, 1]],\n",
       "                {\n",
       "  &quot;minOpacity&quot;: 0.5,\n",
       "  &quot;maxZoom&quot;: 18,\n",
       "  &quot;radius&quot;: 25,\n",
       "  &quot;blur&quot;: 15,\n",
       "}\n",
       "            );\n",
       "        \n",
       "    \n",
       "            heat_map_a52c3e562bcacb5dc06754df2e6a13e1.addTo(map_a41c7d5569ca6e2c29c1c4de022318cd);\n",
       "        \n",
       "&lt;/script&gt;\n",
       "&lt;/html&gt;\" style=\"position:absolute;width:100%;height:100%;left:0;top:0;border:none !important;\" allowfullscreen webkitallowfullscreen mozallowfullscreen></iframe></div></div>"
      ],
      "text/plain": [
       "<folium.folium.Map at 0x265d7a00410>"
      ]
     },
     "execution_count": 103,
     "metadata": {},
     "output_type": "execute_result"
    }
   ],
   "source": [
    "import folium\n",
    "import geopandas as gpd\n",
    "from shapely.geometry import Polygon\n",
    "import h3.api.basic_str as h3\n",
    "from folium.plugins import HeatMap\n",
    "\n",
    "# Convert H3 indexes to polygon geometries\n",
    "def h3_to_polygon(h3_index):\n",
    "    boundary = h3.cell_to_boundary(h3_index)  # Use the updated function\n",
    "    return Polygon(boundary)\n",
    "\n",
    "# Convert H3 indexes to latitude and longitude\n",
    "def h3_to_latlon(h3_index):\n",
    "    lat, lon = h3.cell_to_latlng(h3_index)\n",
    "    return lat, lon\n",
    "\n",
    "# Convert crime_density to GeoDataFrame\n",
    "crime_density[\"geometry\"] = crime_density[\"h3_index\"].apply(h3_to_polygon)\n",
    "crime_gdf = gpd.GeoDataFrame(crime_density, geometry=\"geometry\", crs=\"EPSG:4326\")\n",
    "\n",
    "# Create a base map\n",
    "m = folium.Map(location=[40.7128, -74.0060], zoom_start=11)  # Center on NYC\n",
    "\n",
    "# Prepare data for HeatMap\n",
    "heat_data = [[h3_to_latlon(row[\"h3_index\"])[0], h3_to_latlon(row[\"h3_index\"])[1], row[\"crime_count\"]] for index, row in crime_density.iterrows()]\n",
    "\n",
    "# Add HeatMap to the map\n",
    "HeatMap(heat_data).add_to(m)\n",
    "\n",
    "# Display the map\n",
    "m"
   ]
  },
  {
   "cell_type": "code",
   "execution_count": 104,
   "metadata": {},
   "outputs": [
    {
     "data": {
      "text/html": [
       "<div>\n",
       "<style scoped>\n",
       "    .dataframe tbody tr th:only-of-type {\n",
       "        vertical-align: middle;\n",
       "    }\n",
       "\n",
       "    .dataframe tbody tr th {\n",
       "        vertical-align: top;\n",
       "    }\n",
       "\n",
       "    .dataframe thead th {\n",
       "        text-align: right;\n",
       "    }\n",
       "</style>\n",
       "<table border=\"1\" class=\"dataframe\">\n",
       "  <thead>\n",
       "    <tr style=\"text-align: right;\">\n",
       "      <th></th>\n",
       "      <th>CMPLNT_FR_DT</th>\n",
       "      <th>CMPLNT_FR_TM</th>\n",
       "      <th>RPT_DT</th>\n",
       "      <th>KY_CD</th>\n",
       "      <th>OFNS_DESC</th>\n",
       "      <th>CRM_ATPT_CPTD_CD</th>\n",
       "      <th>LAW_CAT_CD</th>\n",
       "      <th>JURIS_DESC</th>\n",
       "      <th>BORO_NM</th>\n",
       "      <th>ADDR_PCT_CD</th>\n",
       "      <th>Latitude</th>\n",
       "      <th>Longitude</th>\n",
       "      <th>h3_index</th>\n",
       "    </tr>\n",
       "  </thead>\n",
       "  <tbody>\n",
       "    <tr>\n",
       "      <th>0</th>\n",
       "      <td>2015-12-31</td>\n",
       "      <td>23:45:00</td>\n",
       "      <td>2015-12-31</td>\n",
       "      <td>113</td>\n",
       "      <td>FORGERY</td>\n",
       "      <td>1</td>\n",
       "      <td>FELONY</td>\n",
       "      <td>N.Y. POLICE DEPT</td>\n",
       "      <td>1</td>\n",
       "      <td>44.0</td>\n",
       "      <td>40.828848</td>\n",
       "      <td>-73.916661</td>\n",
       "      <td>872a100a8ffffff</td>\n",
       "    </tr>\n",
       "    <tr>\n",
       "      <th>1</th>\n",
       "      <td>2015-12-31</td>\n",
       "      <td>23:36:00</td>\n",
       "      <td>2015-12-31</td>\n",
       "      <td>101</td>\n",
       "      <td>MURDER &amp; NON-NEGL. MANSLAUGHTER</td>\n",
       "      <td>1</td>\n",
       "      <td>FELONY</td>\n",
       "      <td>N.Y. POLICE DEPT</td>\n",
       "      <td>4</td>\n",
       "      <td>103.0</td>\n",
       "      <td>40.697338</td>\n",
       "      <td>-73.784557</td>\n",
       "      <td>872a100e9ffffff</td>\n",
       "    </tr>\n",
       "    <tr>\n",
       "      <th>2</th>\n",
       "      <td>2015-12-31</td>\n",
       "      <td>23:30:00</td>\n",
       "      <td>2015-12-31</td>\n",
       "      <td>117</td>\n",
       "      <td>DANGEROUS DRUGS</td>\n",
       "      <td>1</td>\n",
       "      <td>FELONY</td>\n",
       "      <td>N.Y. POLICE DEPT</td>\n",
       "      <td>3</td>\n",
       "      <td>28.0</td>\n",
       "      <td>40.802607</td>\n",
       "      <td>-73.945052</td>\n",
       "      <td>872a1008dffffff</td>\n",
       "    </tr>\n",
       "    <tr>\n",
       "      <th>3</th>\n",
       "      <td>2015-12-31</td>\n",
       "      <td>23:30:00</td>\n",
       "      <td>2015-12-31</td>\n",
       "      <td>344</td>\n",
       "      <td>ASSAULT 3 &amp; RELATED OFFENSES</td>\n",
       "      <td>1</td>\n",
       "      <td>MISDEMEANOR</td>\n",
       "      <td>N.Y. POLICE DEPT</td>\n",
       "      <td>4</td>\n",
       "      <td>105.0</td>\n",
       "      <td>40.654549</td>\n",
       "      <td>-73.726339</td>\n",
       "      <td>872a103a6ffffff</td>\n",
       "    </tr>\n",
       "    <tr>\n",
       "      <th>4</th>\n",
       "      <td>2015-12-31</td>\n",
       "      <td>23:25:00</td>\n",
       "      <td>2015-12-31</td>\n",
       "      <td>344</td>\n",
       "      <td>ASSAULT 3 &amp; RELATED OFFENSES</td>\n",
       "      <td>1</td>\n",
       "      <td>MISDEMEANOR</td>\n",
       "      <td>N.Y. POLICE DEPT</td>\n",
       "      <td>3</td>\n",
       "      <td>13.0</td>\n",
       "      <td>40.738002</td>\n",
       "      <td>-73.987891</td>\n",
       "      <td>872a100d2ffffff</td>\n",
       "    </tr>\n",
       "  </tbody>\n",
       "</table>\n",
       "</div>"
      ],
      "text/plain": [
       "  CMPLNT_FR_DT CMPLNT_FR_TM     RPT_DT  KY_CD  \\\n",
       "0   2015-12-31     23:45:00 2015-12-31    113   \n",
       "1   2015-12-31     23:36:00 2015-12-31    101   \n",
       "2   2015-12-31     23:30:00 2015-12-31    117   \n",
       "3   2015-12-31     23:30:00 2015-12-31    344   \n",
       "4   2015-12-31     23:25:00 2015-12-31    344   \n",
       "\n",
       "                         OFNS_DESC  CRM_ATPT_CPTD_CD   LAW_CAT_CD  \\\n",
       "0                          FORGERY                 1       FELONY   \n",
       "1  MURDER & NON-NEGL. MANSLAUGHTER                 1       FELONY   \n",
       "2                  DANGEROUS DRUGS                 1       FELONY   \n",
       "3     ASSAULT 3 & RELATED OFFENSES                 1  MISDEMEANOR   \n",
       "4     ASSAULT 3 & RELATED OFFENSES                 1  MISDEMEANOR   \n",
       "\n",
       "         JURIS_DESC  BORO_NM  ADDR_PCT_CD   Latitude  Longitude  \\\n",
       "0  N.Y. POLICE DEPT        1         44.0  40.828848 -73.916661   \n",
       "1  N.Y. POLICE DEPT        4        103.0  40.697338 -73.784557   \n",
       "2  N.Y. POLICE DEPT        3         28.0  40.802607 -73.945052   \n",
       "3  N.Y. POLICE DEPT        4        105.0  40.654549 -73.726339   \n",
       "4  N.Y. POLICE DEPT        3         13.0  40.738002 -73.987891   \n",
       "\n",
       "          h3_index  \n",
       "0  872a100a8ffffff  \n",
       "1  872a100e9ffffff  \n",
       "2  872a1008dffffff  \n",
       "3  872a103a6ffffff  \n",
       "4  872a100d2ffffff  "
      ]
     },
     "execution_count": 104,
     "metadata": {},
     "output_type": "execute_result"
    }
   ],
   "source": [
    "data.head()"
   ]
  },
  {
   "cell_type": "code",
   "execution_count": 105,
   "metadata": {},
   "outputs": [],
   "source": [
    "data['CMPLNT_FR_DT'] = pd.to_datetime(data['CMPLNT_FR_DT'], errors='coerce')\n",
    "data['CMPLNT_FR_TM'] = pd.to_datetime(data['CMPLNT_FR_TM'], format='%H:%M:%S', errors='coerce').dt.time\n",
    "\n",
    "# Extract useful features from the date and time\n",
    "data['Year'] = data['CMPLNT_FR_DT'].dt.year\n",
    "data['Month'] = data['CMPLNT_FR_DT'].dt.month\n",
    "data['Day'] = data['CMPLNT_FR_DT'].dt.day\n",
    "data['Hour'] = data['CMPLNT_FR_TM'].apply(lambda x: x.hour if pd.notnull(x) else -1)\n",
    "data['Minute'] = data['CMPLNT_FR_TM'].apply(lambda x: x.minute if pd.notnull(x) else -1)\n",
    "data['DayOfWeek'] = data['CMPLNT_FR_DT'].dt.dayofweek\n",
    "\n",
    "# Drop the original date and time columns\n",
    "data = data.drop(columns=['CMPLNT_FR_DT', 'CMPLNT_FR_TM'])\n"
   ]
  },
  {
   "cell_type": "code",
   "execution_count": 106,
   "metadata": {},
   "outputs": [
    {
     "data": {
      "text/html": [
       "<div>\n",
       "<style scoped>\n",
       "    .dataframe tbody tr th:only-of-type {\n",
       "        vertical-align: middle;\n",
       "    }\n",
       "\n",
       "    .dataframe tbody tr th {\n",
       "        vertical-align: top;\n",
       "    }\n",
       "\n",
       "    .dataframe thead th {\n",
       "        text-align: right;\n",
       "    }\n",
       "</style>\n",
       "<table border=\"1\" class=\"dataframe\">\n",
       "  <thead>\n",
       "    <tr style=\"text-align: right;\">\n",
       "      <th></th>\n",
       "      <th>RPT_DT</th>\n",
       "      <th>KY_CD</th>\n",
       "      <th>OFNS_DESC</th>\n",
       "      <th>CRM_ATPT_CPTD_CD</th>\n",
       "      <th>LAW_CAT_CD</th>\n",
       "      <th>JURIS_DESC</th>\n",
       "      <th>BORO_NM</th>\n",
       "      <th>ADDR_PCT_CD</th>\n",
       "      <th>Latitude</th>\n",
       "      <th>Longitude</th>\n",
       "      <th>h3_index</th>\n",
       "      <th>Year</th>\n",
       "      <th>Month</th>\n",
       "      <th>Day</th>\n",
       "      <th>Hour</th>\n",
       "      <th>Minute</th>\n",
       "      <th>DayOfWeek</th>\n",
       "    </tr>\n",
       "  </thead>\n",
       "  <tbody>\n",
       "    <tr>\n",
       "      <th>0</th>\n",
       "      <td>2015-12-31</td>\n",
       "      <td>113</td>\n",
       "      <td>FORGERY</td>\n",
       "      <td>1</td>\n",
       "      <td>FELONY</td>\n",
       "      <td>N.Y. POLICE DEPT</td>\n",
       "      <td>1</td>\n",
       "      <td>44.0</td>\n",
       "      <td>40.828848</td>\n",
       "      <td>-73.916661</td>\n",
       "      <td>872a100a8ffffff</td>\n",
       "      <td>2015.0</td>\n",
       "      <td>12.0</td>\n",
       "      <td>31.0</td>\n",
       "      <td>23</td>\n",
       "      <td>45</td>\n",
       "      <td>3.0</td>\n",
       "    </tr>\n",
       "    <tr>\n",
       "      <th>1</th>\n",
       "      <td>2015-12-31</td>\n",
       "      <td>101</td>\n",
       "      <td>MURDER &amp; NON-NEGL. MANSLAUGHTER</td>\n",
       "      <td>1</td>\n",
       "      <td>FELONY</td>\n",
       "      <td>N.Y. POLICE DEPT</td>\n",
       "      <td>4</td>\n",
       "      <td>103.0</td>\n",
       "      <td>40.697338</td>\n",
       "      <td>-73.784557</td>\n",
       "      <td>872a100e9ffffff</td>\n",
       "      <td>2015.0</td>\n",
       "      <td>12.0</td>\n",
       "      <td>31.0</td>\n",
       "      <td>23</td>\n",
       "      <td>36</td>\n",
       "      <td>3.0</td>\n",
       "    </tr>\n",
       "    <tr>\n",
       "      <th>2</th>\n",
       "      <td>2015-12-31</td>\n",
       "      <td>117</td>\n",
       "      <td>DANGEROUS DRUGS</td>\n",
       "      <td>1</td>\n",
       "      <td>FELONY</td>\n",
       "      <td>N.Y. POLICE DEPT</td>\n",
       "      <td>3</td>\n",
       "      <td>28.0</td>\n",
       "      <td>40.802607</td>\n",
       "      <td>-73.945052</td>\n",
       "      <td>872a1008dffffff</td>\n",
       "      <td>2015.0</td>\n",
       "      <td>12.0</td>\n",
       "      <td>31.0</td>\n",
       "      <td>23</td>\n",
       "      <td>30</td>\n",
       "      <td>3.0</td>\n",
       "    </tr>\n",
       "    <tr>\n",
       "      <th>3</th>\n",
       "      <td>2015-12-31</td>\n",
       "      <td>344</td>\n",
       "      <td>ASSAULT 3 &amp; RELATED OFFENSES</td>\n",
       "      <td>1</td>\n",
       "      <td>MISDEMEANOR</td>\n",
       "      <td>N.Y. POLICE DEPT</td>\n",
       "      <td>4</td>\n",
       "      <td>105.0</td>\n",
       "      <td>40.654549</td>\n",
       "      <td>-73.726339</td>\n",
       "      <td>872a103a6ffffff</td>\n",
       "      <td>2015.0</td>\n",
       "      <td>12.0</td>\n",
       "      <td>31.0</td>\n",
       "      <td>23</td>\n",
       "      <td>30</td>\n",
       "      <td>3.0</td>\n",
       "    </tr>\n",
       "    <tr>\n",
       "      <th>4</th>\n",
       "      <td>2015-12-31</td>\n",
       "      <td>344</td>\n",
       "      <td>ASSAULT 3 &amp; RELATED OFFENSES</td>\n",
       "      <td>1</td>\n",
       "      <td>MISDEMEANOR</td>\n",
       "      <td>N.Y. POLICE DEPT</td>\n",
       "      <td>3</td>\n",
       "      <td>13.0</td>\n",
       "      <td>40.738002</td>\n",
       "      <td>-73.987891</td>\n",
       "      <td>872a100d2ffffff</td>\n",
       "      <td>2015.0</td>\n",
       "      <td>12.0</td>\n",
       "      <td>31.0</td>\n",
       "      <td>23</td>\n",
       "      <td>25</td>\n",
       "      <td>3.0</td>\n",
       "    </tr>\n",
       "  </tbody>\n",
       "</table>\n",
       "</div>"
      ],
      "text/plain": [
       "      RPT_DT  KY_CD                        OFNS_DESC  CRM_ATPT_CPTD_CD  \\\n",
       "0 2015-12-31    113                          FORGERY                 1   \n",
       "1 2015-12-31    101  MURDER & NON-NEGL. MANSLAUGHTER                 1   \n",
       "2 2015-12-31    117                  DANGEROUS DRUGS                 1   \n",
       "3 2015-12-31    344     ASSAULT 3 & RELATED OFFENSES                 1   \n",
       "4 2015-12-31    344     ASSAULT 3 & RELATED OFFENSES                 1   \n",
       "\n",
       "    LAW_CAT_CD        JURIS_DESC  BORO_NM  ADDR_PCT_CD   Latitude  Longitude  \\\n",
       "0       FELONY  N.Y. POLICE DEPT        1         44.0  40.828848 -73.916661   \n",
       "1       FELONY  N.Y. POLICE DEPT        4        103.0  40.697338 -73.784557   \n",
       "2       FELONY  N.Y. POLICE DEPT        3         28.0  40.802607 -73.945052   \n",
       "3  MISDEMEANOR  N.Y. POLICE DEPT        4        105.0  40.654549 -73.726339   \n",
       "4  MISDEMEANOR  N.Y. POLICE DEPT        3         13.0  40.738002 -73.987891   \n",
       "\n",
       "          h3_index    Year  Month   Day  Hour  Minute  DayOfWeek  \n",
       "0  872a100a8ffffff  2015.0   12.0  31.0    23      45        3.0  \n",
       "1  872a100e9ffffff  2015.0   12.0  31.0    23      36        3.0  \n",
       "2  872a1008dffffff  2015.0   12.0  31.0    23      30        3.0  \n",
       "3  872a103a6ffffff  2015.0   12.0  31.0    23      30        3.0  \n",
       "4  872a100d2ffffff  2015.0   12.0  31.0    23      25        3.0  "
      ]
     },
     "execution_count": 106,
     "metadata": {},
     "output_type": "execute_result"
    }
   ],
   "source": [
    "data.head() "
   ]
  },
  {
   "cell_type": "code",
   "execution_count": 107,
   "metadata": {},
   "outputs": [],
   "source": [
    "\n",
    "data['LAW_CAT_CD_NUM'] = data['LAW_CAT_CD'].map({\n",
    "    'FELONY': 3,\n",
    "    'MISDEMEANOR': 2,\n",
    "    'VIOLATION': 1\n",
    "})\n"
   ]
  },
  {
   "cell_type": "code",
   "execution_count": 108,
   "metadata": {},
   "outputs": [],
   "source": [
    "data= data.drop(['RPT_DT','KY_CD','CRM_ATPT_CPTD_CD','JURIS_DESC','ADDR_PCT_CD','LAW_CAT_CD','OFNS_DESC'],axis=1)"
   ]
  },
  {
   "cell_type": "code",
   "execution_count": 109,
   "metadata": {},
   "outputs": [
    {
     "data": {
      "text/html": [
       "<div>\n",
       "<style scoped>\n",
       "    .dataframe tbody tr th:only-of-type {\n",
       "        vertical-align: middle;\n",
       "    }\n",
       "\n",
       "    .dataframe tbody tr th {\n",
       "        vertical-align: top;\n",
       "    }\n",
       "\n",
       "    .dataframe thead th {\n",
       "        text-align: right;\n",
       "    }\n",
       "</style>\n",
       "<table border=\"1\" class=\"dataframe\">\n",
       "  <thead>\n",
       "    <tr style=\"text-align: right;\">\n",
       "      <th></th>\n",
       "      <th>BORO_NM</th>\n",
       "      <th>Latitude</th>\n",
       "      <th>Longitude</th>\n",
       "      <th>h3_index</th>\n",
       "      <th>Year</th>\n",
       "      <th>Month</th>\n",
       "      <th>Day</th>\n",
       "      <th>Hour</th>\n",
       "      <th>Minute</th>\n",
       "      <th>DayOfWeek</th>\n",
       "      <th>LAW_CAT_CD_NUM</th>\n",
       "    </tr>\n",
       "  </thead>\n",
       "  <tbody>\n",
       "    <tr>\n",
       "      <th>0</th>\n",
       "      <td>1</td>\n",
       "      <td>40.828848</td>\n",
       "      <td>-73.916661</td>\n",
       "      <td>872a100a8ffffff</td>\n",
       "      <td>2015.0</td>\n",
       "      <td>12.0</td>\n",
       "      <td>31.0</td>\n",
       "      <td>23</td>\n",
       "      <td>45</td>\n",
       "      <td>3.0</td>\n",
       "      <td>3</td>\n",
       "    </tr>\n",
       "    <tr>\n",
       "      <th>1</th>\n",
       "      <td>4</td>\n",
       "      <td>40.697338</td>\n",
       "      <td>-73.784557</td>\n",
       "      <td>872a100e9ffffff</td>\n",
       "      <td>2015.0</td>\n",
       "      <td>12.0</td>\n",
       "      <td>31.0</td>\n",
       "      <td>23</td>\n",
       "      <td>36</td>\n",
       "      <td>3.0</td>\n",
       "      <td>3</td>\n",
       "    </tr>\n",
       "    <tr>\n",
       "      <th>2</th>\n",
       "      <td>3</td>\n",
       "      <td>40.802607</td>\n",
       "      <td>-73.945052</td>\n",
       "      <td>872a1008dffffff</td>\n",
       "      <td>2015.0</td>\n",
       "      <td>12.0</td>\n",
       "      <td>31.0</td>\n",
       "      <td>23</td>\n",
       "      <td>30</td>\n",
       "      <td>3.0</td>\n",
       "      <td>3</td>\n",
       "    </tr>\n",
       "    <tr>\n",
       "      <th>3</th>\n",
       "      <td>4</td>\n",
       "      <td>40.654549</td>\n",
       "      <td>-73.726339</td>\n",
       "      <td>872a103a6ffffff</td>\n",
       "      <td>2015.0</td>\n",
       "      <td>12.0</td>\n",
       "      <td>31.0</td>\n",
       "      <td>23</td>\n",
       "      <td>30</td>\n",
       "      <td>3.0</td>\n",
       "      <td>2</td>\n",
       "    </tr>\n",
       "    <tr>\n",
       "      <th>4</th>\n",
       "      <td>3</td>\n",
       "      <td>40.738002</td>\n",
       "      <td>-73.987891</td>\n",
       "      <td>872a100d2ffffff</td>\n",
       "      <td>2015.0</td>\n",
       "      <td>12.0</td>\n",
       "      <td>31.0</td>\n",
       "      <td>23</td>\n",
       "      <td>25</td>\n",
       "      <td>3.0</td>\n",
       "      <td>2</td>\n",
       "    </tr>\n",
       "  </tbody>\n",
       "</table>\n",
       "</div>"
      ],
      "text/plain": [
       "   BORO_NM   Latitude  Longitude         h3_index    Year  Month   Day  Hour  \\\n",
       "0        1  40.828848 -73.916661  872a100a8ffffff  2015.0   12.0  31.0    23   \n",
       "1        4  40.697338 -73.784557  872a100e9ffffff  2015.0   12.0  31.0    23   \n",
       "2        3  40.802607 -73.945052  872a1008dffffff  2015.0   12.0  31.0    23   \n",
       "3        4  40.654549 -73.726339  872a103a6ffffff  2015.0   12.0  31.0    23   \n",
       "4        3  40.738002 -73.987891  872a100d2ffffff  2015.0   12.0  31.0    23   \n",
       "\n",
       "   Minute  DayOfWeek  LAW_CAT_CD_NUM  \n",
       "0      45        3.0               3  \n",
       "1      36        3.0               3  \n",
       "2      30        3.0               3  \n",
       "3      30        3.0               2  \n",
       "4      25        3.0               2  "
      ]
     },
     "execution_count": 109,
     "metadata": {},
     "output_type": "execute_result"
    }
   ],
   "source": [
    "data.head()"
   ]
  },
  {
   "cell_type": "code",
   "execution_count": 112,
   "metadata": {},
   "outputs": [
    {
     "data": {
      "text/plain": [
       "202"
      ]
     },
     "execution_count": 112,
     "metadata": {},
     "output_type": "execute_result"
    }
   ],
   "source": [
    "data['h3_index'].nunique()\n"
   ]
  },
  {
   "cell_type": "code",
   "execution_count": 113,
   "metadata": {},
   "outputs": [],
   "source": [
    "from sklearn.model_selection import train_test_split\n",
    "from xgboost import XGBClassifier\n",
    "from sklearn.metrics import accuracy_score\n",
    "from sklearn.preprocessing import LabelEncoder"
   ]
  },
  {
   "cell_type": "code",
   "execution_count": 127,
   "metadata": {},
   "outputs": [],
   "source": [
    "X= data.drop(['h3_index','Latitude','Longitude'],axis=1)\n",
    "y= data['h3_index']"
   ]
  },
  {
   "cell_type": "code",
   "execution_count": 128,
   "metadata": {},
   "outputs": [],
   "source": [
    "label_encoder = LabelEncoder()\n",
    "y_encoded= label_encoder.fit_transform(y)   "
   ]
  },
  {
   "cell_type": "code",
   "execution_count": 129,
   "metadata": {},
   "outputs": [
    {
     "data": {
      "text/html": [
       "<div>\n",
       "<style scoped>\n",
       "    .dataframe tbody tr th:only-of-type {\n",
       "        vertical-align: middle;\n",
       "    }\n",
       "\n",
       "    .dataframe tbody tr th {\n",
       "        vertical-align: top;\n",
       "    }\n",
       "\n",
       "    .dataframe thead th {\n",
       "        text-align: right;\n",
       "    }\n",
       "</style>\n",
       "<table border=\"1\" class=\"dataframe\">\n",
       "  <thead>\n",
       "    <tr style=\"text-align: right;\">\n",
       "      <th></th>\n",
       "      <th>BORO_NM</th>\n",
       "      <th>Year</th>\n",
       "      <th>Month</th>\n",
       "      <th>Day</th>\n",
       "      <th>Hour</th>\n",
       "      <th>Minute</th>\n",
       "      <th>DayOfWeek</th>\n",
       "      <th>LAW_CAT_CD_NUM</th>\n",
       "    </tr>\n",
       "  </thead>\n",
       "  <tbody>\n",
       "    <tr>\n",
       "      <th>0</th>\n",
       "      <td>1</td>\n",
       "      <td>2015.0</td>\n",
       "      <td>12.0</td>\n",
       "      <td>31.0</td>\n",
       "      <td>23</td>\n",
       "      <td>45</td>\n",
       "      <td>3.0</td>\n",
       "      <td>3</td>\n",
       "    </tr>\n",
       "    <tr>\n",
       "      <th>1</th>\n",
       "      <td>4</td>\n",
       "      <td>2015.0</td>\n",
       "      <td>12.0</td>\n",
       "      <td>31.0</td>\n",
       "      <td>23</td>\n",
       "      <td>36</td>\n",
       "      <td>3.0</td>\n",
       "      <td>3</td>\n",
       "    </tr>\n",
       "    <tr>\n",
       "      <th>2</th>\n",
       "      <td>3</td>\n",
       "      <td>2015.0</td>\n",
       "      <td>12.0</td>\n",
       "      <td>31.0</td>\n",
       "      <td>23</td>\n",
       "      <td>30</td>\n",
       "      <td>3.0</td>\n",
       "      <td>3</td>\n",
       "    </tr>\n",
       "    <tr>\n",
       "      <th>3</th>\n",
       "      <td>4</td>\n",
       "      <td>2015.0</td>\n",
       "      <td>12.0</td>\n",
       "      <td>31.0</td>\n",
       "      <td>23</td>\n",
       "      <td>30</td>\n",
       "      <td>3.0</td>\n",
       "      <td>2</td>\n",
       "    </tr>\n",
       "    <tr>\n",
       "      <th>4</th>\n",
       "      <td>3</td>\n",
       "      <td>2015.0</td>\n",
       "      <td>12.0</td>\n",
       "      <td>31.0</td>\n",
       "      <td>23</td>\n",
       "      <td>25</td>\n",
       "      <td>3.0</td>\n",
       "      <td>2</td>\n",
       "    </tr>\n",
       "  </tbody>\n",
       "</table>\n",
       "</div>"
      ],
      "text/plain": [
       "   BORO_NM    Year  Month   Day  Hour  Minute  DayOfWeek  LAW_CAT_CD_NUM\n",
       "0        1  2015.0   12.0  31.0    23      45        3.0               3\n",
       "1        4  2015.0   12.0  31.0    23      36        3.0               3\n",
       "2        3  2015.0   12.0  31.0    23      30        3.0               3\n",
       "3        4  2015.0   12.0  31.0    23      30        3.0               2\n",
       "4        3  2015.0   12.0  31.0    23      25        3.0               2"
      ]
     },
     "execution_count": 129,
     "metadata": {},
     "output_type": "execute_result"
    }
   ],
   "source": [
    "X.head()"
   ]
  },
  {
   "cell_type": "code",
   "execution_count": 135,
   "metadata": {},
   "outputs": [],
   "source": [
    "x_train, x_test, y_train, y_test = train_test_split(X, y_encoded, test_size=0.2, random_state=42,shuffle=True)"
   ]
  },
  {
   "cell_type": "code",
   "execution_count": 143,
   "metadata": {},
   "outputs": [
    {
     "data": {
      "text/plain": [
       "array([  0,   1,   2,   3,   4,   5,   6,   7,   8,   9,  10,  11,  12,\n",
       "        13,  14,  15,  16,  17,  18,  19,  20,  21,  22,  23,  24,  25,\n",
       "        26,  27,  28,  29,  30,  31,  32,  33,  34,  35,  36,  37,  39,\n",
       "        40,  41,  42,  43,  44,  45,  46,  47,  48,  49,  50,  51,  52,\n",
       "        53,  54,  55,  56,  57,  58,  59,  60,  61,  62,  63,  64,  65,\n",
       "        66,  67,  68,  69,  70,  71,  72,  73,  74,  75,  76,  77,  78,\n",
       "        79,  80,  81,  82,  83,  84,  85,  86,  87,  88,  89,  90,  91,\n",
       "        92,  93,  94,  95,  96,  97,  98,  99, 100, 101, 102, 103, 104,\n",
       "       105, 106, 108, 109, 110, 111, 112, 113, 114, 115, 116, 117, 118,\n",
       "       119, 120, 121, 122, 123, 124, 125, 126, 127, 128, 129, 130, 131,\n",
       "       132, 133, 134, 135, 136, 137, 138, 139, 140, 141, 142, 143, 144,\n",
       "       145, 146, 147, 148, 149, 150, 151, 152, 153, 154, 155, 157, 158,\n",
       "       159, 160, 161, 162, 163, 164, 165, 166, 167, 168, 169, 170, 171,\n",
       "       172, 173, 174, 175, 176, 177, 178, 179, 180, 181, 182, 183, 184,\n",
       "       185, 186, 187, 188, 189, 190, 191, 192, 193, 194, 195, 196, 197,\n",
       "       198, 199, 200, 201])"
      ]
     },
     "execution_count": 143,
     "metadata": {},
     "output_type": "execute_result"
    }
   ],
   "source": [
    "np.unique(y_test)"
   ]
  },
  {
   "cell_type": "code",
   "execution_count": 133,
   "metadata": {},
   "outputs": [],
   "source": [
    "model= XGBClassifier()"
   ]
  },
  {
   "cell_type": "code",
   "execution_count": 144,
   "metadata": {},
   "outputs": [
    {
     "ename": "ValueError",
     "evalue": "Invalid classes inferred from unique values of `y`.  Expected: [  0   1   2   3   4   5   6   7   8   9  10  11  12  13  14  15  16  17\n  18  19  20  21  22  23  24  25  26  27  28  29  30  31  32  33  34  35\n  36  37  38  39  40  41  42  43  44  45  46  47  48  49  50  51  52  53\n  54  55  56  57  58  59  60  61  62  63  64  65  66  67  68  69  70  71\n  72  73  74  75  76  77  78  79  80  81  82  83  84  85  86  87  88  89\n  90  91  92  93  94  95  96  97  98  99 100 101 102 103 104 105 106 107\n 108 109 110 111 112 113 114 115 116 117 118 119 120 121 122 123 124 125\n 126 127 128 129 130 131 132 133 134 135 136 137 138 139 140 141 142 143\n 144 145 146 147 148 149 150 151 152 153 154 155 156 157 158 159 160 161\n 162 163 164 165 166 167 168 169 170 171 172 173 174 175 176 177 178 179\n 180 181 182 183 184 185 186 187 188 189 190 191 192 193 194 195 196 197\n 198 199 200], got [  0   1   2   3   5   6   7   8   9  10  11  12  13  14  15  16  17  18\n  19  20  21  22  23  24  25  26  27  28  29  30  31  32  33  34  35  36\n  37  38  39  40  41  42  43  44  45  46  47  48  49  50  51  52  53  54\n  55  56  57  58  59  60  61  62  63  64  65  66  67  68  69  70  71  72\n  73  74  75  76  77  78  79  80  81  82  83  84  85  86  87  88  89  90\n  91  92  93  94  95  96  97  98  99 100 101 102 103 104 105 106 107 108\n 109 110 111 112 113 114 115 116 117 118 119 120 121 122 123 124 125 126\n 127 128 129 130 131 132 133 134 135 136 137 138 139 140 141 142 143 144\n 145 146 147 148 149 150 151 152 153 154 155 156 157 158 159 160 161 162\n 163 164 165 166 167 168 169 170 171 172 173 174 175 176 177 178 179 180\n 181 182 183 184 185 186 187 188 189 190 191 192 193 194 195 196 197 198\n 199 200 201]",
     "output_type": "error",
     "traceback": [
      "\u001b[1;31m---------------------------------------------------------------------------\u001b[0m",
      "\u001b[1;31mValueError\u001b[0m                                Traceback (most recent call last)",
      "Cell \u001b[1;32mIn[144], line 1\u001b[0m\n\u001b[1;32m----> 1\u001b[0m \u001b[43mmodel\u001b[49m\u001b[38;5;241;43m.\u001b[39;49m\u001b[43mfit\u001b[49m\u001b[43m(\u001b[49m\u001b[43mx_train\u001b[49m\u001b[43m,\u001b[49m\u001b[43my_train\u001b[49m\u001b[43m)\u001b[49m\n",
      "File \u001b[1;32mc:\\Users\\roshni\\AppData\\Local\\Programs\\Python\\Python312\\Lib\\site-packages\\xgboost\\core.py:726\u001b[0m, in \u001b[0;36mrequire_keyword_args.<locals>.throw_if.<locals>.inner_f\u001b[1;34m(*args, **kwargs)\u001b[0m\n\u001b[0;32m    724\u001b[0m \u001b[38;5;28;01mfor\u001b[39;00m k, arg \u001b[38;5;129;01min\u001b[39;00m \u001b[38;5;28mzip\u001b[39m(sig\u001b[38;5;241m.\u001b[39mparameters, args):\n\u001b[0;32m    725\u001b[0m     kwargs[k] \u001b[38;5;241m=\u001b[39m arg\n\u001b[1;32m--> 726\u001b[0m \u001b[38;5;28;01mreturn\u001b[39;00m \u001b[43mfunc\u001b[49m\u001b[43m(\u001b[49m\u001b[38;5;241;43m*\u001b[39;49m\u001b[38;5;241;43m*\u001b[39;49m\u001b[43mkwargs\u001b[49m\u001b[43m)\u001b[49m\n",
      "File \u001b[1;32mc:\\Users\\roshni\\AppData\\Local\\Programs\\Python\\Python312\\Lib\\site-packages\\xgboost\\sklearn.py:1559\u001b[0m, in \u001b[0;36mXGBClassifier.fit\u001b[1;34m(self, X, y, sample_weight, base_margin, eval_set, verbose, xgb_model, sample_weight_eval_set, base_margin_eval_set, feature_weights)\u001b[0m\n\u001b[0;32m   1554\u001b[0m     expected_classes \u001b[38;5;241m=\u001b[39m \u001b[38;5;28mself\u001b[39m\u001b[38;5;241m.\u001b[39mclasses_\n\u001b[0;32m   1555\u001b[0m \u001b[38;5;28;01mif\u001b[39;00m (\n\u001b[0;32m   1556\u001b[0m     classes\u001b[38;5;241m.\u001b[39mshape \u001b[38;5;241m!=\u001b[39m expected_classes\u001b[38;5;241m.\u001b[39mshape\n\u001b[0;32m   1557\u001b[0m     \u001b[38;5;129;01mor\u001b[39;00m \u001b[38;5;129;01mnot\u001b[39;00m (classes \u001b[38;5;241m==\u001b[39m expected_classes)\u001b[38;5;241m.\u001b[39mall()\n\u001b[0;32m   1558\u001b[0m ):\n\u001b[1;32m-> 1559\u001b[0m     \u001b[38;5;28;01mraise\u001b[39;00m \u001b[38;5;167;01mValueError\u001b[39;00m(\n\u001b[0;32m   1560\u001b[0m         \u001b[38;5;124mf\u001b[39m\u001b[38;5;124m\"\u001b[39m\u001b[38;5;124mInvalid classes inferred from unique values of `y`.  \u001b[39m\u001b[38;5;124m\"\u001b[39m\n\u001b[0;32m   1561\u001b[0m         \u001b[38;5;124mf\u001b[39m\u001b[38;5;124m\"\u001b[39m\u001b[38;5;124mExpected: \u001b[39m\u001b[38;5;132;01m{\u001b[39;00mexpected_classes\u001b[38;5;132;01m}\u001b[39;00m\u001b[38;5;124m, got \u001b[39m\u001b[38;5;132;01m{\u001b[39;00mclasses\u001b[38;5;132;01m}\u001b[39;00m\u001b[38;5;124m\"\u001b[39m\n\u001b[0;32m   1562\u001b[0m     )\n\u001b[0;32m   1564\u001b[0m params \u001b[38;5;241m=\u001b[39m \u001b[38;5;28mself\u001b[39m\u001b[38;5;241m.\u001b[39mget_xgb_params()\n\u001b[0;32m   1566\u001b[0m \u001b[38;5;28;01mif\u001b[39;00m \u001b[38;5;28mcallable\u001b[39m(\u001b[38;5;28mself\u001b[39m\u001b[38;5;241m.\u001b[39mobjective):\n",
      "\u001b[1;31mValueError\u001b[0m: Invalid classes inferred from unique values of `y`.  Expected: [  0   1   2   3   4   5   6   7   8   9  10  11  12  13  14  15  16  17\n  18  19  20  21  22  23  24  25  26  27  28  29  30  31  32  33  34  35\n  36  37  38  39  40  41  42  43  44  45  46  47  48  49  50  51  52  53\n  54  55  56  57  58  59  60  61  62  63  64  65  66  67  68  69  70  71\n  72  73  74  75  76  77  78  79  80  81  82  83  84  85  86  87  88  89\n  90  91  92  93  94  95  96  97  98  99 100 101 102 103 104 105 106 107\n 108 109 110 111 112 113 114 115 116 117 118 119 120 121 122 123 124 125\n 126 127 128 129 130 131 132 133 134 135 136 137 138 139 140 141 142 143\n 144 145 146 147 148 149 150 151 152 153 154 155 156 157 158 159 160 161\n 162 163 164 165 166 167 168 169 170 171 172 173 174 175 176 177 178 179\n 180 181 182 183 184 185 186 187 188 189 190 191 192 193 194 195 196 197\n 198 199 200], got [  0   1   2   3   5   6   7   8   9  10  11  12  13  14  15  16  17  18\n  19  20  21  22  23  24  25  26  27  28  29  30  31  32  33  34  35  36\n  37  38  39  40  41  42  43  44  45  46  47  48  49  50  51  52  53  54\n  55  56  57  58  59  60  61  62  63  64  65  66  67  68  69  70  71  72\n  73  74  75  76  77  78  79  80  81  82  83  84  85  86  87  88  89  90\n  91  92  93  94  95  96  97  98  99 100 101 102 103 104 105 106 107 108\n 109 110 111 112 113 114 115 116 117 118 119 120 121 122 123 124 125 126\n 127 128 129 130 131 132 133 134 135 136 137 138 139 140 141 142 143 144\n 145 146 147 148 149 150 151 152 153 154 155 156 157 158 159 160 161 162\n 163 164 165 166 167 168 169 170 171 172 173 174 175 176 177 178 179 180\n 181 182 183 184 185 186 187 188 189 190 191 192 193 194 195 196 197 198\n 199 200 201]"
     ]
    }
   ],
   "source": [
    "model.fit(x_train,y_train)"
   ]
  },
  {
   "cell_type": "code",
   "execution_count": null,
   "metadata": {},
   "outputs": [],
   "source": []
  }
 ],
 "metadata": {
  "kernelspec": {
   "display_name": "Python 3",
   "language": "python",
   "name": "python3"
  },
  "language_info": {
   "codemirror_mode": {
    "name": "ipython",
    "version": 3
   },
   "file_extension": ".py",
   "mimetype": "text/x-python",
   "name": "python",
   "nbconvert_exporter": "python",
   "pygments_lexer": "ipython3",
   "version": "3.12.8"
  }
 },
 "nbformat": 4,
 "nbformat_minor": 2
}
