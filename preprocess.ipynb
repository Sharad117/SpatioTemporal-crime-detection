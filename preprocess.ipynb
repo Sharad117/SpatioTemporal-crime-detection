{
 "cells": [
  {
   "cell_type": "code",
   "execution_count": 2,
   "metadata": {},
   "outputs": [],
   "source": [
    "import pandas as pd\n",
    "import matplotlib.pyplot as plt"
   ]
  },
  {
   "cell_type": "code",
   "execution_count": 3,
   "metadata": {},
   "outputs": [
    {
     "name": "stderr",
     "output_type": "stream",
     "text": [
      "C:\\Users\\roshni\\AppData\\Local\\Temp\\ipykernel_15748\\2082674159.py:1: DtypeWarning: Columns (17) have mixed types. Specify dtype option on import or set low_memory=False.\n",
      "  data=pd.read_csv(r'dataset\\NYPD_Complaint_Data_Historic.csv')\n"
     ]
    }
   ],
   "source": [
    "data=pd.read_csv(r'dataset\\NYPD_Complaint_Data_Historic.csv')"
   ]
  },
  {
   "cell_type": "code",
   "execution_count": 4,
   "metadata": {},
   "outputs": [
    {
     "data": {
      "text/plain": [
       "CMPLNT_NUM                                101109527\n",
       "CMPLNT_FR_DT                             12/31/2015\n",
       "CMPLNT_FR_TM                               23:45:00\n",
       "CMPLNT_TO_DT                                    NaN\n",
       "CMPLNT_TO_TM                                    NaN\n",
       "RPT_DT                                   12/31/2015\n",
       "KY_CD                                           113\n",
       "OFNS_DESC                                   FORGERY\n",
       "PD_CD                                         729.0\n",
       "PD_DESC              FORGERY,ETC.,UNCLASSIFIED-FELO\n",
       "CRM_ATPT_CPTD_CD                          COMPLETED\n",
       "LAW_CAT_CD                                   FELONY\n",
       "JURIS_DESC                         N.Y. POLICE DEPT\n",
       "BORO_NM                                       BRONX\n",
       "ADDR_PCT_CD                                    44.0\n",
       "LOC_OF_OCCUR_DESC                            INSIDE\n",
       "PREM_TYP_DESC                        BAR/NIGHT CLUB\n",
       "PARKS_NM                                        NaN\n",
       "HADEVELOPT                                      NaN\n",
       "X_COORD_CD                                1007314.0\n",
       "Y_COORD_CD                                 241257.0\n",
       "Latitude                                  40.828848\n",
       "Longitude                                -73.916661\n",
       "Lat_Lon               (40.828848333, -73.916661142)\n",
       "Name: 0, dtype: object"
      ]
     },
     "execution_count": 4,
     "metadata": {},
     "output_type": "execute_result"
    }
   ],
   "source": [
    "data.iloc[0]"
   ]
  },
  {
   "cell_type": "code",
   "execution_count": 5,
   "metadata": {},
   "outputs": [],
   "source": [
    "desc= pd.read_csv(r'dataset\\Crime_Column_Description.csv')"
   ]
  },
  {
   "cell_type": "code",
   "execution_count": 6,
   "metadata": {},
   "outputs": [
    {
     "data": {
      "text/html": [
       "<div>\n",
       "<style scoped>\n",
       "    .dataframe tbody tr th:only-of-type {\n",
       "        vertical-align: middle;\n",
       "    }\n",
       "\n",
       "    .dataframe tbody tr th {\n",
       "        vertical-align: top;\n",
       "    }\n",
       "\n",
       "    .dataframe thead th {\n",
       "        text-align: right;\n",
       "    }\n",
       "</style>\n",
       "<table border=\"1\" class=\"dataframe\">\n",
       "  <thead>\n",
       "    <tr style=\"text-align: right;\">\n",
       "      <th></th>\n",
       "      <th>Column</th>\n",
       "      <th>Description</th>\n",
       "    </tr>\n",
       "  </thead>\n",
       "  <tbody>\n",
       "    <tr>\n",
       "      <th>0</th>\n",
       "      <td>CMPLNT_NUM</td>\n",
       "      <td>Randomly generated persistent ID for each comp...</td>\n",
       "    </tr>\n",
       "    <tr>\n",
       "      <th>1</th>\n",
       "      <td>CMPLNT_FR_DT</td>\n",
       "      <td>Exact date of occurrence for the reported even...</td>\n",
       "    </tr>\n",
       "    <tr>\n",
       "      <th>2</th>\n",
       "      <td>CMPLNT_FR_TM</td>\n",
       "      <td>Exact time of occurrence for the reported even...</td>\n",
       "    </tr>\n",
       "    <tr>\n",
       "      <th>3</th>\n",
       "      <td>CMPLNT_TO_DT</td>\n",
       "      <td>Ending date of occurrence for the reported eve...</td>\n",
       "    </tr>\n",
       "    <tr>\n",
       "      <th>4</th>\n",
       "      <td>CMPLNT_TO_TM</td>\n",
       "      <td>Ending time of occurrence for the reported eve...</td>\n",
       "    </tr>\n",
       "    <tr>\n",
       "      <th>5</th>\n",
       "      <td>RPT_DT</td>\n",
       "      <td>Date event was reported to police</td>\n",
       "    </tr>\n",
       "    <tr>\n",
       "      <th>6</th>\n",
       "      <td>KY_CD</td>\n",
       "      <td>Three digit offense classification code</td>\n",
       "    </tr>\n",
       "    <tr>\n",
       "      <th>7</th>\n",
       "      <td>OFNS_DESC</td>\n",
       "      <td>Description of offense corresponding with key ...</td>\n",
       "    </tr>\n",
       "    <tr>\n",
       "      <th>8</th>\n",
       "      <td>PD_CD</td>\n",
       "      <td>Three digit internal classification code (more...</td>\n",
       "    </tr>\n",
       "    <tr>\n",
       "      <th>9</th>\n",
       "      <td>PD_DESC</td>\n",
       "      <td>Description of internal classification corresp...</td>\n",
       "    </tr>\n",
       "    <tr>\n",
       "      <th>10</th>\n",
       "      <td>CRM_ATPT_CPTD_CD</td>\n",
       "      <td>Indicator of whether crime was successfully co...</td>\n",
       "    </tr>\n",
       "    <tr>\n",
       "      <th>11</th>\n",
       "      <td>LAW_CAT_CD</td>\n",
       "      <td>Level of offense: felony, misdemeanor, violation</td>\n",
       "    </tr>\n",
       "    <tr>\n",
       "      <th>12</th>\n",
       "      <td>JURIS_DESC</td>\n",
       "      <td>Jurisdiction responsible for incident. Either ...</td>\n",
       "    </tr>\n",
       "    <tr>\n",
       "      <th>13</th>\n",
       "      <td>BORO_NM</td>\n",
       "      <td>The name of the borough in which the incident ...</td>\n",
       "    </tr>\n",
       "    <tr>\n",
       "      <th>14</th>\n",
       "      <td>ADDR_PCT_CD</td>\n",
       "      <td>The precinct in which the incident occurred</td>\n",
       "    </tr>\n",
       "    <tr>\n",
       "      <th>15</th>\n",
       "      <td>LOC_OF_OCCUR_DESC</td>\n",
       "      <td>Specific location of occurrence in or around t...</td>\n",
       "    </tr>\n",
       "    <tr>\n",
       "      <th>16</th>\n",
       "      <td>PREM_TYP_DESC</td>\n",
       "      <td>Specific description of premises; grocery stor...</td>\n",
       "    </tr>\n",
       "    <tr>\n",
       "      <th>17</th>\n",
       "      <td>PARKS_NM</td>\n",
       "      <td>Name of NYC park, playground or greenspace of ...</td>\n",
       "    </tr>\n",
       "    <tr>\n",
       "      <th>18</th>\n",
       "      <td>HADEVELOPT</td>\n",
       "      <td>Name of NYCHA housing development of occurrenc...</td>\n",
       "    </tr>\n",
       "    <tr>\n",
       "      <th>19</th>\n",
       "      <td>X_COORD_CD</td>\n",
       "      <td>X-coordinate for New York State Plane Coordina...</td>\n",
       "    </tr>\n",
       "    <tr>\n",
       "      <th>20</th>\n",
       "      <td>Y_COORD_CD</td>\n",
       "      <td>Y-coordinate for New York State Plane Coordina...</td>\n",
       "    </tr>\n",
       "    <tr>\n",
       "      <th>21</th>\n",
       "      <td>Latitude</td>\n",
       "      <td>Latitude coordinate for Global Coordinate Syst...</td>\n",
       "    </tr>\n",
       "    <tr>\n",
       "      <th>22</th>\n",
       "      <td>Longitude</td>\n",
       "      <td>Longitude coordinate for Global Coordinate Sys...</td>\n",
       "    </tr>\n",
       "  </tbody>\n",
       "</table>\n",
       "</div>"
      ],
      "text/plain": [
       "               Column                                        Description\n",
       "0          CMPLNT_NUM  Randomly generated persistent ID for each comp...\n",
       "1        CMPLNT_FR_DT  Exact date of occurrence for the reported even...\n",
       "2        CMPLNT_FR_TM  Exact time of occurrence for the reported even...\n",
       "3        CMPLNT_TO_DT  Ending date of occurrence for the reported eve...\n",
       "4        CMPLNT_TO_TM  Ending time of occurrence for the reported eve...\n",
       "5              RPT_DT                 Date event was reported to police \n",
       "6               KY_CD            Three digit offense classification code\n",
       "7           OFNS_DESC  Description of offense corresponding with key ...\n",
       "8               PD_CD  Three digit internal classification code (more...\n",
       "9             PD_DESC  Description of internal classification corresp...\n",
       "10   CRM_ATPT_CPTD_CD  Indicator of whether crime was successfully co...\n",
       "11         LAW_CAT_CD  Level of offense: felony, misdemeanor, violation \n",
       "12         JURIS_DESC  Jurisdiction responsible for incident. Either ...\n",
       "13            BORO_NM  The name of the borough in which the incident ...\n",
       "14        ADDR_PCT_CD        The precinct in which the incident occurred\n",
       "15  LOC_OF_OCCUR_DESC  Specific location of occurrence in or around t...\n",
       "16      PREM_TYP_DESC  Specific description of premises; grocery stor...\n",
       "17           PARKS_NM  Name of NYC park, playground or greenspace of ...\n",
       "18         HADEVELOPT  Name of NYCHA housing development of occurrenc...\n",
       "19         X_COORD_CD  X-coordinate for New York State Plane Coordina...\n",
       "20         Y_COORD_CD  Y-coordinate for New York State Plane Coordina...\n",
       "21           Latitude  Latitude coordinate for Global Coordinate Syst...\n",
       "22          Longitude  Longitude coordinate for Global Coordinate Sys..."
      ]
     },
     "execution_count": 6,
     "metadata": {},
     "output_type": "execute_result"
    }
   ],
   "source": [
    "desc"
   ]
  },
  {
   "cell_type": "code",
   "execution_count": 7,
   "metadata": {},
   "outputs": [],
   "source": [
    "data=data.drop(['CMPLNT_NUM','CMPLNT_TO_DT','CMPLNT_TO_TM','PD_CD','PD_DESC','LOC_OF_OCCUR_DESC','PREM_TYP_DESC','PARKS_NM','HADEVELOPT','X_COORD_CD','Y_COORD_CD','Lat_Lon'],axis=1)"
   ]
  },
  {
   "cell_type": "code",
   "execution_count": 8,
   "metadata": {},
   "outputs": [
    {
     "data": {
      "text/html": [
       "<div>\n",
       "<style scoped>\n",
       "    .dataframe tbody tr th:only-of-type {\n",
       "        vertical-align: middle;\n",
       "    }\n",
       "\n",
       "    .dataframe tbody tr th {\n",
       "        vertical-align: top;\n",
       "    }\n",
       "\n",
       "    .dataframe thead th {\n",
       "        text-align: right;\n",
       "    }\n",
       "</style>\n",
       "<table border=\"1\" class=\"dataframe\">\n",
       "  <thead>\n",
       "    <tr style=\"text-align: right;\">\n",
       "      <th></th>\n",
       "      <th>CMPLNT_FR_DT</th>\n",
       "      <th>CMPLNT_FR_TM</th>\n",
       "      <th>RPT_DT</th>\n",
       "      <th>KY_CD</th>\n",
       "      <th>OFNS_DESC</th>\n",
       "      <th>CRM_ATPT_CPTD_CD</th>\n",
       "      <th>LAW_CAT_CD</th>\n",
       "      <th>JURIS_DESC</th>\n",
       "      <th>BORO_NM</th>\n",
       "      <th>ADDR_PCT_CD</th>\n",
       "      <th>Latitude</th>\n",
       "      <th>Longitude</th>\n",
       "    </tr>\n",
       "  </thead>\n",
       "  <tbody>\n",
       "    <tr>\n",
       "      <th>0</th>\n",
       "      <td>12/31/2015</td>\n",
       "      <td>23:45:00</td>\n",
       "      <td>12/31/2015</td>\n",
       "      <td>113</td>\n",
       "      <td>FORGERY</td>\n",
       "      <td>COMPLETED</td>\n",
       "      <td>FELONY</td>\n",
       "      <td>N.Y. POLICE DEPT</td>\n",
       "      <td>BRONX</td>\n",
       "      <td>44.0</td>\n",
       "      <td>40.828848</td>\n",
       "      <td>-73.916661</td>\n",
       "    </tr>\n",
       "    <tr>\n",
       "      <th>1</th>\n",
       "      <td>12/31/2015</td>\n",
       "      <td>23:36:00</td>\n",
       "      <td>12/31/2015</td>\n",
       "      <td>101</td>\n",
       "      <td>MURDER &amp; NON-NEGL. MANSLAUGHTER</td>\n",
       "      <td>COMPLETED</td>\n",
       "      <td>FELONY</td>\n",
       "      <td>N.Y. POLICE DEPT</td>\n",
       "      <td>QUEENS</td>\n",
       "      <td>103.0</td>\n",
       "      <td>40.697338</td>\n",
       "      <td>-73.784557</td>\n",
       "    </tr>\n",
       "    <tr>\n",
       "      <th>2</th>\n",
       "      <td>12/31/2015</td>\n",
       "      <td>23:30:00</td>\n",
       "      <td>12/31/2015</td>\n",
       "      <td>117</td>\n",
       "      <td>DANGEROUS DRUGS</td>\n",
       "      <td>COMPLETED</td>\n",
       "      <td>FELONY</td>\n",
       "      <td>N.Y. POLICE DEPT</td>\n",
       "      <td>MANHATTAN</td>\n",
       "      <td>28.0</td>\n",
       "      <td>40.802607</td>\n",
       "      <td>-73.945052</td>\n",
       "    </tr>\n",
       "    <tr>\n",
       "      <th>3</th>\n",
       "      <td>12/31/2015</td>\n",
       "      <td>23:30:00</td>\n",
       "      <td>12/31/2015</td>\n",
       "      <td>344</td>\n",
       "      <td>ASSAULT 3 &amp; RELATED OFFENSES</td>\n",
       "      <td>COMPLETED</td>\n",
       "      <td>MISDEMEANOR</td>\n",
       "      <td>N.Y. POLICE DEPT</td>\n",
       "      <td>QUEENS</td>\n",
       "      <td>105.0</td>\n",
       "      <td>40.654549</td>\n",
       "      <td>-73.726339</td>\n",
       "    </tr>\n",
       "    <tr>\n",
       "      <th>4</th>\n",
       "      <td>12/31/2015</td>\n",
       "      <td>23:25:00</td>\n",
       "      <td>12/31/2015</td>\n",
       "      <td>344</td>\n",
       "      <td>ASSAULT 3 &amp; RELATED OFFENSES</td>\n",
       "      <td>COMPLETED</td>\n",
       "      <td>MISDEMEANOR</td>\n",
       "      <td>N.Y. POLICE DEPT</td>\n",
       "      <td>MANHATTAN</td>\n",
       "      <td>13.0</td>\n",
       "      <td>40.738002</td>\n",
       "      <td>-73.987891</td>\n",
       "    </tr>\n",
       "  </tbody>\n",
       "</table>\n",
       "</div>"
      ],
      "text/plain": [
       "  CMPLNT_FR_DT CMPLNT_FR_TM      RPT_DT  KY_CD  \\\n",
       "0   12/31/2015     23:45:00  12/31/2015    113   \n",
       "1   12/31/2015     23:36:00  12/31/2015    101   \n",
       "2   12/31/2015     23:30:00  12/31/2015    117   \n",
       "3   12/31/2015     23:30:00  12/31/2015    344   \n",
       "4   12/31/2015     23:25:00  12/31/2015    344   \n",
       "\n",
       "                         OFNS_DESC CRM_ATPT_CPTD_CD   LAW_CAT_CD  \\\n",
       "0                          FORGERY        COMPLETED       FELONY   \n",
       "1  MURDER & NON-NEGL. MANSLAUGHTER        COMPLETED       FELONY   \n",
       "2                  DANGEROUS DRUGS        COMPLETED       FELONY   \n",
       "3     ASSAULT 3 & RELATED OFFENSES        COMPLETED  MISDEMEANOR   \n",
       "4     ASSAULT 3 & RELATED OFFENSES        COMPLETED  MISDEMEANOR   \n",
       "\n",
       "         JURIS_DESC    BORO_NM  ADDR_PCT_CD   Latitude  Longitude  \n",
       "0  N.Y. POLICE DEPT      BRONX         44.0  40.828848 -73.916661  \n",
       "1  N.Y. POLICE DEPT     QUEENS        103.0  40.697338 -73.784557  \n",
       "2  N.Y. POLICE DEPT  MANHATTAN         28.0  40.802607 -73.945052  \n",
       "3  N.Y. POLICE DEPT     QUEENS        105.0  40.654549 -73.726339  \n",
       "4  N.Y. POLICE DEPT  MANHATTAN         13.0  40.738002 -73.987891  "
      ]
     },
     "execution_count": 8,
     "metadata": {},
     "output_type": "execute_result"
    }
   ],
   "source": [
    "data.head()"
   ]
  },
  {
   "cell_type": "markdown",
   "metadata": {},
   "source": [
    "# Checking for NaN (missing) values"
   ]
  },
  {
   "cell_type": "code",
   "execution_count": 9,
   "metadata": {},
   "outputs": [
    {
     "data": {
      "text/plain": [
       "np.int64(32417)"
      ]
     },
     "execution_count": 9,
     "metadata": {},
     "output_type": "execute_result"
    }
   ],
   "source": [
    "data['Longitude'].isna().sum()"
   ]
  },
  {
   "cell_type": "code",
   "execution_count": 10,
   "metadata": {},
   "outputs": [
    {
     "data": {
      "text/plain": [
       "np.int64(32417)"
      ]
     },
     "execution_count": 10,
     "metadata": {},
     "output_type": "execute_result"
    }
   ],
   "source": [
    "data['Latitude'].isna().sum()"
   ]
  },
  {
   "cell_type": "code",
   "execution_count": 11,
   "metadata": {},
   "outputs": [
    {
     "data": {
      "text/plain": [
       "np.int64(1)"
      ]
     },
     "execution_count": 11,
     "metadata": {},
     "output_type": "execute_result"
    }
   ],
   "source": [
    "data['ADDR_PCT_CD'].isna().sum()"
   ]
  },
  {
   "cell_type": "code",
   "execution_count": 12,
   "metadata": {},
   "outputs": [
    {
     "data": {
      "text/plain": [
       "np.int64(0)"
      ]
     },
     "execution_count": 12,
     "metadata": {},
     "output_type": "execute_result"
    }
   ],
   "source": [
    "data['BORO_NM'].isna().sum()    "
   ]
  },
  {
   "cell_type": "code",
   "execution_count": 13,
   "metadata": {},
   "outputs": [
    {
     "data": {
      "text/plain": [
       "np.int64(0)"
      ]
     },
     "execution_count": 13,
     "metadata": {},
     "output_type": "execute_result"
    }
   ],
   "source": [
    "data['JURIS_DESC'].isna().sum()"
   ]
  },
  {
   "cell_type": "code",
   "execution_count": 14,
   "metadata": {},
   "outputs": [
    {
     "data": {
      "text/plain": [
       "np.int64(1)"
      ]
     },
     "execution_count": 14,
     "metadata": {},
     "output_type": "execute_result"
    }
   ],
   "source": [
    "data['CRM_ATPT_CPTD_CD'].isna().sum()"
   ]
  },
  {
   "cell_type": "code",
   "execution_count": 15,
   "metadata": {},
   "outputs": [
    {
     "data": {
      "text/plain": [
       "np.int64(2880)"
      ]
     },
     "execution_count": 15,
     "metadata": {},
     "output_type": "execute_result"
    }
   ],
   "source": [
    "data['OFNS_DESC'].isna().sum()  "
   ]
  },
  {
   "cell_type": "code",
   "execution_count": 16,
   "metadata": {},
   "outputs": [
    {
     "data": {
      "text/plain": [
       "np.int64(0)"
      ]
     },
     "execution_count": 16,
     "metadata": {},
     "output_type": "execute_result"
    }
   ],
   "source": [
    "data['KY_CD'].isna().sum()"
   ]
  },
  {
   "cell_type": "code",
   "execution_count": 17,
   "metadata": {},
   "outputs": [
    {
     "data": {
      "text/plain": [
       "np.int64(0)"
      ]
     },
     "execution_count": 17,
     "metadata": {},
     "output_type": "execute_result"
    }
   ],
   "source": [
    "data['RPT_DT'].isna().sum() "
   ]
  },
  {
   "cell_type": "code",
   "execution_count": 18,
   "metadata": {},
   "outputs": [
    {
     "data": {
      "text/plain": [
       "np.int64(65)"
      ]
     },
     "execution_count": 18,
     "metadata": {},
     "output_type": "execute_result"
    }
   ],
   "source": [
    "data['CMPLNT_FR_DT'].isna().sum()"
   ]
  },
  {
   "cell_type": "code",
   "execution_count": 19,
   "metadata": {},
   "outputs": [
    {
     "data": {
      "text/plain": [
       "np.int64(0)"
      ]
     },
     "execution_count": 19,
     "metadata": {},
     "output_type": "execute_result"
    }
   ],
   "source": [
    "data['CMPLNT_FR_TM'].isna().sum()\n"
   ]
  },
  {
   "cell_type": "code",
   "execution_count": 20,
   "metadata": {},
   "outputs": [
    {
     "data": {
      "text/html": [
       "<div>\n",
       "<style scoped>\n",
       "    .dataframe tbody tr th:only-of-type {\n",
       "        vertical-align: middle;\n",
       "    }\n",
       "\n",
       "    .dataframe tbody tr th {\n",
       "        vertical-align: top;\n",
       "    }\n",
       "\n",
       "    .dataframe thead th {\n",
       "        text-align: right;\n",
       "    }\n",
       "</style>\n",
       "<table border=\"1\" class=\"dataframe\">\n",
       "  <thead>\n",
       "    <tr style=\"text-align: right;\">\n",
       "      <th></th>\n",
       "      <th>CMPLNT_FR_DT</th>\n",
       "      <th>CMPLNT_FR_TM</th>\n",
       "      <th>RPT_DT</th>\n",
       "      <th>KY_CD</th>\n",
       "      <th>OFNS_DESC</th>\n",
       "      <th>CRM_ATPT_CPTD_CD</th>\n",
       "      <th>LAW_CAT_CD</th>\n",
       "      <th>JURIS_DESC</th>\n",
       "      <th>BORO_NM</th>\n",
       "      <th>ADDR_PCT_CD</th>\n",
       "      <th>Latitude</th>\n",
       "      <th>Longitude</th>\n",
       "    </tr>\n",
       "  </thead>\n",
       "  <tbody>\n",
       "    <tr>\n",
       "      <th>0</th>\n",
       "      <td>12/31/2015</td>\n",
       "      <td>23:45:00</td>\n",
       "      <td>12/31/2015</td>\n",
       "      <td>113</td>\n",
       "      <td>FORGERY</td>\n",
       "      <td>COMPLETED</td>\n",
       "      <td>FELONY</td>\n",
       "      <td>N.Y. POLICE DEPT</td>\n",
       "      <td>BRONX</td>\n",
       "      <td>44.0</td>\n",
       "      <td>40.828848</td>\n",
       "      <td>-73.916661</td>\n",
       "    </tr>\n",
       "    <tr>\n",
       "      <th>1</th>\n",
       "      <td>12/31/2015</td>\n",
       "      <td>23:36:00</td>\n",
       "      <td>12/31/2015</td>\n",
       "      <td>101</td>\n",
       "      <td>MURDER &amp; NON-NEGL. MANSLAUGHTER</td>\n",
       "      <td>COMPLETED</td>\n",
       "      <td>FELONY</td>\n",
       "      <td>N.Y. POLICE DEPT</td>\n",
       "      <td>QUEENS</td>\n",
       "      <td>103.0</td>\n",
       "      <td>40.697338</td>\n",
       "      <td>-73.784557</td>\n",
       "    </tr>\n",
       "    <tr>\n",
       "      <th>2</th>\n",
       "      <td>12/31/2015</td>\n",
       "      <td>23:30:00</td>\n",
       "      <td>12/31/2015</td>\n",
       "      <td>117</td>\n",
       "      <td>DANGEROUS DRUGS</td>\n",
       "      <td>COMPLETED</td>\n",
       "      <td>FELONY</td>\n",
       "      <td>N.Y. POLICE DEPT</td>\n",
       "      <td>MANHATTAN</td>\n",
       "      <td>28.0</td>\n",
       "      <td>40.802607</td>\n",
       "      <td>-73.945052</td>\n",
       "    </tr>\n",
       "    <tr>\n",
       "      <th>3</th>\n",
       "      <td>12/31/2015</td>\n",
       "      <td>23:30:00</td>\n",
       "      <td>12/31/2015</td>\n",
       "      <td>344</td>\n",
       "      <td>ASSAULT 3 &amp; RELATED OFFENSES</td>\n",
       "      <td>COMPLETED</td>\n",
       "      <td>MISDEMEANOR</td>\n",
       "      <td>N.Y. POLICE DEPT</td>\n",
       "      <td>QUEENS</td>\n",
       "      <td>105.0</td>\n",
       "      <td>40.654549</td>\n",
       "      <td>-73.726339</td>\n",
       "    </tr>\n",
       "    <tr>\n",
       "      <th>4</th>\n",
       "      <td>12/31/2015</td>\n",
       "      <td>23:25:00</td>\n",
       "      <td>12/31/2015</td>\n",
       "      <td>344</td>\n",
       "      <td>ASSAULT 3 &amp; RELATED OFFENSES</td>\n",
       "      <td>COMPLETED</td>\n",
       "      <td>MISDEMEANOR</td>\n",
       "      <td>N.Y. POLICE DEPT</td>\n",
       "      <td>MANHATTAN</td>\n",
       "      <td>13.0</td>\n",
       "      <td>40.738002</td>\n",
       "      <td>-73.987891</td>\n",
       "    </tr>\n",
       "  </tbody>\n",
       "</table>\n",
       "</div>"
      ],
      "text/plain": [
       "  CMPLNT_FR_DT CMPLNT_FR_TM      RPT_DT  KY_CD  \\\n",
       "0   12/31/2015     23:45:00  12/31/2015    113   \n",
       "1   12/31/2015     23:36:00  12/31/2015    101   \n",
       "2   12/31/2015     23:30:00  12/31/2015    117   \n",
       "3   12/31/2015     23:30:00  12/31/2015    344   \n",
       "4   12/31/2015     23:25:00  12/31/2015    344   \n",
       "\n",
       "                         OFNS_DESC CRM_ATPT_CPTD_CD   LAW_CAT_CD  \\\n",
       "0                          FORGERY        COMPLETED       FELONY   \n",
       "1  MURDER & NON-NEGL. MANSLAUGHTER        COMPLETED       FELONY   \n",
       "2                  DANGEROUS DRUGS        COMPLETED       FELONY   \n",
       "3     ASSAULT 3 & RELATED OFFENSES        COMPLETED  MISDEMEANOR   \n",
       "4     ASSAULT 3 & RELATED OFFENSES        COMPLETED  MISDEMEANOR   \n",
       "\n",
       "         JURIS_DESC    BORO_NM  ADDR_PCT_CD   Latitude  Longitude  \n",
       "0  N.Y. POLICE DEPT      BRONX         44.0  40.828848 -73.916661  \n",
       "1  N.Y. POLICE DEPT     QUEENS        103.0  40.697338 -73.784557  \n",
       "2  N.Y. POLICE DEPT  MANHATTAN         28.0  40.802607 -73.945052  \n",
       "3  N.Y. POLICE DEPT     QUEENS        105.0  40.654549 -73.726339  \n",
       "4  N.Y. POLICE DEPT  MANHATTAN         13.0  40.738002 -73.987891  "
      ]
     },
     "execution_count": 20,
     "metadata": {},
     "output_type": "execute_result"
    }
   ],
   "source": [
    "data.head()"
   ]
  },
  {
   "cell_type": "code",
   "execution_count": 21,
   "metadata": {},
   "outputs": [],
   "source": [
    "data.dropna(axis=0,inplace=True)"
   ]
  },
  {
   "cell_type": "code",
   "execution_count": 22,
   "metadata": {},
   "outputs": [
    {
     "data": {
      "text/plain": [
       "(1013303, 12)"
      ]
     },
     "execution_count": 22,
     "metadata": {},
     "output_type": "execute_result"
    }
   ],
   "source": [
    "data.shape"
   ]
  },
  {
   "cell_type": "code",
   "execution_count": 23,
   "metadata": {},
   "outputs": [],
   "source": [
    "data['CMPLNT_FR_DT'] = pd.to_datetime(data['CMPLNT_FR_DT'], errors='coerce', format='%m/%d/%Y')\n",
    "# data['CMPLNT_FR_TM']=pd.to_datetime(data['CMPLNT_FR_TM'],errors='coerce',format='%H:%M:%S')\n",
    "data['RPT_DT'] = pd.to_datetime(data['RPT_DT'], errors='coerce', format='%m/%d/%Y')\n"
   ]
  },
  {
   "cell_type": "code",
   "execution_count": 24,
   "metadata": {},
   "outputs": [
    {
     "data": {
      "text/html": [
       "<div>\n",
       "<style scoped>\n",
       "    .dataframe tbody tr th:only-of-type {\n",
       "        vertical-align: middle;\n",
       "    }\n",
       "\n",
       "    .dataframe tbody tr th {\n",
       "        vertical-align: top;\n",
       "    }\n",
       "\n",
       "    .dataframe thead th {\n",
       "        text-align: right;\n",
       "    }\n",
       "</style>\n",
       "<table border=\"1\" class=\"dataframe\">\n",
       "  <thead>\n",
       "    <tr style=\"text-align: right;\">\n",
       "      <th></th>\n",
       "      <th>CMPLNT_FR_DT</th>\n",
       "      <th>CMPLNT_FR_TM</th>\n",
       "      <th>RPT_DT</th>\n",
       "      <th>KY_CD</th>\n",
       "      <th>OFNS_DESC</th>\n",
       "      <th>CRM_ATPT_CPTD_CD</th>\n",
       "      <th>LAW_CAT_CD</th>\n",
       "      <th>JURIS_DESC</th>\n",
       "      <th>BORO_NM</th>\n",
       "      <th>ADDR_PCT_CD</th>\n",
       "      <th>Latitude</th>\n",
       "      <th>Longitude</th>\n",
       "    </tr>\n",
       "  </thead>\n",
       "  <tbody>\n",
       "    <tr>\n",
       "      <th>0</th>\n",
       "      <td>2015-12-31</td>\n",
       "      <td>23:45:00</td>\n",
       "      <td>2015-12-31</td>\n",
       "      <td>113</td>\n",
       "      <td>FORGERY</td>\n",
       "      <td>COMPLETED</td>\n",
       "      <td>FELONY</td>\n",
       "      <td>N.Y. POLICE DEPT</td>\n",
       "      <td>BRONX</td>\n",
       "      <td>44.0</td>\n",
       "      <td>40.828848</td>\n",
       "      <td>-73.916661</td>\n",
       "    </tr>\n",
       "    <tr>\n",
       "      <th>1</th>\n",
       "      <td>2015-12-31</td>\n",
       "      <td>23:36:00</td>\n",
       "      <td>2015-12-31</td>\n",
       "      <td>101</td>\n",
       "      <td>MURDER &amp; NON-NEGL. MANSLAUGHTER</td>\n",
       "      <td>COMPLETED</td>\n",
       "      <td>FELONY</td>\n",
       "      <td>N.Y. POLICE DEPT</td>\n",
       "      <td>QUEENS</td>\n",
       "      <td>103.0</td>\n",
       "      <td>40.697338</td>\n",
       "      <td>-73.784557</td>\n",
       "    </tr>\n",
       "    <tr>\n",
       "      <th>2</th>\n",
       "      <td>2015-12-31</td>\n",
       "      <td>23:30:00</td>\n",
       "      <td>2015-12-31</td>\n",
       "      <td>117</td>\n",
       "      <td>DANGEROUS DRUGS</td>\n",
       "      <td>COMPLETED</td>\n",
       "      <td>FELONY</td>\n",
       "      <td>N.Y. POLICE DEPT</td>\n",
       "      <td>MANHATTAN</td>\n",
       "      <td>28.0</td>\n",
       "      <td>40.802607</td>\n",
       "      <td>-73.945052</td>\n",
       "    </tr>\n",
       "    <tr>\n",
       "      <th>3</th>\n",
       "      <td>2015-12-31</td>\n",
       "      <td>23:30:00</td>\n",
       "      <td>2015-12-31</td>\n",
       "      <td>344</td>\n",
       "      <td>ASSAULT 3 &amp; RELATED OFFENSES</td>\n",
       "      <td>COMPLETED</td>\n",
       "      <td>MISDEMEANOR</td>\n",
       "      <td>N.Y. POLICE DEPT</td>\n",
       "      <td>QUEENS</td>\n",
       "      <td>105.0</td>\n",
       "      <td>40.654549</td>\n",
       "      <td>-73.726339</td>\n",
       "    </tr>\n",
       "    <tr>\n",
       "      <th>4</th>\n",
       "      <td>2015-12-31</td>\n",
       "      <td>23:25:00</td>\n",
       "      <td>2015-12-31</td>\n",
       "      <td>344</td>\n",
       "      <td>ASSAULT 3 &amp; RELATED OFFENSES</td>\n",
       "      <td>COMPLETED</td>\n",
       "      <td>MISDEMEANOR</td>\n",
       "      <td>N.Y. POLICE DEPT</td>\n",
       "      <td>MANHATTAN</td>\n",
       "      <td>13.0</td>\n",
       "      <td>40.738002</td>\n",
       "      <td>-73.987891</td>\n",
       "    </tr>\n",
       "  </tbody>\n",
       "</table>\n",
       "</div>"
      ],
      "text/plain": [
       "  CMPLNT_FR_DT CMPLNT_FR_TM     RPT_DT  KY_CD  \\\n",
       "0   2015-12-31     23:45:00 2015-12-31    113   \n",
       "1   2015-12-31     23:36:00 2015-12-31    101   \n",
       "2   2015-12-31     23:30:00 2015-12-31    117   \n",
       "3   2015-12-31     23:30:00 2015-12-31    344   \n",
       "4   2015-12-31     23:25:00 2015-12-31    344   \n",
       "\n",
       "                         OFNS_DESC CRM_ATPT_CPTD_CD   LAW_CAT_CD  \\\n",
       "0                          FORGERY        COMPLETED       FELONY   \n",
       "1  MURDER & NON-NEGL. MANSLAUGHTER        COMPLETED       FELONY   \n",
       "2                  DANGEROUS DRUGS        COMPLETED       FELONY   \n",
       "3     ASSAULT 3 & RELATED OFFENSES        COMPLETED  MISDEMEANOR   \n",
       "4     ASSAULT 3 & RELATED OFFENSES        COMPLETED  MISDEMEANOR   \n",
       "\n",
       "         JURIS_DESC    BORO_NM  ADDR_PCT_CD   Latitude  Longitude  \n",
       "0  N.Y. POLICE DEPT      BRONX         44.0  40.828848 -73.916661  \n",
       "1  N.Y. POLICE DEPT     QUEENS        103.0  40.697338 -73.784557  \n",
       "2  N.Y. POLICE DEPT  MANHATTAN         28.0  40.802607 -73.945052  \n",
       "3  N.Y. POLICE DEPT     QUEENS        105.0  40.654549 -73.726339  \n",
       "4  N.Y. POLICE DEPT  MANHATTAN         13.0  40.738002 -73.987891  "
      ]
     },
     "execution_count": 24,
     "metadata": {},
     "output_type": "execute_result"
    }
   ],
   "source": [
    "data.head()"
   ]
  },
  {
   "cell_type": "code",
   "execution_count": 25,
   "metadata": {},
   "outputs": [
    {
     "data": {
      "text/plain": [
       "pandas._libs.tslibs.timestamps.Timestamp"
      ]
     },
     "execution_count": 25,
     "metadata": {},
     "output_type": "execute_result"
    }
   ],
   "source": [
    "type(data['CMPLNT_FR_DT'][0])"
   ]
  },
  {
   "cell_type": "code",
   "execution_count": 26,
   "metadata": {},
   "outputs": [],
   "source": [
    "data['CMPLNT_FR_TM'] = pd.to_datetime(data['CMPLNT_FR_TM'], format='%H:%M:%S').dt.time"
   ]
  },
  {
   "cell_type": "code",
   "execution_count": 27,
   "metadata": {},
   "outputs": [
    {
     "data": {
      "text/html": [
       "<div>\n",
       "<style scoped>\n",
       "    .dataframe tbody tr th:only-of-type {\n",
       "        vertical-align: middle;\n",
       "    }\n",
       "\n",
       "    .dataframe tbody tr th {\n",
       "        vertical-align: top;\n",
       "    }\n",
       "\n",
       "    .dataframe thead th {\n",
       "        text-align: right;\n",
       "    }\n",
       "</style>\n",
       "<table border=\"1\" class=\"dataframe\">\n",
       "  <thead>\n",
       "    <tr style=\"text-align: right;\">\n",
       "      <th></th>\n",
       "      <th>CMPLNT_FR_DT</th>\n",
       "      <th>CMPLNT_FR_TM</th>\n",
       "      <th>RPT_DT</th>\n",
       "      <th>KY_CD</th>\n",
       "      <th>OFNS_DESC</th>\n",
       "      <th>CRM_ATPT_CPTD_CD</th>\n",
       "      <th>LAW_CAT_CD</th>\n",
       "      <th>JURIS_DESC</th>\n",
       "      <th>BORO_NM</th>\n",
       "      <th>ADDR_PCT_CD</th>\n",
       "      <th>Latitude</th>\n",
       "      <th>Longitude</th>\n",
       "    </tr>\n",
       "  </thead>\n",
       "  <tbody>\n",
       "    <tr>\n",
       "      <th>0</th>\n",
       "      <td>2015-12-31</td>\n",
       "      <td>23:45:00</td>\n",
       "      <td>2015-12-31</td>\n",
       "      <td>113</td>\n",
       "      <td>FORGERY</td>\n",
       "      <td>COMPLETED</td>\n",
       "      <td>FELONY</td>\n",
       "      <td>N.Y. POLICE DEPT</td>\n",
       "      <td>BRONX</td>\n",
       "      <td>44.0</td>\n",
       "      <td>40.828848</td>\n",
       "      <td>-73.916661</td>\n",
       "    </tr>\n",
       "    <tr>\n",
       "      <th>1</th>\n",
       "      <td>2015-12-31</td>\n",
       "      <td>23:36:00</td>\n",
       "      <td>2015-12-31</td>\n",
       "      <td>101</td>\n",
       "      <td>MURDER &amp; NON-NEGL. MANSLAUGHTER</td>\n",
       "      <td>COMPLETED</td>\n",
       "      <td>FELONY</td>\n",
       "      <td>N.Y. POLICE DEPT</td>\n",
       "      <td>QUEENS</td>\n",
       "      <td>103.0</td>\n",
       "      <td>40.697338</td>\n",
       "      <td>-73.784557</td>\n",
       "    </tr>\n",
       "    <tr>\n",
       "      <th>2</th>\n",
       "      <td>2015-12-31</td>\n",
       "      <td>23:30:00</td>\n",
       "      <td>2015-12-31</td>\n",
       "      <td>117</td>\n",
       "      <td>DANGEROUS DRUGS</td>\n",
       "      <td>COMPLETED</td>\n",
       "      <td>FELONY</td>\n",
       "      <td>N.Y. POLICE DEPT</td>\n",
       "      <td>MANHATTAN</td>\n",
       "      <td>28.0</td>\n",
       "      <td>40.802607</td>\n",
       "      <td>-73.945052</td>\n",
       "    </tr>\n",
       "    <tr>\n",
       "      <th>3</th>\n",
       "      <td>2015-12-31</td>\n",
       "      <td>23:30:00</td>\n",
       "      <td>2015-12-31</td>\n",
       "      <td>344</td>\n",
       "      <td>ASSAULT 3 &amp; RELATED OFFENSES</td>\n",
       "      <td>COMPLETED</td>\n",
       "      <td>MISDEMEANOR</td>\n",
       "      <td>N.Y. POLICE DEPT</td>\n",
       "      <td>QUEENS</td>\n",
       "      <td>105.0</td>\n",
       "      <td>40.654549</td>\n",
       "      <td>-73.726339</td>\n",
       "    </tr>\n",
       "    <tr>\n",
       "      <th>4</th>\n",
       "      <td>2015-12-31</td>\n",
       "      <td>23:25:00</td>\n",
       "      <td>2015-12-31</td>\n",
       "      <td>344</td>\n",
       "      <td>ASSAULT 3 &amp; RELATED OFFENSES</td>\n",
       "      <td>COMPLETED</td>\n",
       "      <td>MISDEMEANOR</td>\n",
       "      <td>N.Y. POLICE DEPT</td>\n",
       "      <td>MANHATTAN</td>\n",
       "      <td>13.0</td>\n",
       "      <td>40.738002</td>\n",
       "      <td>-73.987891</td>\n",
       "    </tr>\n",
       "  </tbody>\n",
       "</table>\n",
       "</div>"
      ],
      "text/plain": [
       "  CMPLNT_FR_DT CMPLNT_FR_TM     RPT_DT  KY_CD  \\\n",
       "0   2015-12-31     23:45:00 2015-12-31    113   \n",
       "1   2015-12-31     23:36:00 2015-12-31    101   \n",
       "2   2015-12-31     23:30:00 2015-12-31    117   \n",
       "3   2015-12-31     23:30:00 2015-12-31    344   \n",
       "4   2015-12-31     23:25:00 2015-12-31    344   \n",
       "\n",
       "                         OFNS_DESC CRM_ATPT_CPTD_CD   LAW_CAT_CD  \\\n",
       "0                          FORGERY        COMPLETED       FELONY   \n",
       "1  MURDER & NON-NEGL. MANSLAUGHTER        COMPLETED       FELONY   \n",
       "2                  DANGEROUS DRUGS        COMPLETED       FELONY   \n",
       "3     ASSAULT 3 & RELATED OFFENSES        COMPLETED  MISDEMEANOR   \n",
       "4     ASSAULT 3 & RELATED OFFENSES        COMPLETED  MISDEMEANOR   \n",
       "\n",
       "         JURIS_DESC    BORO_NM  ADDR_PCT_CD   Latitude  Longitude  \n",
       "0  N.Y. POLICE DEPT      BRONX         44.0  40.828848 -73.916661  \n",
       "1  N.Y. POLICE DEPT     QUEENS        103.0  40.697338 -73.784557  \n",
       "2  N.Y. POLICE DEPT  MANHATTAN         28.0  40.802607 -73.945052  \n",
       "3  N.Y. POLICE DEPT     QUEENS        105.0  40.654549 -73.726339  \n",
       "4  N.Y. POLICE DEPT  MANHATTAN         13.0  40.738002 -73.987891  "
      ]
     },
     "execution_count": 27,
     "metadata": {},
     "output_type": "execute_result"
    }
   ],
   "source": [
    "data.head()"
   ]
  },
  {
   "cell_type": "code",
   "execution_count": 28,
   "metadata": {},
   "outputs": [],
   "source": [
    "data['CRM_ATPT_CPTD_CD']=data['CRM_ATPT_CPTD_CD'].map({'COMPLETED':1,'ATTEMPTED':0})"
   ]
  },
  {
   "cell_type": "code",
   "execution_count": 29,
   "metadata": {},
   "outputs": [
    {
     "data": {
      "text/plain": [
       "<Axes: xlabel='CRM_ATPT_CPTD_CD'>"
      ]
     },
     "execution_count": 29,
     "metadata": {},
     "output_type": "execute_result"
    },
    {
     "data": {
      "image/png": "[encoded data removed]",
      "text/plain": [
       "<Figure size 640x480 with 1 Axes>"
      ]
     },
     "metadata": {},
     "output_type": "display_data"
    }
   ],
   "source": [
    "data['CRM_ATPT_CPTD_CD'].value_counts().plot(kind='bar')\n",
    "\n",
    "#this data does not provide any additional information about the time,type, or location of the crime"
   ]
  },
  {
   "cell_type": "code",
   "execution_count": 30,
   "metadata": {},
   "outputs": [
    {
     "data": {
      "text/plain": [
       "<Axes: xlabel='LAW_CAT_CD'>"
      ]
     },
     "execution_count": 30,
     "metadata": {},
     "output_type": "execute_result"
    },
    {
     "data": {
      "image/png": "[encoded data removed]",
      "text/plain": [
       "<Figure size 640x480 with 1 Axes>"
      ]
     },
     "metadata": {},
     "output_type": "display_data"
    }
   ],
   "source": [
    "data['LAW_CAT_CD'].value_counts().plot(kind='bar')\n",
    "# should be mapped or not??"
   ]
  },
  {
   "cell_type": "code",
   "execution_count": 31,
   "metadata": {},
   "outputs": [
    {
     "data": {
      "text/plain": [
       "OFNS_DESC\n",
       "PETIT LARCENY                       176487\n",
       "HARRASSMENT 2                       131915\n",
       "ASSAULT 3 & RELATED OFFENSES        113206\n",
       "CRIMINAL MISCHIEF & RELATED OF      100756\n",
       "GRAND LARCENY                        94367\n",
       "                                     ...  \n",
       "KIDNAPPING                               2\n",
       "UNDER THE INFLUENCE OF DRUGS             2\n",
       "OTHER STATE LAWS (NON PENAL LAW)         1\n",
       "FORTUNE TELLING                          1\n",
       "LOITERING FOR DRUG PURPOSES              1\n",
       "Name: count, Length: 67, dtype: int64"
      ]
     },
     "execution_count": 31,
     "metadata": {},
     "output_type": "execute_result"
    }
   ],
   "source": [
    "data['OFNS_DESC'].value_counts()\n",
    "#Highly imbalanced data, should be used or not?\n"
   ]
  },
  {
   "cell_type": "code",
   "execution_count": 32,
   "metadata": {},
   "outputs": [
    {
     "data": {
      "text/plain": [
       "<Axes: xlabel='OFNS_DESC'>"
      ]
     },
     "execution_count": 32,
     "metadata": {},
     "output_type": "execute_result"
    },
    {
     "data": {
      "image/png": "[encoded data removed]",
      "text/plain": [
       "<Figure size 2000x1000 with 1 Axes>"
      ]
     },
     "metadata": {},
     "output_type": "display_data"
    }
   ],
   "source": [
    "data['OFNS_DESC'].value_counts().plot(kind='bar',figsize=(20,10))"
   ]
  },
  {
   "cell_type": "code",
   "execution_count": 33,
   "metadata": {},
   "outputs": [
    {
     "data": {
      "text/plain": [
       "BORO_NM\n",
       "BROOKLYN         308152\n",
       "MANHATTAN        236881\n",
       "BRONX            219512\n",
       "QUEENS           201448\n",
       "STATEN ISLAND     47310\n",
       "Name: count, dtype: int64"
      ]
     },
     "execution_count": 33,
     "metadata": {},
     "output_type": "execute_result"
    }
   ],
   "source": [
    "data['BORO_NM'].value_counts()"
   ]
  },
  {
   "cell_type": "code",
   "execution_count": 34,
   "metadata": {},
   "outputs": [],
   "source": [
    "map={'BRONX':1,'BROOKLYN':2,'MANHATTAN':3,'QUEENS':4,'STATEN ISLAND':5}"
   ]
  },
  {
   "cell_type": "code",
   "execution_count": 35,
   "metadata": {},
   "outputs": [],
   "source": [
    "data['BORO_NM']=data['BORO_NM'].map(map)"
   ]
  },
  {
   "cell_type": "code",
   "execution_count": 36,
   "metadata": {},
   "outputs": [
    {
     "data": {
      "text/html": [
       "<div>\n",
       "<style scoped>\n",
       "    .dataframe tbody tr th:only-of-type {\n",
       "        vertical-align: middle;\n",
       "    }\n",
       "\n",
       "    .dataframe tbody tr th {\n",
       "        vertical-align: top;\n",
       "    }\n",
       "\n",
       "    .dataframe thead th {\n",
       "        text-align: right;\n",
       "    }\n",
       "</style>\n",
       "<table border=\"1\" class=\"dataframe\">\n",
       "  <thead>\n",
       "    <tr style=\"text-align: right;\">\n",
       "      <th></th>\n",
       "      <th>CMPLNT_FR_DT</th>\n",
       "      <th>CMPLNT_FR_TM</th>\n",
       "      <th>RPT_DT</th>\n",
       "      <th>KY_CD</th>\n",
       "      <th>OFNS_DESC</th>\n",
       "      <th>CRM_ATPT_CPTD_CD</th>\n",
       "      <th>LAW_CAT_CD</th>\n",
       "      <th>JURIS_DESC</th>\n",
       "      <th>BORO_NM</th>\n",
       "      <th>ADDR_PCT_CD</th>\n",
       "      <th>Latitude</th>\n",
       "      <th>Longitude</th>\n",
       "    </tr>\n",
       "  </thead>\n",
       "  <tbody>\n",
       "    <tr>\n",
       "      <th>0</th>\n",
       "      <td>2015-12-31</td>\n",
       "      <td>23:45:00</td>\n",
       "      <td>2015-12-31</td>\n",
       "      <td>113</td>\n",
       "      <td>FORGERY</td>\n",
       "      <td>1</td>\n",
       "      <td>FELONY</td>\n",
       "      <td>N.Y. POLICE DEPT</td>\n",
       "      <td>1</td>\n",
       "      <td>44.0</td>\n",
       "      <td>40.828848</td>\n",
       "      <td>-73.916661</td>\n",
       "    </tr>\n",
       "    <tr>\n",
       "      <th>1</th>\n",
       "      <td>2015-12-31</td>\n",
       "      <td>23:36:00</td>\n",
       "      <td>2015-12-31</td>\n",
       "      <td>101</td>\n",
       "      <td>MURDER &amp; NON-NEGL. MANSLAUGHTER</td>\n",
       "      <td>1</td>\n",
       "      <td>FELONY</td>\n",
       "      <td>N.Y. POLICE DEPT</td>\n",
       "      <td>4</td>\n",
       "      <td>103.0</td>\n",
       "      <td>40.697338</td>\n",
       "      <td>-73.784557</td>\n",
       "    </tr>\n",
       "    <tr>\n",
       "      <th>2</th>\n",
       "      <td>2015-12-31</td>\n",
       "      <td>23:30:00</td>\n",
       "      <td>2015-12-31</td>\n",
       "      <td>117</td>\n",
       "      <td>DANGEROUS DRUGS</td>\n",
       "      <td>1</td>\n",
       "      <td>FELONY</td>\n",
       "      <td>N.Y. POLICE DEPT</td>\n",
       "      <td>3</td>\n",
       "      <td>28.0</td>\n",
       "      <td>40.802607</td>\n",
       "      <td>-73.945052</td>\n",
       "    </tr>\n",
       "    <tr>\n",
       "      <th>3</th>\n",
       "      <td>2015-12-31</td>\n",
       "      <td>23:30:00</td>\n",
       "      <td>2015-12-31</td>\n",
       "      <td>344</td>\n",
       "      <td>ASSAULT 3 &amp; RELATED OFFENSES</td>\n",
       "      <td>1</td>\n",
       "      <td>MISDEMEANOR</td>\n",
       "      <td>N.Y. POLICE DEPT</td>\n",
       "      <td>4</td>\n",
       "      <td>105.0</td>\n",
       "      <td>40.654549</td>\n",
       "      <td>-73.726339</td>\n",
       "    </tr>\n",
       "    <tr>\n",
       "      <th>4</th>\n",
       "      <td>2015-12-31</td>\n",
       "      <td>23:25:00</td>\n",
       "      <td>2015-12-31</td>\n",
       "      <td>344</td>\n",
       "      <td>ASSAULT 3 &amp; RELATED OFFENSES</td>\n",
       "      <td>1</td>\n",
       "      <td>MISDEMEANOR</td>\n",
       "      <td>N.Y. POLICE DEPT</td>\n",
       "      <td>3</td>\n",
       "      <td>13.0</td>\n",
       "      <td>40.738002</td>\n",
       "      <td>-73.987891</td>\n",
       "    </tr>\n",
       "  </tbody>\n",
       "</table>\n",
       "</div>"
      ],
      "text/plain": [
       "  CMPLNT_FR_DT CMPLNT_FR_TM     RPT_DT  KY_CD  \\\n",
       "0   2015-12-31     23:45:00 2015-12-31    113   \n",
       "1   2015-12-31     23:36:00 2015-12-31    101   \n",
       "2   2015-12-31     23:30:00 2015-12-31    117   \n",
       "3   2015-12-31     23:30:00 2015-12-31    344   \n",
       "4   2015-12-31     23:25:00 2015-12-31    344   \n",
       "\n",
       "                         OFNS_DESC  CRM_ATPT_CPTD_CD   LAW_CAT_CD  \\\n",
       "0                          FORGERY                 1       FELONY   \n",
       "1  MURDER & NON-NEGL. MANSLAUGHTER                 1       FELONY   \n",
       "2                  DANGEROUS DRUGS                 1       FELONY   \n",
       "3     ASSAULT 3 & RELATED OFFENSES                 1  MISDEMEANOR   \n",
       "4     ASSAULT 3 & RELATED OFFENSES                 1  MISDEMEANOR   \n",
       "\n",
       "         JURIS_DESC  BORO_NM  ADDR_PCT_CD   Latitude  Longitude  \n",
       "0  N.Y. POLICE DEPT        1         44.0  40.828848 -73.916661  \n",
       "1  N.Y. POLICE DEPT        4        103.0  40.697338 -73.784557  \n",
       "2  N.Y. POLICE DEPT        3         28.0  40.802607 -73.945052  \n",
       "3  N.Y. POLICE DEPT        4        105.0  40.654549 -73.726339  \n",
       "4  N.Y. POLICE DEPT        3         13.0  40.738002 -73.987891  "
      ]
     },
     "execution_count": 36,
     "metadata": {},
     "output_type": "execute_result"
    }
   ],
   "source": [
    "data.head()"
   ]
  },
  {
   "cell_type": "code",
   "execution_count": 45,
   "metadata": {},
   "outputs": [
    {
     "name": "stdout",
     "output_type": "stream",
     "text": [
      "          h3_index  crime_count\n",
      "0  882a100d2dfffff        11289\n",
      "1  882a100abbfffff         7273\n",
      "2  882a10725bfffff         7208\n",
      "3  882a100d67fffff         6664\n",
      "4  882a100ac9fffff         6456\n"
     ]
    }
   ],
   "source": [
    "import h3.api.basic_str as h3\n",
    "import pandas as pd\n",
    "\n",
    "resolution = 8  \n",
    "\n",
    "\n",
    "def latlon_to_h3(lat, lon, res=resolution):\n",
    "    return h3.latlng_to_cell(lat, lon, res)\n",
    "\n",
    "data[\"h3_index\"] = data.apply(lambda row: latlon_to_h3(row[\"Latitude\"], row[\"Longitude\"]), axis=1)\n",
    "\n",
    "crime_density = data[\"h3_index\"].value_counts().reset_index()\n",
    "crime_density.columns = [\"h3_index\", \"crime_count\"]\n",
    "\n",
    "print(crime_density.head())\n"
   ]
  },
  {
   "cell_type": "code",
   "execution_count": 59,
   "metadata": {},
   "outputs": [
    {
     "data": {
      "text/html": [
       "<div style=\"width:100%;\"><div style=\"position:relative;width:100%;height:0;padding-bottom:60%;\"><span style=\"color:#565656\">Make this Notebook Trusted to load map: File -> Trust Notebook</span><iframe srcdoc=\"&lt;!DOCTYPE html&gt;\n",
       "&lt;html&gt;\n",
       "&lt;head&gt;\n",
       "    \n",
       "    &lt;meta http-equiv=&quot;content-type&quot; content=&quot;text/html; charset=UTF-8&quot; /&gt;\n",
       "    \n",
       "        &lt;script&gt;\n",
       "            L_NO_TOUCH = false;\n",
       "            L_DISABLE_3D = false;\n",
       "        &lt;/script&gt;\n",
       "    \n",
       "    &lt;style&gt;html, body {width: 100%;height: 100%;margin: 0;padding: 0;}&lt;/style&gt;\n",
       "    &lt;style&gt;#map {position:absolute;top:0;bottom:0;right:0;left:0;}&lt;/style&gt;\n",
       "    &lt;script src=&quot;https://cdn.jsdelivr.net/npm/leaflet@1.9.3/dist/leaflet.js&quot;&gt;&lt;/script&gt;\n",
       "    &lt;script src=&quot;https://code.jquery.com/jquery-3.7.1.min.js&quot;&gt;&lt;/script&gt;\n",
       "    &lt;script src=&quot;https://cdn.jsdelivr.net/npm/bootstrap@5.2.2/dist/js/bootstrap.bundle.min.js&quot;&gt;&lt;/script&gt;\n",
       "    &lt;script src=&quot;https://cdnjs.cloudflare.com/ajax/libs/Leaflet.awesome-markers/2.0.2/leaflet.awesome-markers.js&quot;&gt;&lt;/script&gt;\n",
       "    &lt;link rel=&quot;stylesheet&quot; href=&quot;https://cdn.jsdelivr.net/npm/leaflet@1.9.3/dist/leaflet.css&quot;/&gt;\n",
       "    &lt;link rel=&quot;stylesheet&quot; href=&quot;https://cdn.jsdelivr.net/npm/bootstrap@5.2.2/dist/css/bootstrap.min.css&quot;/&gt;\n",
       "    &lt;link rel=&quot;stylesheet&quot; href=&quot;https://netdna.bootstrapcdn.com/bootstrap/3.0.0/css/bootstrap-glyphicons.css&quot;/&gt;\n",
       "    &lt;link rel=&quot;stylesheet&quot; href=&quot;https://cdn.jsdelivr.net/npm/@fortawesome/fontawesome-free@6.2.0/css/all.min.css&quot;/&gt;\n",
       "    &lt;link rel=&quot;stylesheet&quot; href=&quot;https://cdnjs.cloudflare.com/ajax/libs/Leaflet.awesome-markers/2.0.2/leaflet.awesome-markers.css&quot;/&gt;\n",
       "    &lt;link rel=&quot;stylesheet&quot; href=&quot;https://cdn.jsdelivr.net/gh/python-visualization/folium/folium/templates/leaflet.awesome.rotate.min.css&quot;/&gt;\n",
       "    \n",
       "            &lt;meta name=&quot;viewport&quot; content=&quot;width=device-width,\n",
       "                initial-scale=1.0, maximum-scale=1.0, user-scalable=no&quot; /&gt;\n",
       "            &lt;style&gt;\n",
       "                #map_722e202a84f5dd685531fc15d03a2874 {\n",
       "                    position: relative;\n",
       "                    width: 100.0%;\n",
       "                    height: 100.0%;\n",
       "                    left: 0.0%;\n",
       "                    top: 0.0%;\n",
       "                }\n",
       "                .leaflet-container { font-size: 1rem; }\n",
       "            &lt;/style&gt;\n",
       "        \n",
       "    &lt;script src=&quot;https://cdn.jsdelivr.net/gh/python-visualization/folium@main/folium/templates/leaflet_heat.min.js&quot;&gt;&lt;/script&gt;\n",
       "&lt;/head&gt;\n",
       "&lt;body&gt;\n",
       "    \n",
       "    \n",
       "            &lt;div class=&quot;folium-map&quot; id=&quot;map_722e202a84f5dd685531fc15d03a2874&quot; &gt;&lt;/div&gt;\n",
       "        \n",
       "&lt;/body&gt;\n",
       "&lt;script&gt;\n",
       "    \n",
       "    \n",
       "            var map_722e202a84f5dd685531fc15d03a2874 = L.map(\n",
       "                &quot;map_722e202a84f5dd685531fc15d03a2874&quot;,\n",
       "                {\n",
       "                    center: [40.7128, -74.006],\n",
       "                    crs: L.CRS.EPSG3857,\n",
       "                    ...{\n",
       "  &quot;zoom&quot;: 11,\n",
       "  &quot;zoomControl&quot;: true,\n",
       "  &quot;preferCanvas&quot;: false,\n",
       "}\n",
       "\n",
       "                }\n",
       "            );\n",
       "\n",
       "            \n",
       "\n",
       "        \n",
       "    \n",
       "            var tile_layer_8b4135b25040c86b3dbc3661c55c9b4c = L.tileLayer(\n",
       "                &quot;https://tile.openstreetmap.org/{z}/{x}/{y}.png&quot;,\n",
       "                {\n",
       "  &quot;minZoom&quot;: 0,\n",
       "  &quot;maxZoom&quot;: 19,\n",
       "  &quot;maxNativeZoom&quot;: 19,\n",
       "  &quot;noWrap&quot;: false,\n",
       "  &quot;attribution&quot;: &quot;\\u0026copy; \\u003ca href=\\&quot;https://www.openstreetmap.org/copyright\\&quot;\\u003eOpenStreetMap\\u003c/a\\u003e contributors&quot;,\n",
       "  &quot;subdomains&quot;: &quot;abc&quot;,\n",
       "  &quot;detectRetina&quot;: false,\n",
       "  &quot;tms&quot;: false,\n",
       "  &quot;opacity&quot;: 1,\n",
       "}\n",
       "\n",
       "            );\n",
       "        \n",
       "    \n",
       "            tile_layer_8b4135b25040c86b3dbc3661c55c9b4c.addTo(map_722e202a84f5dd685531fc15d03a2874);\n",
       "        \n",
       "    \n",
       "            var heat_map_4e68d3ce52884b26d6072222a5efeb6b = L.heatLayer(\n",
       "                [[40.74980820333916, -73.99000374878119, 11289], [40.815164325526204, -73.91970723708859, 7273], [40.75767380832861, -73.99245336126556, 7208], [40.75532163770499, -73.98165845885661, 6664], [40.86084337240267, -73.89354906414414, 6456], [40.80413854869355, -73.9364309418966, 6313], [40.79862526917925, -73.94478993105159, 6253], [40.85532957686145, -73.90192291635687, 6146], [40.83642566726503, -73.91622327239955, 5990], [40.73407920554712, -73.9851069987431, 5544], [40.79075473889112, -73.94234626332813, 5526], [40.763187941323494, -73.984106944923, 5297], [40.720704219149056, -73.99099986933716, 5288], [40.81988321377091, -73.94131848862034, 5263], [40.7608348151879, -73.97331126335344, 5121], [40.80649653624459, -73.9472344231698, 5038], [40.736430343823116, -73.9958972205727, 5036], [40.83406380663561, -73.905414725091, 4975], [40.72305436427269, -74.00178736299634, 4966], [40.823826317158066, -73.89217048634661, 4930], [40.827756650865, -73.94376349920987, 4894], [40.81436853984995, -73.94967974009114, 4842], [40.849815517386276, -73.91029485629191, 4819], [40.807291704277915, -73.91726696373489, 4774], [40.74194333566657, -73.98755496140967, 4768], [40.818315041812575, -73.90053788794832, 4617], [40.81201051296794, -73.93887430298544, 4559], [40.86320723236802, -73.90436308301975, 4543], [40.66492664877579, -73.90335936525115, 4349], [40.66963839969568, -73.92489966329701, 4341], [40.68926082811238, -73.98121505334214, 4121], [40.70732995522771, -73.7959104588074, 4116], [40.72856691258618, -73.99344813267909, 4112], [40.8450888780395, -73.88867347368388, 4077], [40.82224127975792, -73.95212588222418, 4045], [40.8261890558644, -73.90297589496645, 3989], [40.73091709639526, -74.00423757543584, 3987], [40.6476225201231, -73.95823372354722, 3942], [40.82697271375174, -73.8729961737882, 3926], [40.79626732118498, -73.93398840494557, 3912], [40.70968026618339, -74.0076741787482, 3881], [40.82303768351726, -73.92214833406508, 3837], [40.718353158911775, -73.9802135458946, 3811], [40.744294512623796, -73.99834713342568, 3810], [40.86872172367685, -73.89598809488997, 3753], [40.7151923699604, -73.99933797536255, 3719], [40.81280350400749, -73.90890338031213, 3665], [40.66178034486229, -73.92246606085962, 3663], [40.83091177801377, -73.92459025507257, 3629], [40.72621581321689, -73.98265986037386, 3628], [40.677497194861765, -73.92733408454679, 3619], [40.80098229926871, -73.95559263423436, 3605], [40.67199290876491, -73.93567157045317, 3603], [40.66256940765964, -73.89259097550078, 3546], [40.7034326958928, -73.94542195479927, 3535], [40.771054982011556, -73.98655625625548, 3533], [40.68140182720796, -73.9787709066528, 3526], [40.82067682177467, -73.91134252084045, 3489], [40.73878056609214, -74.00668861308873, 3425], [40.8529657571109, -73.89111085721159, 3419], [40.82855087627298, -73.91378248473355, 3374], [40.69557163976815, -73.94298312808696, 3357], [40.701833466305764, -73.80426774363791, 3338], [40.84745265734937, -73.89948357376652, 3318], [40.80965156765415, -73.92807004400815, 3297], [40.67278535852895, -73.90578989797875, 3288], [40.691610816242076, -73.99199475722205, 3241], [40.668841012001906, -73.9547794631652, 3219], [40.759265059059935, -73.83198028363003, 3213], [40.84114663080507, -73.9378439088746, 3183], [40.84430119451322, -73.91866488424684, 3150], [40.795467802575054, -73.96394893647735, 3123], [40.683001225263645, -73.91899470033704, 3101], [40.79233484856949, -73.88243121538099, 3088], [40.67042807403864, -73.89501956432312, 3037], [40.655478521618754, -73.96067264130426, 3034], [40.8545384781595, -73.93192096636658, 3023], [40.680644808828035, -73.90822124860331, 3008], [40.789953046698166, -73.97230333019724, 2947], [40.653126871351766, -73.94990305388923, 2935], [40.67357009375945, -73.8759079367579, 2934], [40.74984351261602, -73.88941984832974, 2924], [40.66728297957691, -73.9141289280397, 2923], [40.68771132304884, -73.94054512206203, 2916], [40.84193929388881, -73.90785437873005, 2913], [40.6822053852155, -73.94888295965622, 2892], [40.7474560713926, -73.97921079764828, 2879], [40.69321700525515, -73.93220538510187, 2872], [40.712842263747554, -73.98855243013952, 2865], [40.69712056799387, -73.98366002254875, 2825], [40.747482106804924, -73.87863279737306, 2788], [40.668069879155745, -73.88425040451236, 2777], [40.81595234400097, -73.88973443596365, 2774], [40.690065003663825, -73.95132209091157, 2769], [40.752987117175884, -73.87027559189559, 2757], [40.659424967451045, -73.91169726932222, 2754], [40.66413481166913, -73.9332360240593, 2716], [40.87974991164192, -73.879232378547, 2712], [40.83170102726007, -73.89460735916954, 2711], [40.69086145835625, -73.92142881472556, 2710], [40.73959124262263, -73.97676396089014, 2700], [40.83878660877817, -73.92703300051946, 2676], [40.70107802001348, -73.93464226521701, 2660], [40.84272417982722, -73.87786455661951, 2652], [40.78524189681172, -73.9507022139589, 2606], [40.57534320204193, -73.99596202768794, 2588], [40.67434650641759, -73.94644464893786, 2552], [40.8332717607169, -73.93539920540775, 2549], [40.77656955627686, -73.97820680629646, 2548], [40.63976725900087, -73.95579562562105, 2539], [40.69872243130249, -73.92386374848017, 2536], [40.67592924270822, -73.88667786624426, 2535], [40.67985174596961, -73.93810793631913, 2518], [40.69636593012737, -73.91308640516017, 2501], [40.86950346884012, -73.86598123502769, 2494], [40.87108562363093, -73.90680407416399, 2474], [40.750623840722945, -73.8594889485998, 2461], [40.71129449118792, -73.9478616026046, 2456], [40.82933732950864, -73.88380117521034, 2456], [40.752968550468005, -73.97086472899026, 2454], [40.835630824012604, -73.94620933516283, 2436], [40.840358563083285, -73.86705682314845, 2433], [40.63741569215499, -73.94502992292055, 2414], [40.694769626503195, -73.97287954172717, 2413], [40.713648294564074, -73.95864441195499, 2406], [40.83721273542622, -73.88623691315279, 2399], [40.75534947972824, -73.88106341475304, 2385], [40.66098357161216, -73.95234084853651, 2366], [40.67121003470865, -73.86513918249219, 2361], [40.660211256595915, -73.88182375935754, 2354], [40.80885360544282, -73.95803908175758, 2346], [40.758480772359455, -73.96251675513757, 2312], [40.8324825031484, -73.86462417868562, 2292], [40.679070050939316, -73.86756357194415, 2283], [40.803338411084496, -73.96639651391816, 2282], [40.67514173225914, -73.91656140490991, 2276], [40.60278663778585, -73.75384896490796, 2268], [40.824607180359905, -73.8621923554774, 2248], [40.78443803217255, -73.98065581569266, 2237], [40.68535673012638, -73.92976932501348, 2235], [40.871870169538205, -73.87679562169612, 2234], [40.676699192286804, -73.95721889818026, 2202], [40.73174957844374, -73.87377401932848, 2192], [40.681371457730044, -73.77790583356634, 2187], [40.86005445682666, -73.92355058212016, 2152], [40.849022236697245, -73.9402894378564, 2134], [40.771860397370624, -73.95661115441824, 2132], [40.75215941875203, -74.00079787164594, 2118], [40.643656707470356, -74.00719466543781, 2108], [40.619280181022006, -74.02970741245575, 2107], [40.68455811223245, -73.95965915398693, 2107], [40.70187014490773, -73.90474209602236, 2102], [40.83799202817854, -73.8562502738453, 2088], [40.765540150398465, -73.9949037992709, 2067], [40.779728795481134, -73.95905625713571, 2053], [40.85217745777975, -73.92110732068406, 2049], [40.81672564793098, -73.96048635474924, 2039], [40.88289590450134, -73.8600345265709, 2028], [40.629561213686046, -73.94259458579054, 2015], [40.77737280100291, -73.94825824039015, 1976], [40.645270911454766, -73.94746607881874, 1957], [40.86793219141573, -73.92599466896426, 1955], [40.73725319647277, -73.86541907681531, 1942], [40.89077703649229, -73.86246900677736, 1933], [40.68850499943893, -73.91065341752899, 1932], [40.866356903473715, -73.8851732993563, 1931], [40.68143015425301, -73.87833427072088, 1919], [40.658630968710774, -73.94157048749169, 1914], [40.65627745491636, -73.93080129673297, 1877], [40.878964750411974, -73.90924589019862, 1873], [40.76634773525435, -73.96496216197336, 1870], [40.72938734531765, -73.86299204643572, 1868], [40.83484807832891, -73.87542995424305, 1839], [40.877383170059645, -73.8684160308666, 1839], [40.86162450380443, -73.86354726181403, 1835], [40.70422760065885, -73.91552021190155, 1833], [40.754563581292075, -73.91099748420822, 1833], [40.83011601025546, -73.85381958705473, 1829], [40.717541561139306, -74.01012468999326, 1827], [40.79782295730972, -73.97475203687152, 1781], [40.86790700711056, -73.82516250540982, 1773], [40.68375177552682, -73.98954866473906, 1769], [40.87423595028035, -73.8876111934982, 1760], [40.692417771604255, -73.96210023099063, 1756], [40.666488367504606, -73.9440071583513, 1739], [40.68690992665365, -73.97043651873959, 1729], [40.84666217557273, -73.92947657081446, 1724], [40.651511431544556, -74.00964165430362, 1722], [40.69792536152797, -73.95376204310934, 1714], [40.70578645857306, -73.95620281665516, 1711], [40.63264052918249, -74.023838075401, 1692], [40.68693080814135, -73.86998877745954, 1688], [40.723863798654364, -73.97187275909451, 1676], [40.66571077424797, -73.87348241911533, 1641], [40.822240729703864, -73.8513897208518, 1638], [40.850601018009236, -73.88029998132524, 1631], [40.81909808633295, -73.87056321484759, 1629], [40.764789783546895, -73.9242264903627, 1622], [40.62313557219022, -74.08109306085353, 1615], [40.6539230305956, -73.92003327683037, 1612], [40.578498919194814, -73.97689424372874, 1609], [40.63814874374994, -74.01551731876802, 1605], [40.79311172964596, -73.95314701177094, 1594], [40.857692476890215, -73.91273615818517, 1589], [40.75692224341925, -73.92178806798546, 1582], [40.896290198907174, -73.85408444936499, 1577], [40.64842083874053, -73.9283673880698, 1567], [40.68534243439025, -73.82932821106424, 1561], [40.762431080288984, -73.91343395497815, 1554], [40.64600276770482, -74.01796542743777, 1552], [40.77029931745996, -73.91587124718465, 1544], [40.663335263253906, -73.96311237929687, 1531], [40.678287481186985, -73.89744897038248, 1523], [40.572997506286505, -73.98520872107939, 1515], [40.63821062469729, -73.91517016238048, 1513], [40.65706867980246, -73.90092965001662, 1510], [40.60439418758977, -73.99497204768291, 1496], [40.88840837232645, -73.85165110851239, 1490], [40.631912738485845, -73.95335834712127, 1490], [40.668035911292954, -73.98465894768, 1488], [40.63481929750477, -74.13495639998477, 1482], [40.88448063321968, -73.9008686294569, 1457], [40.70893977416665, -73.93707996576418, 1451], [40.87501550844368, -73.85760086913739, 1444], [40.75927999024754, -73.93257982822426, 1443], [40.65471148228376, -73.89016320351188, 1434], [40.63883898039106, -74.08601069429248, 1429], [40.86557017216256, -73.91517828481871, 1403], [40.644352197448185, -74.07769573375066, 1396], [40.75376993809561, -73.94093126106601, 1393], [40.59730013658334, -73.76219229869344, 1383], [40.74511978717058, -73.867846925167, 1381], [40.67748111616934, -73.82690997001826, 1380], [40.823011029012086, -73.82141292145643, 1369], [40.760855186253295, -73.87270507740625, 1367], [40.64371116580356, -73.90683640472984, 1367], [40.85847859263733, -73.8827362287681, 1366], [40.7191570254184, -73.95030207190884, 1365], [40.70658414386775, -73.92629950200593, 1362], [40.615284976613566, -74.078635482647, 1360], [40.59419717707689, -73.98177203139994, 1356], [40.70496138864151, -73.78513869673739, 1353], [40.690839705354804, -73.82097661947495, 1351], [40.704167908350385, -74.01600847979245, 1345], [40.58165157935131, -73.95782418704566, 1343], [40.61070411172638, -73.95681053280659, 1340], [40.733294494579084, -73.81393526536962, 1335], [40.74118937795546, -73.91691368790532, 1332], [40.764767369657015, -73.8236158280825, 1330], [40.69397006205835, -73.80185289783518, 1327], [40.57615136617092, -73.96614132779875, 1320], [40.81673259495496, -73.85976135311674, 1312], [40.70420016668312, -73.81503992236846, 1308], [40.75849186665983, -73.86191648303539, 1301], [40.679050966005796, -73.96799431760914, 1291], [40.82539762667059, -73.93295532704686, 1289], [40.6507743102702, -73.93913463595439, 1287], [40.691602498568535, -73.79108384620253, 1286], [40.635802723116946, -74.00474849888404, 1278], [40.642117915555595, -73.9665624967611, 1271], [40.72702029834894, -73.95274336311812, 1270], [40.64130973556112, -73.99642506878817, 1261], [40.85374627519048, -73.86111411081755, 1248], [40.876600810695315, -73.89842794985789, 1236], [40.83957647406968, -73.89704505484018, 1229], [40.744337285450136, -73.8977743784313, 1225], [40.721510869265764, -73.96108682941502, 1223], [40.71680226747968, -73.93951848714897, 1218], [40.74275655408224, -73.85706223228271, 1210], [40.87264692716563, -73.84678689393489, 1209], [40.64921145184266, -73.89850075187152, 1202], [40.637999991544085, -74.11587181854632, 1198], [40.81752422890384, -73.93051227338314, 1188], [40.699465856105654, -73.79349674611116, 1186], [40.64999435910572, -73.86863383117894, 1184], [40.67273290989817, -74.0062101880679, 1179], [40.73961547296498, -73.87620299903325, 1177], [40.70813930768699, -73.9669848502124, 1175], [40.7128261824041, -73.78755127564737, 1175], [40.690069190900715, -73.85086914996671, 1169], [40.88052728166653, -73.84921859017174, 1164], [40.75689804107122, -73.82119446339968, 1153], [40.592651253187356, -73.9411842318793, 1151], [40.63270982905452, -73.92350202511717, 1150], [40.82146266052412, -73.88136625944885, 1140], [40.5840000822661, -73.9685778751707, 1123], [40.746696820705175, -73.9085618344685, 1122], [40.683739882849935, -73.78867175867961, 1116], [40.60755068043196, -73.97589242790326, 1108], [40.67984490380905, -73.83767790548947, 1103], [40.77265806162366, -73.92666573484021, 1102], [40.70973251279204, -73.90717477507079, 1100], [40.88603878797192, -73.84083439783454, 1088], [40.633967684959615, -74.16481517882343, 1084], [40.682207781930046, -73.84844701893198, 1082], [40.64446766145312, -73.97733053577036, 1080], [40.64135496512992, -73.89607267041245, 1075], [40.62720877940575, -73.93183199323389, 1073], [40.69400851685579, -73.90231023582788, 1070], [40.84350128830653, -73.84787445897156, 1070], [40.75139642549186, -73.82955778444422, 1069], [40.83562457548406, -73.84544490928415, 1063], [40.673543565515466, -73.97632758207465, 1062], [40.69320449400677, -73.83174726633652, 1051], [40.58715154186652, -73.94950515517058, 1048], [40.684569750163654, -73.85921730977805, 1039], [40.609898400342175, -73.986653095978, 1038], [40.74197683608044, -73.8869880997623, 1026], [40.67824246927823, -73.99788037621518, 1025], [40.63661305817993, -73.97488937382649, 1024], [40.63585537674907, -73.90440719804785, 1021], [40.62875919530003, -73.97244903222061, 1014], [40.68770626762741, -73.84009809140981, 1012], [40.84823535992727, -73.8694902892732, 1010], [40.66252800386955, -73.99298841472196, 1002], [40.68610739940704, -73.79943886507965, 1000], [40.633499219897566, -73.89364540523636, 999], [40.69556837261858, -73.84251909221747, 998], [40.763992736533424, -73.95416687579231, 998], [40.75220400423472, -73.90020807746548, 997], [40.692431203841416, -73.86164138616687, 989], [40.74354704274161, -73.92770154644333, 988], [40.63426335343912, -73.96412327665655, 987], [40.77580859145285, -73.90751409839365, 985], [40.651567696115364, -73.9092664283535, 978], [40.74664477312714, -74.00914047636303, 973], [40.73488430974409, -73.95518547663882, 970], [40.6995117769823, -73.89396515493917, 968], [40.78288494561718, -73.93990341959135, 965], [40.70106729478511, -73.83416713623781, 962], [40.707374102165176, -73.89639588701733, 962], [40.69709733645256, -73.78272693035508, 959], [40.867135848557474, -73.85516803406857, 955], [40.60674004757452, -74.00573310567724, 948], [40.609148874689865, -73.91621011056922, 946], [40.64997321805547, -73.96900253695026, 946], [40.61540236233788, -73.978332250365, 946], [40.84113287551008, -73.83706832187046, 944], [40.67119274479436, -73.96555293793008, 942], [40.598889724610345, -74.00328910577566, 938], [40.68297769155816, -73.8185595094976, 937], [40.612245210721206, -73.99741492904111, 937], [40.85611289344292, -73.87192457746747, 934], [40.76714757105887, -73.93502020244684, 934], [40.72702419963022, -73.85221125238502, 932], [40.88366828380076, -73.83001887531921, 931], [40.63029545952552, -74.01307003266255, 926], [40.73489000697298, -73.8546363336793, 918], [40.845868783236014, -73.85868178163048, 913], [40.68847400703179, -73.81020715220029, 909], [40.61775012341098, -73.98909485811704, 909], [40.62009697450859, -73.99985863109085, 907], [40.59654390534756, -73.99252998661173, 907], [40.58084556446309, -73.9876483237138, 905], [40.63649942222866, -74.07523762012576, 903], [40.62378543585135, -74.15156833097502, 899], [40.58556643434326, -73.80869908932479, 893], [40.60977361705682, -74.08694519977236, 883], [40.70969761191556, -73.80668340289009, 880], [40.63506321538409, -73.93426538922947, 874], [40.75771092801066, -73.89185241660068, 873], [40.611502131544974, -73.92696765395854, 872], [40.62478794531716, -74.02138967042072, 871], [40.58792875329444, -73.81944491283976, 860], [40.683789347019506, -73.8891061449568, 859], [40.594932247246405, -73.75144772491018, 857], [40.63248437935495, -74.12418141638636, 848], [40.61064177292136, -73.75625101222936, 847], [40.71045665913346, -73.7767787494232, 847], [40.58950099497131, -73.9602596151105, 838], [40.59417940936784, -73.78127873655058, 836], [40.626409531939785, -73.96168487623208, 834], [40.90180309393233, -73.84569797720526, 831], [40.69870246053607, -73.82339454342004, 828], [40.83088691821057, -73.82383773668215, 828], [40.810441764717446, -73.8981007036288, 819], [40.626117542036916, -74.1623428991454, 817], [40.597351152383695, -73.96269586108976, 810], [40.6279494787184, -74.00230315423681, 807], [40.61700178447868, -73.91863993197202, 805], [40.675116419379734, -73.8161432130856, 803], [40.814366186760736, -73.84896067482975, 802], [40.59815071278452, -73.93286141687784, 796], [40.846640909797756, -73.82868982451858, 794], [40.8702774265973, -73.83597410583417, 794], [40.660179088243765, -73.98221532229189, 793], [40.6570198437764, -74.00131598349746, 792], [40.646691792546214, -74.08847075033914, 791], [40.763217591499426, -73.88349485157869, 789], [40.60050206716652, -73.94361741930531, 785], [40.67589347379883, -73.98710339502709, 784], [40.71915913228882, -73.84978698799557, 782], [40.64606645712939, -73.91760131080522, 779], [40.60285251347878, -73.95437458899777, 777], [40.60204741815309, -73.98421215387368, 776], [40.59105561451215, -73.80036294254681, 774], [40.875787277150664, -73.82759027998175, 774], [40.68923402607093, -73.78031597609859, 773], [40.595001656781236, -73.95193946325352, 772], [40.62485543601122, -73.92107057002033, 772], [40.64056496337541, -73.92593429766582, 771], [40.64291839241674, -73.93669960333501, 766], [40.67900212441706, -73.76714109030554, 766], [40.619355084715004, -73.92939941494468, 765], [40.878157739092295, -73.83840384111703, 765], [40.59969973962938, -73.9734534248195, 763], [40.670384299826765, -73.7946132371026, 759], [40.760788203953915, -73.77210715266501, 759], [40.605202051355725, -73.96513292538673, 752], [40.68610081059607, -74.00032759129533, 752], [40.621707476281365, -73.94016006702478, 751], [40.61855645129109, -73.95924729508343, 749], [40.67824547858541, -73.79702564496937, 747], [40.67275081380919, -73.80537763525825, 745], [40.72466549971743, -73.94195782977722, 744], [40.676631883280805, -73.75637752946245, 738], [40.782083872660436, -73.96985544909508, 734], [40.88211573281905, -73.89004991160257, 734], [40.67038486695781, -73.99543398415946, 732], [40.69633671617068, -73.81262313043, 732], [40.68059055158757, -74.0086585250662, 728], [40.58869143884474, -73.78961753305403, 723], [40.788396830679275, -73.93154669172426, 721], [40.63896185234249, -73.98565663806063, 721], [40.76872399416723, -73.87513538210432, 721], [40.69235757026702, -73.76119084642028, 719], [40.712064358335226, -73.81745752841822, 718], [40.76239939379773, -73.8128292395504, 717], [40.673509631663194, -73.77549650235696, 713], [40.589208917752686, -74.16075996552199, 712], [40.70571488415166, -73.75523724770694, 707], [40.591849540163146, -73.97101524070983, 705], [40.69547803071458, -73.74206347991341, 703], [40.5641888998187, -74.11278063355225, 701], [40.77501588959422, -73.93746139943343, 699], [40.63345579125409, -73.9939808441173, 699], [40.886844612472615, -73.91168853153299, 695], [40.649164419813275, -73.99887011511306, 694], [40.6468542981446, -73.8877362479531, 691], [40.71443019411699, -73.82823283482404, 687], [40.72542812628644, -73.81151716335307, 687], [40.58869436422769, -73.99008874542335, 687], [40.697850233193115, -73.75283050826921, 686], [40.62713206429836, -74.03215693563413, 682], [40.6994705957096, -73.99444167288247, 679], [40.67114034639478, -73.76473370318338, 675], [40.64049385278792, -74.02628730319742, 673], [40.74825962762468, -73.94928078918478, 669], [40.713580277116925, -73.75764479808738, 668], [40.7080862262592, -73.76600740658765, 666], [40.76870181720305, -73.97575862231949, 663], [40.665648548103434, -73.77308798206937, 661], [40.675878009183265, -73.78626048314074, 661], [40.57584819764382, -74.16658560647696, 660], [40.64181856540554, -74.16728828888597, 656], [40.76793965747199, -73.90507793704046, 654], [40.73172715163123, -73.97431794817466, 647], [40.74274905936816, -73.95762841287764, 645], [40.629302489572034, -74.14326331458956, 643], [40.631142154509725, -73.88288478451392, 642], [40.68061203950015, -73.80779198727707, 641], [40.62405895881162, -73.95092188764362, 633], [40.58369324171087, -74.1690559596539, 631], [40.85137873825123, -73.85030482939324, 629], [40.76713443212517, -73.83440359975229, 629], [40.7167008078967, -73.73850860867427, 629], [40.856888427592864, -73.84192596614102, 624], [40.77816829256885, -73.91830936123439, 623], [40.625602587126124, -73.99153744069525, 623], [40.67670903744654, -73.85679404919529, 622], [40.674347114143025, -73.84602570304254, 621], [40.668770153747765, -73.75397208618487, 620], [40.613053691654564, -73.96757080840494, 619], [40.62864738585936, -74.07278033219745, 616], [40.70733111369416, -73.99688941212699, 609], [40.77892275953245, -73.98900639326243, 609], [40.72860606472712, -73.8929094398404, 607], [40.57694772059738, -73.83611001552723, 606], [40.7033426331813, -73.7444682733469, 602], [40.70022152725402, -73.76359872090218, 600], [40.70498104661735, -73.98610581467901, 595], [40.62244291526562, -74.01062356871576, 594], [40.59407604802325, -74.08203028931717, 592], [40.83011475573098, -73.95457284997781, 592], [40.71595166704897, -73.76841690387816, 585], [40.62800032918516, -73.90197880790433, 577], [40.5965445378584, -73.79202490672826, 571], [40.614591111204085, -74.00817792652234, 569], [40.663350759683155, -73.8627156087005, 569], [40.66801687780174, -73.7838500191845, 566], [40.74590379275409, -73.9384905803942, 556], [40.89392057299802, -73.84326577639459, 555], [40.75141314739644, -73.93014027635867, 555], [40.71679511889133, -73.83900932153936, 553], [40.78287539580534, -73.83925268442506, 552], [40.626968520546185, -74.13248911608127, 549], [40.76007146165394, -73.90264259686651, 545], [40.756125813206, -73.9517234208503, 544], [40.65785219595222, -73.87105771739, 543], [40.63498468732436, -74.03460728188021, 539], [40.7254035939159, -74.0125760262977, 539], [40.66884906592389, -73.85437160401548, 535], [40.71759562027398, -73.90960827337803, 534], [40.630148547385296, -74.11340759009893, 525], [40.71120797787675, -73.74687387706078, 524], [40.717562498653834, -73.80909987599422, 523], [40.63035553353267, -73.91273983115262, 522], [40.63098690686085, -74.0835514645997, 521], [40.736471305535794, -73.89534149935811, 521], [40.65616615996989, -73.73005165293118, 520], [40.608272879982366, -73.74550374199073, 519], [40.721446411855325, -73.76005315981193, 519], [40.74902945220625, -73.81877391498926, 518], [40.734110898639436, -73.88455717049288, 516], [40.71907406456742, -73.74928029145617, 515], [40.70501477928632, -73.88561817456845, 512], [40.71519479570091, -73.79832498469345, 508], [40.667255889053, -73.81372772983687, 506], [40.7435285316562, -73.82713610179051, 505], [40.7246601417507, -73.84143163774627, 504], [40.5996671222415, -73.77293805110415, 503], [40.76003050491779, -73.80204383472586, 500], [40.72310097176101, -73.90125980737048, 498], [40.66090916716522, -73.75156745250749, 497], [40.86239785072475, -73.83354519157832, 494], [40.616205920211556, -73.94848624678417, 487], [40.697931340821214, -73.85329209654981, 484], [40.70893083649136, -73.83658782117104, 483], [40.85451901171241, -73.83111709794215, 483], [40.749055441476806, -73.91935046730184, 480], [40.58136316971381, -74.15829072165378, 479], [40.68212315822979, -73.74801946061746, 477], [40.637153301471734, -74.14573254031842, 476], [40.8647673090618, -73.84435601939386, 475], [40.760025061971376, -74.00324943564166, 474], [40.7152371671697, -73.89882743769283, 471], [40.663279311101384, -73.76232712632219, 471], [40.85925692508074, -73.85273602095643, 470], [40.73883079876401, -73.90612700535283, 467], [40.58480118121396, -73.93875186145826, 459], [40.674260734691266, -73.74561515160187, 454], [40.61294553060916, -74.0678682318031, 453], [40.89865890417818, -73.86490431016527, 452], [40.710517523235616, -73.87726929442161, 451], [40.70883476969915, -73.7361041413641, 451], [40.59724663357098, -74.0629594293153, 449], [40.57754470352107, -74.10694138891066, 444], [40.730060847115276, -73.73254558264262, 444], [40.638997855475516, -73.88531010842136, 444], [40.86241551630037, -73.93436618758498, 442], [40.90417276117027, -73.85651861313804, 441], [40.710491242867484, -73.97776805489823, 440], [40.723884423476356, -73.8713458578538, 438], [40.67188867901854, -73.73485395728811, 437], [40.80885874717039, -73.85733117119683, 436], [40.658538116664744, -73.74080896118927, 436], [40.68998632447475, -73.75042457937303, 435], [40.70656595686814, -73.82581328173544, 434], [40.6640270477976, -73.7324524009703, 432], [40.5824383646791, -73.82777840860706, 430], [40.761636821408395, -73.94337276435117, 428], [40.68449435553156, -73.75878378274068, 428], [40.610419469701604, -74.15740082930722, 427], [40.71209001079872, -73.91795483815808, 427], [40.83876354521809, -73.82626337090076, 427], [40.60515457693598, -73.76459547642645, 427], [40.82774860002102, -73.84301617992412, 427], [40.62250118386879, -73.91031031671844, 425], [40.887630389465414, -73.88166995910034, 425], [40.74192305884269, -73.78642940482466, 424], [40.63163554449742, -74.15403866902905, 424], [40.70259191252691, -73.77436811724687, 423], [40.78524163190533, -73.85004554401775, 423], [40.60835362291885, -73.94605142413921, 421], [40.61762351069659, -74.08940389287046, 420], [40.76557908202874, -73.89428580498087, 416], [40.62325478511393, -73.98077289260885, 412], [40.77263743772841, -73.826038009442, 411], [40.65235337526236, -73.87939793037661, 409], [40.73568167651888, -73.92526363807171, 409], [40.70027817016744, -73.96454212959712, 406], [40.631107948526655, -73.9832143550392, 404], [40.60893437015393, -74.11678787233527, 404], [40.81513587785939, -73.81898892481757, 403], [40.70579423145748, -73.85571585908458, 403], [40.70815633314274, -73.86649198797637, 402], [40.73243511000893, -73.74331997495585, 400], [40.600417794882546, -73.74310363282058, 398], [40.756127633088596, -73.85112906903755, 396], [40.724567588077846, -73.74091388640443, 396], [40.68686464493529, -73.76954928808944, 396], [40.8017796431588, -73.92562863851361, 393], [40.73803838561982, -73.93605072192892, 392], [40.719929290892935, -73.8198759489821, 392], [40.71365786257528, -73.85814043797455, 391], [40.59104014254487, -74.00084592641305, 390], [40.65862800305439, -73.84118551508878, 389], [40.76950444245628, -73.94581509065677, 388], [40.754530110138, -73.81040982606521, 388], [40.583191301611095, -73.99840356718516, 386], [40.86399116339251, -73.87435968813907, 384], [40.80493092320867, -73.90646506274072, 383], [40.873448602965105, -73.91762123660165, 382], [40.65778820728364, -73.77068027230274, 378], [40.57768798975623, -74.00671649698099, 378], [40.51284795942633, -74.2469497390903, 374], [40.640335859119496, -74.12664758685919, 373], [40.84901028299649, -73.83949673376893, 370], [40.71202850371857, -74.01846011396843, 368], [40.77421543543356, -73.96740839315652, 365], [40.62090607304709, -73.97000951054822, 365], [40.66648718777333, -73.84360520189566, 363], [40.618268136872594, -74.15987144944289, 362], [40.70265454452374, -73.87484163829446, 358], [40.644496235388495, -73.87697291716648, 358], [40.57520912710287, -74.09618113842961, 356], [40.588565845759035, -74.0903358830956, 356], [40.59173762678867, -74.07126769719932, 353], [40.891550026822884, -73.83244829182976, 352], [40.701819709283896, -74.00522449215497, 351], [40.727794964122005, -73.82229518446319, 349], [40.69310492018891, -73.73129763639972, 348], [40.542753285752426, -74.21631514544535, 348], [40.71287780136745, -73.88804777785049, 348], [40.572033764605045, -74.11524130154568, 341], [40.613772167170055, -74.03802325906506, 339], [40.61693610142592, -74.01894208785095, 338], [40.88132776905939, -73.92006501394336, 337], [40.62145241564783, -74.14079491793215, 335], [40.78367826336036, -73.90995108133271, 334], [40.64117762529725, -74.09678492852889, 330], [40.75054582660599, -73.75891406388425, 329], [40.73092669976462, -73.80315647764496, 327], [40.635663210066866, -74.10509720834871, 327], [40.732525904834944, -73.84385477019545, 325], [40.81987336215442, -73.84058827048476, 323], [40.5696991358577, -74.10448183236139, 322], [40.61385448017422, -73.93772636621961, 322], [40.70096947371878, -73.73370048407284, 321], [40.67975105340018, -73.73725632228448, 321], [40.905759492442584, -73.89737101378115, 320], [40.6696205395776, -73.82449254279622, 318], [40.738793762886594, -73.8055734455161, 318], [40.77344797443439, -73.89672001387638, 317], [40.75766070338783, -73.79125961417829, 316], [40.59090240755066, -74.10109885235892, 314], [40.76636063165748, -73.86434483599453, 313], [40.66098983582924, -73.8519499738358, 311], [40.86002747391816, -73.82273555119615, 304], [40.740394180025554, -73.94683898038865, 301], [40.72694089301964, -73.75168751693448, 299], [40.621623349627754, -74.04047389976512, 298], [40.593418885914005, -73.81110952793563, 298], [40.652323004885766, -73.97977251845712, 297], [40.58634767734653, -73.97933272815284, 296], [40.777370736967576, -73.84761863979824, 295], [40.61126918146784, -74.12755703311119, 295], [40.71600118392775, -73.9694283932427, 293], [40.601924462754376, -74.08448733205677, 291], [40.64681649632761, -73.98809974207809, 290], [40.741161603297265, -73.81635418244717, 288], [40.72152223394021, -73.8605658336236, 287], [40.633325515051254, -74.09432375684156, 285], [40.80807910802591, -73.88729920761315, 284], [40.66639905409203, -73.74321165192586, 283], [40.722193373678714, -73.73014144225817, 282], [40.694727907716356, -73.77195829693612, 282], [40.72074156325932, -73.89047819947287, 279], [40.590299941967515, -73.93043016753523, 278], [40.833256205370965, -73.83464073003871, 278], [40.606002225597656, -73.93529348297169, 277], [40.601234634500585, -74.01404938832172, 276], [40.58305539741532, -74.0986395828604, 275], [40.76553063601187, -73.79367594067898, 275], [40.75376248590932, -73.84034283598366, 274], [40.549987569293805, -74.14842202392506, 273], [40.79074698594888, -73.84167845378559, 272], [40.78364265843445, -73.8093011160193, 271], [40.723060377291276, -73.80074032417174, 271], [40.54214551829083, -74.14595691689372, 268], [40.72545946711864, -73.9120425913492, 267], [40.79941982000956, -73.91482751359605, 266], [40.74510302327974, -73.96841901882222, 266], [40.60342061981731, -74.12509223322883, 266], [40.7285579937147, -73.7923788726592, 265], [40.730965515704185, -73.90369299645536, 263], [40.78440216549685, -73.77934931025457, 261], [40.82538027281615, -73.83221395786708, 257], [40.75528998957858, -73.7804765784766, 256], [40.740392407909304, -73.84627871929085, 251], [40.84427061902666, -73.81788410221566, 251], [40.665686043269595, -73.97388507920185, 250], [40.59958600367885, -74.07372280122622, 245], [40.76865878441421, -73.77452039089896, 243], [40.74891617059406, -73.7182059515171, 243], [40.733177710397115, -73.71340141418112, 241], [40.74825965073889, -73.84870348543673, 239], [40.55549948301204, -74.14012968195469, 239], [40.60490262971292, -74.16570093943453, 236], [40.71129480518348, -73.847363540107, 235], [40.68929095549475, -73.88076142140778, 235], [40.7631598761603, -73.78289095384314, 234], [40.82064086898015, -73.81061307126454, 234], [40.75841561976383, -73.76132453771298, 234], [40.71838124198203, -73.87969776822739, 233], [40.897877504138854, -73.8949298213347, 231], [40.89236119101144, -73.90331013409622, 231], [40.90968635053641, -73.84813100067504, 231], [40.74979151091982, -73.78884410236132, 230], [40.59256345459936, -73.74070433031608, 230], [40.58687789849503, -74.14999394221843, 229], [40.88526360722487, -73.87085164973907, 229], [40.614647575938626, -73.90788161867498, 229], [40.72768567468987, -73.7217723775234, 228], [40.726245700528274, -73.88212706011622, 226], [40.54447541319542, -74.15671247397931, 223], [40.56016032658823, -74.16164738500066, 219], [40.73642501079444, -73.79479389156603, 218], [40.77814018000959, -73.81767051496207, 218], [40.62781180195905, -74.1026349216978, 217], [40.597055404497155, -74.16323003797957, 217], [40.79151485504051, -73.8117218423658, 216], [40.74267677427308, -73.75650440274649, 213], [40.65067792264189, -73.73840707899227, 213], [40.59641355830646, -74.09279403955223, 212], [40.73792906228998, -73.73495053358641, 211], [40.60743512036508, -74.07617872957339, 210], [40.67198428139719, -73.83525853405375, 210], [40.56652258119591, -74.1235393210649, 210], [40.55464652018127, -74.16993815898358, 210], [40.66412440062533, -73.83283997670016, 209], [40.75366771691779, -73.73976286875838, 208], [40.53663406620614, -74.15424625887199, 206], [40.675080039748174, -74.01698755883253, 206], [40.6507695602195, -73.83876664221967, 206], [40.55059410122464, -74.21879214031597, 205], [40.57930723113312, -73.84685548706362, 204], [40.605754482665155, -74.13586061019872, 203], [40.58071887302564, -74.08787855145788, 203], [40.553785887046566, -74.1997462056764, 203], [40.7702694171667, -73.81524946904793, 203], [40.53026364413901, -74.1923268295113, 202], [40.552317500067225, -74.15917951588663, 201], [40.6050957121966, -74.06541341852399, 201], [40.786011682090844, -73.82009237769732, 201], [40.5468043978843, -74.16746918197424, 200], [40.58244991337908, -73.92799973454122, 200], [40.771030502886276, -73.78530614363241, 199], [40.61211120190831, -74.09771282854769, 199], [40.62079608857478, -74.07032386955879, 198], [40.57436748272648, -74.12600192564054, 197], [40.908124511442004, -73.90819562013435, 197], [40.60908499774254, -74.01649532728632, 195], [40.55145963517071, -74.1889860483971, 193], [40.561011153822136, -74.13183544776795, 191], [40.77653010500693, -73.77693444329431, 191], [40.573802905756175, -73.95538957649221, 188], [40.55783036017103, -74.15088795750997, 186], [40.78050824504994, -73.82846100788281, 185], [40.75291836386096, -73.76969472818925, 185], [40.54129105415014, -74.17575695607354, 184], [40.561854308259406, -74.10202310072218, 183], [40.59890876200823, -73.80277225360516, 182], [40.781272720787626, -73.79851103934617, 182], [40.79230724465316, -73.98310565091663, 181], [40.54594440011795, -74.19727225141993, 181], [40.74742084337603, -73.77806301712947, 181], [40.61593606518974, -74.14909882224032, 179], [40.71832214730232, -73.77919019386697, 178], [40.61360307993399, -74.1383273499379, 176], [40.738669480267184, -73.70502855194269, 175], [40.75916278993817, -73.73138925034414, 171], [40.734055347391106, -73.78401552116524, 171], [40.549132471996366, -74.17822704030488, 171], [40.639486390892905, -74.15650983681104, 170], [40.693959890676346, -74.00277562980635, 170], [40.81358872870988, -73.8789321654609, 170], [40.73566137778798, -73.82471523526479, 169], [40.597906624075804, -74.1333946983068, 169], [40.664890330192236, -73.8029640957421, 168], [40.83639329780208, -73.81545960663557, 166], [40.58835064803683, -74.19058989119797, 166], [40.77340722931203, -73.99735506320562, 165], [40.88999625085141, -73.89248945407833, 165], [40.84503217170126, -73.78789350278213, 165], [40.57930216896713, -73.94707166434598, 163], [40.76628615351195, -73.76373582463535, 161], [40.685241109342705, -73.72889559794419, 161], [40.538963015244775, -74.16500103241775, 158], [40.61911848178897, -74.13002266059274, 158], [40.6426708124298, -74.13742451271158, 158], [40.91364221552363, -73.89981303182743, 157], [40.563342977667666, -74.14259450654365, 155], [40.628448733842085, -74.17311862186688, 154], [40.90024248383186, -73.90575246418544, 154], [40.622297841644475, -74.11094418916124, 152], [40.71432664221409, -73.7277381120318, 151], [40.77108644188272, -73.88592710825569, 150], [40.656265261726816, -73.83042223302652, 150], [40.56248938190229, -74.17240796385283, 150], [40.624633637782686, -74.12171607408003, 150], [40.748172378184854, -73.74813458612917, 149], [40.75440932554997, -73.70983081023883, 149], [40.726188376799556, -73.7816024509802, 149], [40.76790048313762, -73.80446211260366, 148], [40.564817525751934, -74.18316969349209, 147], [40.60808743274739, -74.14663014241658, 147], [40.76163116373393, -73.8427672861863, 146], [40.82851671437431, -73.81303592978719, 145], [40.74342274932952, -73.7265791925366, 144], [40.773401308556885, -73.79609308226696, 144], [40.78914487246865, -73.80092981232073, 144], [40.7521612666307, -73.79962637219607, 144], [40.76950058083185, -73.8451925539895, 143], [40.78837979138591, -73.83088482380974, 143], [40.54765672822229, -74.13766568367248, 141], [40.6127505931655, -74.16817267029504, 140], [40.57381538063182, -73.85518444159582, 140], [40.6916501918556, -73.89153524105375, 140], [40.55697462927481, -74.18069795264194, 140], [40.5050114458302, -74.24446999123575, 139], [40.81750507808255, -73.8297880049492, 139], [40.56885535202894, -74.13429916268727, 138], [40.74104656963837, -73.7158032778319, 137], [40.64351535658347, -74.10756032226024, 136], [40.587947723487346, -73.91967727078892, 135], [40.55867841951428, -74.1210775423014, 135], [40.73555384114653, -73.72417537988147, 134], [40.52474957891701, -74.2006089294522, 134], [40.775771201054965, -73.8068812062334, 134], [40.7670339218952, -73.73379549630022, 133], [40.510527409246215, -74.23619624034987, 133], [40.61678363463748, -74.11925155953223, 133], [40.65304892376578, -73.74916362803009, 132], [40.73955243778737, -73.77565026939871, 132], [40.53112237249596, -74.16253370990738, 132], [40.619961132494694, -74.1001734618999, 131], [40.81120975591931, -73.96884491708377, 129], [40.620599294620185, -74.17064523096957, 129], [40.60426201043419, -74.09525302123407, 128], [40.54826970645915, -74.20803162196172, 128], [40.687614170709836, -73.73965949635947, 128], [40.80571553430287, -73.87649889283932, 126], [40.54042892464435, -74.2055565620122, 124], [40.5169110154711, -74.19813635602706, 123], [40.62947527184456, -74.04292536378405, 122], [40.78759793062822, -73.96150218435268, 122], [40.52155862287483, -74.21964306753428, 121], [40.58539101101608, -74.10940177077617, 121], [40.57287264033977, -74.08542204423306, 120], [40.73332405309091, -73.91447772938976, 119], [40.706460652955, -73.72533559156255, 118], [40.62547414343951, -74.09186341175786, 117], [40.85291083640139, -73.79031376038513, 117], [40.73252947064457, -73.944397994055, 116], [40.576951851478796, -73.93632030763946, 115], [40.614447874556255, -74.10848161532569, 114], [40.727817048963885, -73.92282655083757, 114], [40.53258888205251, -74.20308233131152, 114], [40.73480846299955, -73.75409555389729, 114], [40.67737804141309, -73.72649436830596, 114], [40.55611122726331, -74.21050751156778, 114], [40.7316847730471, -73.77323833488155, 113], [40.77890186952139, -73.78772214824797, 113], [40.538103652404274, -74.19479912616737, 113], [40.51836462909239, -74.23867488611776, 113], [40.73718090571603, -73.7648723189005, 110], [40.79388392317478, -73.82251505765848, 110], [40.59181337690471, -73.77053374363483, 110], [40.6971524972506, -73.88318938922231, 110], [40.65782926070484, -73.97144339762882, 109], [40.72937418244271, -73.96353006944172, 109], [40.595572797071725, -74.1226282605382, 108], [40.5783814382098, -74.07711867714129, 107], [40.60912602071761, -73.81593283577232, 105], [40.769409335688, -73.74457845098927, 105], [40.71444659581721, -73.92873607570803, 105], [40.730160890428074, -73.8330743869336, 104], [40.5293972545451, -74.22211950711315, 103], [40.71602000829777, -73.86891851420457, 102], [40.843505732975906, -73.94865599688833, 102], [40.70343121854862, -73.84494090831545, 101], [40.61142903772921, -74.02725871193934, 100], [40.53723662545411, -74.22459677642968, 99], [40.74030337345595, -73.74572687473018, 99], [40.78603800537934, -73.92074829753432, 98], [40.74653903205737, -73.70742927620502, 98], [40.811224196309574, -73.86813107701411, 96], [40.7206917175065, -73.78996466748718, 95], [40.51923527425382, -74.2088891386097, 93], [40.613009761663974, -73.76699946214107, 93], [40.58944644083737, -73.75978992854321, 93], [40.74589454759339, -73.8379192029769, 92], [40.543618182561445, -74.18651402926565, 91], [40.90102668843898, -73.87572535821924, 91], [40.57987936923175, -74.11770279510347, 90], [40.65313134739605, -73.84952915825367, 90], [40.74504926437014, -73.76728311706864, 90], [40.55316769547279, -74.1293725589083, 89], [40.52707387203359, -74.21136364499986, 89], [40.75129239900481, -73.72898381589026, 89], [40.756786513030065, -73.72060943563815, 88], [40.52388106097432, -74.23039814222626, 86], [40.53491320927757, -74.2138389804759, 86], [40.60723280525965, -74.17647199383353, 86], [40.88917856075409, -73.82163199624583, 85], [40.60404308792945, -74.19554083971309, 85], [40.535777469392535, -74.18404283848552, 84], [40.745798018968884, -73.73735629549107, 83], [40.76153815590234, -73.74217025379035, 82], [40.59472435027836, -74.15246207610303, 82], [40.62014602334492, -73.89955123389637, 80], [40.508205948712124, -74.2254438857814, 80], [40.78677397583034, -73.79013896809366, 79], [40.58479882699488, -73.83852464358996, 79], [40.56567389068916, -74.15335471805507, 79], [40.76465759671214, -73.72301373059666, 77], [40.5800769978812, -73.8170333473513, 74], [40.73326636427725, -74.01502818806924, 74], [40.567363596846796, -74.09372351866048, 73], [40.79311326540916, -73.85247326705345, 73], [40.502690928887375, -74.23371842439944, 72], [40.60679470997504, -73.90545373661952, 72], [40.89314478009749, -73.87328809205367, 70], [40.65541901876961, -73.75992135932147, 70], [40.63629891059611, -74.17559284339598, 70], [40.599385545753115, -74.17399915292405, 70], [40.556344775106034, -74.11032079071697, 68], [40.7442927685113, -73.79720972461061, 68], [40.700293398245826, -73.86406627876512, 68], [40.85689857815535, -73.9427357927625, 67], [40.812765761856205, -73.80819103066189, 67], [40.64830601576774, -73.72765171277123, 67], [40.77490579464127, -73.73620255416074, 65], [40.72230978691587, -73.931173469992, 65], [40.60363449581376, -73.82427047520372, 65], [40.86316341287021, -73.80354286988639, 64], [40.77500454445218, -73.83682773321567, 64], [40.5938682183514, -74.18229547007779, 63], [40.89551160277023, -73.88410836376504, 63], [40.71995316031207, -73.92039028433493, 62], [40.77728125604002, -73.74698746075768, 62], [40.83715424499767, -73.78547406271933, 61], [40.65936689510526, -74.01208946588727, 61], [40.55890428330714, -73.92071332962873, 60], [40.52561043768775, -74.17081927030023, 60], [40.55930182698682, -74.1914588962872, 60], [40.74666156642264, -73.80799122818834, 59], [40.53955913022221, -74.2353557185976, 59], [40.593445281274334, -73.9113529160894, 57], [40.894725209574204, -73.91413199857669, 57], [40.72229517204844, -73.83065320308896, 56], [40.601296706877555, -73.91378110540917, 56], [40.756042123961315, -73.75054310955495, 56], [40.603649920128575, -73.92453670987236, 53], [40.78131760499155, -73.89915504369341, 53], [40.56439999748952, -73.91239422885162, 53], [40.73017371692854, -73.93361168526361, 53], [40.664876007216215, -74.00376267434706, 51], [40.72931328813302, -73.76246233328233, 51], [40.66951571663289, -73.72409394708507, 51], [40.57118721195581, -74.14506015784598, 51], [40.72530959310415, -73.71100036016365, 50], [40.72381784938959, -73.77082721317547, 50], [40.53171972609175, -74.23287651521723, 48], [40.65549222609632, -73.86029285016616, 46], [40.797017763364344, -73.80334940159503, 46], [40.52620258819269, -74.24115436211078, 46], [40.606598646355074, -74.10601986818483, 45], [40.60171477368444, -74.18476942036064, 45], [40.62564421637871, -73.8912189559403, 44], [40.81826979309185, -73.79981440786328, 43], [40.59153902449205, -74.17152714166691, 43], [40.51604313510337, -74.22792059921684, 43], [40.497175671728925, -74.24199107344185, 43], [40.881296860185216, -73.81920454154127, 42], [40.60023953875889, -74.14416229109567, 42], [40.568323276020124, -73.86351150747703, 41], [40.56162811295647, -74.20222098934447, 40], [40.65385753115599, -74.02041435907763, 40], [40.76391261055082, -73.75295244540986, 39], [40.61060517304706, -74.05710214091194, 39], [40.79464682157765, -73.79255660357356, 38], [40.76228036051085, -73.71223315444541, 37], [40.59239238345868, -74.14169526786974, 36], [40.50733105250303, -74.25522270144673, 35], [40.53345037596955, -74.17328769954094, 35], [40.59579845069851, -73.92210658228335, 35], [40.60108584456641, -74.11432501208168, 34], [40.52242437555541, -74.1898553610446, 34], [40.637330667445696, -73.74435840507579, 33], [40.59875015727519, -74.10355894733152, 33], [40.64840686493477, -73.82800530263084, 33], [40.57670028985976, -74.13676370407275, 32], [40.5862283730972, -74.07957407114735, 32], [40.69479230608087, -73.87241479944173, 32], [40.56984059061197, -74.00427384037066, 31], [40.809630621406825, -73.82736287087899, 31], [40.6617607048484, -73.82207592899597, 30], [40.527937495897305, -74.18157247564959, 30], [40.75203122786996, -73.69905337471214, 29], [40.556552241475295, -73.90996817771524, 29], [40.622929538070274, -74.18142016624391, 29], [40.79938779063735, -73.81414338567764, 28], [40.54507673536835, -74.22707487589165, 27], [40.806492381662856, -73.84653244858214, 27], [40.53430420739523, -74.14349263600955, 26], [40.73080067041335, -73.70262863705075, 25], [40.612292459461266, -73.89712447562134, 25], [40.66015648893835, -73.78144036640974, 25], [40.59578125268247, -73.82185728865726, 24], [40.64283804986591, -74.03705845159992, 24], [40.53404128631378, -74.24363466873683, 24], [40.567541517791405, -73.89332655208572, 24], [40.667223097918004, -74.0145381005948, 23], [40.57065090285433, -73.97445657772424, 22], [40.596196498969164, -74.19306495017877, 22], [40.78052707741328, -73.92910580182499, 22], [40.77415742761554, -73.76614792505427, 22], [40.7717838377187, -73.75536259409652, 21], [40.576173034988074, -73.86593032086016, 21], [40.792274965648645, -73.78176499218351, 21], [40.58166583689556, -73.85760213096083, 20], [40.511397416171455, -74.20641546089823, 20], [40.55340831802378, -73.92903054177413, 19], [40.59109120487798, -73.9006004188631, 19], [40.65467188024801, -73.99054366749672, 19], [40.58221312387247, -74.12846535643487, 19], [40.79390845565489, -73.92318805649158, 19], [40.750614546985304, -73.9600721722415, 18], [40.60956206703692, -74.18724420095084, 18], [40.49949524538199, -74.25274185217711, 17], [40.58388998992817, -74.06881341708673, 17], [40.57145682157851, -73.84443973389013, 16], [40.57033298281371, -74.17487859698923, 16], [40.615080802776966, -74.17894566480388, 16], [40.88920767020682, -73.9225096172535, 15], [40.70263006531952, -73.97532338697795, 15], [40.580505535367, -74.18811566236214, 14], [40.59323805810914, -74.11186297836427, 14], [40.5473992731321, -74.23783575277552, 13], [40.662523863364314, -73.79220164107787, 13], [40.90260654147786, -73.91657629173959, 13], [40.579032185642845, -74.14752663626854, 13], [40.88680617516412, -73.81081689021755, 12], [40.69859540613484, -73.72293388044966, 12], [40.782029441839576, -73.76856083937294, 12], [40.513720730676546, -74.2171674572855, 11], [40.852148677811094, -73.82030941693367, 11], [40.89943250597889, -73.83487852992126, 10], [40.55083499791492, -74.11861658894384, 9], [40.616980703487116, -73.8183457057982, 9], [40.64527360085754, -73.84710915686678, 9], [40.63077901090453, -74.18389549856266, 9], [40.744160983766726, -73.6966537905196, 9], [40.645852173886006, -74.1183368749114, 9], [40.644149824647, -74.17806789596607, 8], [40.81039473044438, -73.79739432305362, 8], [40.68614762887076, -73.89987919408271, 8], [40.646805218259516, -73.78738088295006, 7], [40.86079023886115, -73.79273483593417, 7], [40.826145594233786, -73.80223530992612, 7], [40.78760695297946, -73.86083958608936, 6], [40.52009826230888, -74.17910294035099, 6], [40.645189423781886, -73.74676061235276, 6], [40.75450971726391, -74.01159316566698, 6], [40.5832032112018, -73.79795444090296, 6], [40.65939610081117, -73.81131305934956, 6], [40.60443963776685, -73.89469853267683, 6], [40.61845569295697, -74.05955583844715, 6], [40.90654150732044, -73.86734043714344, 6], [40.56204700559731, -73.90164830917176, 5], [40.80175690302547, -73.82493855525061, 5], [40.58283283533833, -74.19888241658697, 5], [40.779655805230064, -73.7577735560178, 5], [40.589398294966, -74.06050626377113, 5], [40.903393551317706, -73.88654759295025, 5], [40.884432870425584, -73.80000297431928, 4], [40.5832405662092, -73.898174982358, 4], [40.590677981642905, -74.20135858359053, 4], [40.798619314646785, -73.84410504170273, 4], [40.80098563724295, -73.85490180931116, 4], [40.565186670264346, -73.88258103384655, 4], [40.73802734902132, -73.83549638676162, 4], [40.50907319194774, -74.19566461062917, 3], [40.85053678943761, -73.77950887546945, 3], [40.77973601490431, -73.85841072861858, 3], [40.58088562814316, -73.88742559180642, 2], [40.86553566907747, -73.81435209323601, 2], [40.82459842649566, -73.96293445361829, 2], [40.60275539291493, -74.05464926719698, 2], [40.56125541965176, -73.93145964819942, 1], [40.682937720360876, -74.019437841007, 1], [40.58454596708096, -74.1392290723312, 1], [40.80412510015763, -73.83573490974268, 1], [40.6386292210445, -74.18637166216942, 1], [40.58003186906512, -74.0174721283892, 1], [40.68844893204949, -74.0111076857485, 1], [40.52879345933246, -74.15178087015825, 1], [40.78990219594882, -73.7709745679948, 1], [40.653793297450704, -73.71929552829633, 1], [40.79625207650049, -73.8333094576279, 1], [40.785153916723445, -73.74939728349844, 1], [40.79777568970789, -73.7733891113236, 1], [40.86867037884335, -73.79515672983527, 1], [40.60127208144932, -73.81352077661819, 1], [40.90890933201069, -73.87816344864491, 1]],\n",
       "                {\n",
       "  &quot;minOpacity&quot;: 0.5,\n",
       "  &quot;maxZoom&quot;: 18,\n",
       "  &quot;radius&quot;: 25,\n",
       "  &quot;blur&quot;: 15,\n",
       "}\n",
       "            );\n",
       "        \n",
       "    \n",
       "            heat_map_4e68d3ce52884b26d6072222a5efeb6b.addTo(map_722e202a84f5dd685531fc15d03a2874);\n",
       "        \n",
       "&lt;/script&gt;\n",
       "&lt;/html&gt;\" style=\"position:absolute;width:100%;height:100%;left:0;top:0;border:none !important;\" allowfullscreen webkitallowfullscreen mozallowfullscreen></iframe></div></div>"
      ],
      "text/plain": [
       "<folium.folium.Map at 0x269c4e97e60>"
      ]
     },
     "execution_count": 59,
     "metadata": {},
     "output_type": "execute_result"
    }
   ],
   "source": [
    "import folium\n",
    "import geopandas as gpd\n",
    "from shapely.geometry import Polygon\n",
    "import h3.api.basic_str as h3\n",
    "from folium.plugins import HeatMap\n",
    "\n",
    "# Convert H3 indexes to polygon geometries\n",
    "def h3_to_polygon(h3_index):\n",
    "    boundary = h3.cell_to_boundary(h3_index)  # Use the updated function\n",
    "    return Polygon(boundary)\n",
    "\n",
    "# Convert H3 indexes to latitude and longitude\n",
    "def h3_to_latlon(h3_index):\n",
    "    lat, lon = h3.cell_to_latlng(h3_index)\n",
    "    return lat, lon\n",
    "\n",
    "# Convert crime_density to GeoDataFrame\n",
    "crime_density[\"geometry\"] = crime_density[\"h3_index\"].apply(h3_to_polygon)\n",
    "crime_gdf = gpd.GeoDataFrame(crime_density, geometry=\"geometry\", crs=\"EPSG:4326\")\n",
    "\n",
    "# Create a base map\n",
    "m = folium.Map(location=[40.7128, -74.0060], zoom_start=11)  # Center on NYC\n",
    "\n",
    "# Prepare data for HeatMap\n",
    "heat_data = [[h3_to_latlon(row[\"h3_index\"])[0], h3_to_latlon(row[\"h3_index\"])[1], row[\"crime_count\"]] for index, row in crime_density.iterrows()]\n",
    "\n",
    "# Add HeatMap to the map\n",
    "HeatMap(heat_data).add_to(m)\n",
    "\n",
    "# Display the map\n",
    "m"
   ]
  },
  {
   "cell_type": "code",
   "execution_count": null,
   "metadata": {},
   "outputs": [],
   "source": []
  }
 ],
 "metadata": {
  "kernelspec": {
   "display_name": "Python 3",
   "language": "python",
   "name": "python3"
  },
  "language_info": {
   "codemirror_mode": {
    "name": "ipython",
    "version": 3
   },
   "file_extension": ".py",
   "mimetype": "text/x-python",
   "name": "python",
   "nbconvert_exporter": "python",
   "pygments_lexer": "ipython3",
   "version": "3.12.8"
  }
 },
 "nbformat": 4,
 "nbformat_minor": 2
}
